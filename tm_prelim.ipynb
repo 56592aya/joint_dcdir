{
 "cells": [
  {
   "cell_type": "markdown",
   "metadata": {},
   "source": [
    "# Introduction\n",
    "This is a preliminary topic modeling for the network data with behavior. For now we only focus on the individual behaviors. Individuals can tag products into their profiles. These products usually contain either a title or a description.\n",
    "\n",
    "We need to keep only the relevant individuals. That means indiduals who appear in our network.  Ideally product titles should be enough to determine the product basket of individuals. In some cases although the title is not given and hence we might have access to the description or vice versa. This way we can increment our tokens by filling the empty fields accordingly. For a better understanding we can see how sparse the information in the titles are. If needed we can sublement the text with the description too.\n",
    "\n",
    "Furthermore, we believe products with often tagging behavior from individuals are more informative about the nature of the topics. Hence, we discard the products that are only adopted for small number of times.\n",
    "\n",
    "In our context, individuals are the documents, a collection of words associated with the products they have adopted. Our goal is to uncover the common topics among these documents. Henceforth, individuals with little activity are commonly discarded as the document associated with them consists of only few words.\n",
    "\n"
   ]
  },
  {
   "cell_type": "code",
   "execution_count": 2,
   "metadata": {},
   "outputs": [
    {
     "name": "stderr",
     "output_type": "stream",
     "text": [
      "[nltk_data] Downloading package wordnet to\n",
      "[nltk_data]     /home/arashyazdiha/nltk_data...\n",
      "[nltk_data]   Package wordnet is already up-to-date!\n",
      "[nltk_data] Downloading package stopwords to\n",
      "[nltk_data]     /home/arashyazdiha/nltk_data...\n",
      "[nltk_data]   Package stopwords is already up-to-date!\n"
     ]
    },
    {
     "data": {
      "text/plain": [
       "True"
      ]
     },
     "execution_count": 2,
     "metadata": {},
     "output_type": "execute_result"
    }
   ],
   "source": [
    "import os\n",
    "import numpy as np\n",
    "import pandas as pd\n",
    "import matplotlib.pyplot as plt\n",
    "import string\n",
    "import nltk\n",
    "\n",
    "nltk.download('wordnet')\n",
    "nltk.download('stopwords')\n"
   ]
  },
  {
   "cell_type": "markdown",
   "metadata": {},
   "source": [
    "## Reading in the relevant data\n",
    "In this section we read in the product, individual product behavior, and network data."
   ]
  },
  {
   "cell_type": "code",
   "execution_count": 3,
   "metadata": {},
   "outputs": [],
   "source": [
    "dir_path = '../dcdir/data/NetworkData/'\n",
    "pp_dir = './pp.csv'\n",
    "product_ids_dir = './product_ids.csv'\n",
    "product_dir = os.path.join(dir_path, \"products.csv\")\n",
    "\n",
    "product_ids = pd.read_csv(product_ids_dir, header=None, low_memory=False, dtype=str).loc[:, 0]\n",
    "# print(product_ids[:3])\n",
    "person_products = pd.read_csv(pp_dir, index_col=False, low_memory=False, dtype={'productId':str})\n",
    "# print(person_products.head(3))\n",
    "products_raw = pd.read_csv(product_dir, index_col=False, low_memory=False, dtype={'id':str})\n",
    "products = products_raw.drop(columns=['discoveredSince', 'hivesNumber', 'lastRefreshDate', 'originator', 'profile', 'url'])\n",
    "\n"
   ]
  },
  {
   "cell_type": "markdown",
   "metadata": {},
   "source": [
    "Next we try to keep only relevant observations. We do not want those with too dew actions or products with too few copies. So we plot how the counts look like."
   ]
  },
  {
   "cell_type": "code",
   "execution_count": 4,
   "metadata": {},
   "outputs": [
    {
     "name": "stdout",
     "output_type": "stream",
     "text": [
      "  productId         personId\n",
      "0       330  melodyjoyangel7\n",
      "1       330       ARTandSOUL\n",
      "2       330           olgirl\n",
      "3       330         stylebee\n",
      "4       330     aloudallowed\n",
      "5       330      nondescript\n",
      "6       330   HippiePrincess\n",
      "7       330     BaltimoreGal\n",
      "8       330              Bex\n",
      "9       330        julie3jax\n"
     ]
    },
    {
     "data": {
      "text/plain": [
       "[<matplotlib.lines.Line2D at 0x7f2497042908>]"
      ]
     },
     "execution_count": 4,
     "metadata": {},
     "output_type": "execute_result"
    },
    {
     "data": {
      "image/png": "[encoded data removed]",
      "text/plain": [
       "<Figure size 432x288 with 1 Axes>"
      ]
     },
     "metadata": {
      "needs_background": "light"
     },
     "output_type": "display_data"
    }
   ],
   "source": [
    "# products_raw.dtypes\n",
    "print(person_products.head(10))\n",
    "product_counts = person_products.productId.value_counts()\n",
    "\n",
    "plt.plot(range(len(product_counts)), np.log(product_counts))\n",
    "# print(max(product_counts[16000:20000]))\n",
    "# print(min(product_counts))\n",
    "# print(max(action_counts[17000:20000]))\n"
   ]
  },
  {
   "cell_type": "code",
   "execution_count": 80,
   "metadata": {},
   "outputs": [
    {
     "data": {
      "text/plain": [
       "(382043, 2)"
      ]
     },
     "execution_count": 80,
     "metadata": {},
     "output_type": "execute_result"
    }
   ],
   "source": [
    "person_products.shape"
   ]
  },
  {
   "cell_type": "markdown",
   "metadata": {},
   "source": [
    "To filter out the relevant ones, we do the following:"
   ]
  },
  {
   "cell_type": "code",
   "execution_count": 5,
   "metadata": {},
   "outputs": [
    {
     "name": "stdout",
     "output_type": "stream",
     "text": [
      "minimum of product counts is 6\n",
      "minimum of individual action counts is 5\n"
     ]
    },
    {
     "data": {
      "image/png": "[encoded data removed]",
      "text/plain": [
       "<Figure size 432x288 with 1 Axes>"
      ]
     },
     "metadata": {
      "needs_background": "light"
     },
     "output_type": "display_data"
    }
   ],
   "source": [
    "action_counts = person_products.personId.value_counts()\n",
    "\n",
    "pp = person_products[person_products.groupby(\"personId\")[\"personId\"].transform('size') > 4]\n",
    "pp = pp[pp.groupby(\"productId\")[\"productId\"].transform('size') > 4]\n",
    "\n",
    "product_counts = pp.productId.value_counts()\n",
    "plt.plot(range(len(product_counts)), np.log(product_counts))\n",
    "print(\"minimum of product counts is {}\".format(min(product_counts)))\n",
    "\n",
    "action_counts = pp.personId.value_counts()\n",
    "plt.plot(range(len(action_counts)), np.log(action_counts))\n",
    "min(action_counts)\n",
    "print(\"minimum of individual action counts is {}\".format(min(action_counts)))"
   ]
  },
  {
   "cell_type": "markdown",
   "metadata": {},
   "source": [
    "We can trim the products dataframe more by only keeping the relevant products."
   ]
  },
  {
   "cell_type": "code",
   "execution_count": 6,
   "metadata": {},
   "outputs": [
    {
     "data": {
      "text/plain": [
       "(23451, 3)"
      ]
     },
     "execution_count": 6,
     "metadata": {},
     "output_type": "execute_result"
    }
   ],
   "source": [
    "unique_products = pp.productId.unique()\n",
    "products = products.loc[products['id'].isin(unique_products)]\n",
    "products.shape\n"
   ]
  },
  {
   "cell_type": "markdown",
   "metadata": {},
   "source": [
    "# Constructing the text data\n",
    "In this section we take a look at the available text data. This includes texts from the titles of the products and their description. To see how we should use such information. We first take a look at their availability for the products under investigation. We expect to have empty values for either of title or description data."
   ]
  },
  {
   "cell_type": "code",
   "execution_count": 7,
   "metadata": {},
   "outputs": [
    {
     "name": "stdout",
     "output_type": "stream",
     "text": [
      "there are 0 empty texts in title\n",
      "there are 7156 empty texts in description\n"
     ]
    }
   ],
   "source": [
    "#first fill null values to \"\"\n",
    "products.title.fillna(\"\", inplace=True)\n",
    "products.description.fillna(\"\", inplace=True)\n",
    "def empty_text(text):\n",
    "    return (len(text.split()) == 0)\n",
    "    \n",
    "\n",
    "print(\"there are {} empty texts in title\".format(products.title.apply(empty_text).sum()))\n",
    "print(\"there are {} empty texts in description\".format(products.description.apply(empty_text).sum()))"
   ]
  },
  {
   "cell_type": "markdown",
   "metadata": {},
   "source": [
    "The above shows that there are quite some products around ~30% of the descriptions are empty.\n",
    "So we replace the descriptions in those cases with the title"
   ]
  },
  {
   "cell_type": "code",
   "execution_count": 8,
   "metadata": {
    "scrolled": true
   },
   "outputs": [
    {
     "name": "stdout",
     "output_type": "stream",
     "text": [
      "there are 0 empty texts in description\n"
     ]
    }
   ],
   "source": [
    "products.loc[products.description == \"\", [\"description\"]] = products.title\n",
    "print(\"there are {} empty texts in description\".format(products.description.apply(empty_text).sum()))"
   ]
  },
  {
   "cell_type": "markdown",
   "metadata": {},
   "source": [
    "Another option is to conjoin the texts from both fields(maybe later)"
   ]
  },
  {
   "cell_type": "code",
   "execution_count": 9,
   "metadata": {},
   "outputs": [
    {
     "data": {
      "text/plain": [
       "array(['id', 'dtext', 'ttext', 'text'], dtype=object)"
      ]
     },
     "execution_count": 9,
     "metadata": {},
     "output_type": "execute_result"
    }
   ],
   "source": [
    "products['text'] = products.description + ' ' + products.title\n",
    "products = products.rename(columns = {'title':'ttext', 'description':'dtext'})\n",
    "products.columns.values\n"
   ]
  },
  {
   "cell_type": "markdown",
   "metadata": {},
   "source": [
    "# Text Cleaning\n",
    "\n",
    "Text preparation includes filtering eligible charactgers, converting to lower case, removing duplicates, and stopwords, lemmatizing and stemming. For now we only take a look into the title text of the products.\n"
   ]
  },
  {
   "cell_type": "code",
   "execution_count": 10,
   "metadata": {
    "scrolled": true
   },
   "outputs": [],
   "source": [
    "from nltk.tokenize import RegexpTokenizer\n",
    "from stop_words import get_stop_words\n",
    "# from nltk.stem.porter import PorterStemmer\n",
    "from nltk.stem.wordnet import WordNetLemmatizer\n",
    "\n",
    "\n",
    "tokenizer = RegexpTokenizer(r'\\w+')\n",
    "en_stop = get_stop_words('en')\n",
    "# stemmer = PorterStemmer()\n",
    "lemmer = WordNetLemmatizer()\n",
    "\n",
    "# print(tokenizer.tokenize(temp_text.lower()))\n",
    "# print([i for i in tokenizer.tokenize(temp_text.lower()) if not i in en_stop])\n"
   ]
  },
  {
   "cell_type": "code",
   "execution_count": 11,
   "metadata": {},
   "outputs": [],
   "source": [
    "products.ttext = products.ttext.apply(lambda x: x.lower())\n",
    "products.ttext = products.ttext.apply(lambda x: tokenizer.tokenize(x))"
   ]
  },
  {
   "cell_type": "code",
   "execution_count": null,
   "metadata": {},
   "outputs": [],
   "source": []
  },
  {
   "cell_type": "code",
   "execution_count": 12,
   "metadata": {},
   "outputs": [],
   "source": [
    "def preprocess(text):\n",
    "    token_list = [token for token in text if token not in en_stop]\n",
    "    token_list = [token for token in token_list if len(token) > 2]\n",
    "    token_list = [token for token in token_list if not token.isnumeric()]\n",
    "    token_list = [lemmer.lemmatize(token) for token in token_list]\n",
    "    return token_list"
   ]
  },
  {
   "cell_type": "markdown",
   "metadata": {},
   "source": [
    "Check few rows:"
   ]
  },
  {
   "cell_type": "code",
   "execution_count": 13,
   "metadata": {
    "scrolled": true
   },
   "outputs": [
    {
     "name": "stdout",
     "output_type": "stream",
     "text": [
      "4             [mary, angus, art, glass, perfume, bottle]\n",
      "11                     [neo, geo, sphere, glass, vessel]\n",
      "13                     [bobtanicals, duo, glass, vessel]\n",
      "15                            [dotty, pillow, set, wool]\n",
      "59                 [brad, reed, nelson, asian, inspired]\n",
      "180                           [nfridge, modular, fridge]\n",
      "479     [twilight, three, light, chandelier, chandelier]\n",
      "734                       [etsy, blue, kokeshi, earring]\n",
      "791    [juicy, couture, belted, velvet, jacket, nords...\n",
      "881                                    [workplace, dish]\n",
      "Name: ttext, dtype: object\n"
     ]
    }
   ],
   "source": [
    "products['ttext'] = products.ttext.apply(preprocess)\n",
    "print(products.ttext[:10])"
   ]
  },
  {
   "cell_type": "markdown",
   "metadata": {},
   "source": [
    "Now The documents are the collection of the ones an individual has adopted. This means for each individual we need all their actions, and then combining all the keywords from those actions."
   ]
  },
  {
   "cell_type": "code",
   "execution_count": 15,
   "metadata": {},
   "outputs": [
    {
     "name": "stdout",
     "output_type": "stream",
     "text": [
      "4      [mary, angus, art, glass, perfume, bottle, art...\n",
      "11                     [neo, geo, sphere, glass, vessel]\n",
      "13                     [bobtanicals, duo, glass, vessel]\n",
      "15                            [dotty, pillow, set, wool]\n",
      "59                 [brad, reed, nelson, asian, inspired]\n",
      "180                           [nfridge, modular, fridge]\n",
      "479     [twilight, three, light, chandelier, chandelier]\n",
      "734                       [etsy, blue, kokeshi, earring]\n",
      "791    [juicy, couture, belted, velvet, jacket, nords...\n",
      "881                                    [workplace, dish]\n",
      "Name: ttext, dtype: object\n"
     ]
    }
   ],
   "source": [
    "from gensim.models import Phrases\n",
    "\n",
    "\n",
    "bigram = Phrases(products.ttext, min_count=20)\n",
    "for i in range(products.shape[0]):\n",
    "    rowIndex = products.index[i]\n",
    "    for token in bigram[products.loc[rowIndex,'ttext']]:\n",
    "        if '_' in token:\n",
    "            products.loc[rowIndex,'ttext'].append(token)\n",
    "\n",
    "print(products.ttext.head(10))\n"
   ]
  },
  {
   "cell_type": "code",
   "execution_count": 16,
   "metadata": {},
   "outputs": [
    {
     "name": "stdout",
     "output_type": "stream",
     "text": [
      "       productId  personId\n",
      "382041    216017  ZUBURBIA\n",
      "382042    294724  ZUBURBIA\n",
      "        id                                              dtext  \\\n",
      "4   100002  Mary Angus \"I love the perfume bottle. It's a ...   \n",
      "11  100005  \"Neo-Geo Spheres\" Glass Vessels By: Eric Bladholm   \n",
      "\n",
      "                                                ttext  \\\n",
      "4   [mary, angus, art, glass, perfume, bottle, art...   \n",
      "11                  [neo, geo, sphere, glass, vessel]   \n",
      "\n",
      "                                                 text  \n",
      "4   Mary Angus \"I love the perfume bottle. It's a ...  \n",
      "11  \"Neo-Geo Spheres\" Glass Vessels By: Eric Bladh...  \n"
     ]
    }
   ],
   "source": [
    "print(pp.tail(2))\n",
    "print(products.head(2))"
   ]
  },
  {
   "cell_type": "code",
   "execution_count": 92,
   "metadata": {},
   "outputs": [
    {
     "data": {
      "text/plain": [
       "productId    object\n",
       "personId     object\n",
       "dtype: object"
      ]
     },
     "execution_count": 92,
     "metadata": {},
     "output_type": "execute_result"
    }
   ],
   "source": [
    "# pp = pp.dropna(axis='rows')\n",
    "# person_products['productId']=person_products['productId'].astype(str)\n",
    "# person_products.dtypes\n",
    "products.dtypes\n",
    "pp.dtypes"
   ]
  },
  {
   "cell_type": "code",
   "execution_count": 17,
   "metadata": {},
   "outputs": [],
   "source": [
    "# temp_df = pp.drop(columns=['id','hivedSince'])\n",
    "\n",
    "# temp_df['personId']=temp_df['personId'].astype(str)\n",
    "ind_products = pp.groupby('personId').productId.apply(list).reset_index()\n",
    "ind_products['texts']= [[] for _ in range(len(ind_products))]\n"
   ]
  },
  {
   "cell_type": "markdown",
   "metadata": {},
   "source": [
    "Before creating the individual words, It is more efficient to create a dictionary of each product words."
   ]
  },
  {
   "cell_type": "code",
   "execution_count": 18,
   "metadata": {},
   "outputs": [],
   "source": [
    "product_word_dict = dict(zip(products.id, products.ttext))"
   ]
  },
  {
   "cell_type": "code",
   "execution_count": 19,
   "metadata": {},
   "outputs": [],
   "source": [
    "# Note the rowIndex\n",
    "for i in range(ind_products.shape[0]):\n",
    "    rowIndex = ind_products.index[i]\n",
    "    text_temp=[]\n",
    "    for pid in ind_products.loc[rowIndex,'productId']:\n",
    "        if not product_word_dict[pid]:\n",
    "            pass\n",
    "        text_temp = text_temp + product_word_dict[pid]\n",
    "    ind_products.loc[rowIndex,'texts'] = text_temp\n",
    "#     if i % 1000 == 0:\n",
    "#         print(i)"
   ]
  },
  {
   "cell_type": "code",
   "execution_count": null,
   "metadata": {},
   "outputs": [],
   "source": []
  },
  {
   "cell_type": "markdown",
   "metadata": {},
   "source": []
  },
  {
   "cell_type": "code",
   "execution_count": 96,
   "metadata": {
    "scrolled": true
   },
   "outputs": [
    {
     "data": {
      "text/html": [
       "<div>\n",
       "<style scoped>\n",
       "    .dataframe tbody tr th:only-of-type {\n",
       "        vertical-align: middle;\n",
       "    }\n",
       "\n",
       "    .dataframe tbody tr th {\n",
       "        vertical-align: top;\n",
       "    }\n",
       "\n",
       "    .dataframe thead th {\n",
       "        text-align: right;\n",
       "    }\n",
       "</style>\n",
       "<table border=\"1\" class=\"dataframe\">\n",
       "  <thead>\n",
       "    <tr style=\"text-align: right;\">\n",
       "      <th></th>\n",
       "      <th>personId</th>\n",
       "      <th>productId</th>\n",
       "      <th>texts</th>\n",
       "    </tr>\n",
       "  </thead>\n",
       "  <tbody>\n",
       "    <tr>\n",
       "      <th>0</th>\n",
       "      <td>011385</td>\n",
       "      <td>[224397, 299297, 308971, 308964, 308967, 32839...</td>\n",
       "      <td>[diane, von, furstenberg, joelle, crochet, kni...</td>\n",
       "    </tr>\n",
       "    <tr>\n",
       "      <th>1</th>\n",
       "      <td>0181396841</td>\n",
       "      <td>[575978, 583234, 592388, 512300, 562082, 56341...</td>\n",
       "      <td>[petite, vined, crystal, headwrap, jennifer, b...</td>\n",
       "    </tr>\n",
       "  </tbody>\n",
       "</table>\n",
       "</div>"
      ],
      "text/plain": [
       "     personId                                          productId  \\\n",
       "0      011385  [224397, 299297, 308971, 308964, 308967, 32839...   \n",
       "1  0181396841  [575978, 583234, 592388, 512300, 562082, 56341...   \n",
       "\n",
       "                                               texts  \n",
       "0  [diane, von, furstenberg, joelle, crochet, kni...  \n",
       "1  [petite, vined, crystal, headwrap, jennifer, b...  "
      ]
     },
     "execution_count": 96,
     "metadata": {},
     "output_type": "execute_result"
    }
   ],
   "source": [
    "ind_products.head(2)\n",
    "# ind_products.to_csv(\"./ind_products.csv\")"
   ]
  },
  {
   "cell_type": "markdown",
   "metadata": {},
   "source": [
    "We are further interested in creating the bag of words; namely a dictionary with the counts."
   ]
  },
  {
   "cell_type": "code",
   "execution_count": 20,
   "metadata": {},
   "outputs": [
    {
     "data": {
      "text/plain": [
       "0    [diane, von, furstenberg, joelle, crochet, kni...\n",
       "1    [petite, vined, crystal, headwrap, jennifer, b...\n",
       "2    [mechante, london, interior, design, room, ben...\n",
       "3    [betsey, johnson, tiered, voile, ruffle, dress...\n",
       "4    [seychelles, bikini, heidi, klein, burberry, l...\n",
       "5    [christian, lacroix, silk, kimono, gown, chris...\n",
       "6    [cloud, bed, canopy, style, luxurylaunches, co...\n",
       "7    [original, turquoise, resin, cuff, listing, le...\n",
       "8    [woman, aerie, sport, short, american, eagle, ...\n",
       "9    [vintage, 1960s, mod, dangling, pierced, earri...\n",
       "Name: texts, dtype: object"
      ]
     },
     "execution_count": 20,
     "metadata": {},
     "output_type": "execute_result"
    }
   ],
   "source": [
    "\n",
    "docs = ind_products.copy()\n",
    "##not sure wether it should be unique occurences\n",
    "##the unique words were chosen in the previous setup\n",
    "# docs.texts.apply(lambda x: list(set(x)))\n",
    "docs = docs.texts\n",
    "# type(docs)\n",
    "docs.head(10)"
   ]
  },
  {
   "cell_type": "code",
   "execution_count": 25,
   "metadata": {},
   "outputs": [],
   "source": [
    "docs.to_csv(\"docs.csv\", index=False)"
   ]
  },
  {
   "cell_type": "code",
   "execution_count": 22,
   "metadata": {},
   "outputs": [
    {
     "name": "stdout",
     "output_type": "stream",
     "text": [
      "0 arm\n",
      "1 black\n",
      "2 bohinc\n",
      "3 bolle\n",
      "4 bottle\n",
      "5 bracelet\n",
      "6 brown\n",
      "7 cardigan\n",
      "8 centenary\n",
      "9 chandelier\n",
      "10 christian\n"
     ]
    }
   ],
   "source": [
    "import gensim\n",
    "from gensim.utils import simple_preprocess\n",
    "from gensim.parsing.preprocessing import STOPWORDS\n",
    "from gensim import corpora, models\n",
    "from pprint import pprint\n",
    "word_dict = gensim.corpora.Dictionary(docs)\n",
    "count = 0\n",
    "for k, v in word_dict.iteritems():\n",
    "    print(k, v)\n",
    "    count += 1\n",
    "    if count > 10:\n",
    "        break"
   ]
  },
  {
   "cell_type": "code",
   "execution_count": 24,
   "metadata": {},
   "outputs": [
    {
     "data": {
      "text/plain": [
       "18346"
      ]
     },
     "execution_count": 24,
     "metadata": {},
     "output_type": "execute_result"
    }
   ],
   "source": [
    "len(word_dict)"
   ]
  },
  {
   "cell_type": "markdown",
   "metadata": {},
   "source": [
    "Here we want to get rid of some extreme cases, removing those tokens that have appeared in less that 15 docs, and also not more than 50% in all docs."
   ]
  },
  {
   "cell_type": "code",
   "execution_count": 23,
   "metadata": {},
   "outputs": [
    {
     "data": {
      "text/plain": [
       "18346"
      ]
     },
     "execution_count": 23,
     "metadata": {},
     "output_type": "execute_result"
    }
   ],
   "source": [
    "# word_dict.filter_extremes(no_below=15, no_above=0.5)\n",
    "word_dict.filter_extremes(no_below=10)\n",
    "len(word_dict)"
   ]
  },
  {
   "cell_type": "code",
   "execution_count": 26,
   "metadata": {},
   "outputs": [],
   "source": [
    "import csv\n",
    "w = csv.writer(open(\"word_dict.csv\", \"w\"))\n",
    "for key, val in word_dict.items():\n",
    "    w.writerow([key, val])"
   ]
  },
  {
   "cell_type": "code",
   "execution_count": 101,
   "metadata": {
    "scrolled": true
   },
   "outputs": [],
   "source": [
    "bow_corpus = [word_dict.doc2bow(doc) for doc in docs]\n",
    "# print(bow_corpus[12])\n",
    "# temp_bow = bow_corpus[12]\n",
    "# for i in range(len(temp_bow)):\n",
    "#     print(\"Word {} (\\\"{}\\\") appears {} time.\".format(temp_bow[i][0], \n",
    "#                                                      word_dict[temp_bow[i][0]],\n",
    "#                                                      temp_bow[i][1]))"
   ]
  },
  {
   "cell_type": "code",
   "execution_count": 102,
   "metadata": {
    "scrolled": true
   },
   "outputs": [],
   "source": [
    "tfidf = models.TfidfModel(bow_corpus)\n",
    "corpus_tfidf = tfidf[bow_corpus]\n",
    "\n",
    "# for doc in corpus_tfidf:\n",
    "#     pprint(doc)\n",
    "#     break"
   ]
  },
  {
   "cell_type": "markdown",
   "metadata": {},
   "source": [
    "Running lda with bow"
   ]
  },
  {
   "cell_type": "code",
   "execution_count": 127,
   "metadata": {},
   "outputs": [],
   "source": [
    "lda_model = gensim.models.LdaMulticore(bow_corpus, num_topics=5, id2word=word_dict, passes=50, workers=8, alpha=0.001,eval_every=10)"
   ]
  },
  {
   "cell_type": "code",
   "execution_count": 128,
   "metadata": {},
   "outputs": [
    {
     "name": "stdout",
     "output_type": "stream",
     "text": [
      "Topic: 0 \n",
      "Words: 0.011*\"fashion\" + 0.011*\"collection\" + 0.009*\"woman\" + 0.009*\"shoe\" + 0.006*\"lingerie\" + 0.006*\"black\" + 0.005*\"top\" + 0.005*\"couture\" + 0.005*\"style\" + 0.005*\"designer\"\n",
      "Topic: 1 \n",
      "Words: 0.042*\"glass\" + 0.036*\"lampwork\" + 0.031*\"pendant\" + 0.029*\"bead\" + 0.024*\"ega\" + 0.024*\"mixtgoods\" + 0.024*\"mixtgoods_product\" + 0.024*\"product\" + 0.024*\"detail\" + 0.019*\"dichroic\"\n",
      "Topic: 2 \n",
      "Words: 0.010*\"woman\" + 0.010*\"clothing\" + 0.009*\"net\" + 0.009*\"porter\" + 0.009*\"net_porter\" + 0.008*\"designer\" + 0.007*\"saks\" + 0.007*\"shoe\" + 0.007*\"shopbop_com\" + 0.007*\"shopbop\"\n",
      "Topic: 3 \n",
      "Words: 0.013*\"design\" + 0.012*\"ring\" + 0.009*\"home\" + 0.007*\"necklace\" + 0.006*\"art\" + 0.005*\"glass\" + 0.005*\"furniture\" + 0.005*\"modern\" + 0.005*\"set\" + 0.004*\"jewelry\"\n",
      "Topic: 4 \n",
      "Words: 0.011*\"design\" + 0.009*\"home\" + 0.008*\"bed\" + 0.008*\"vintage\" + 0.007*\"furniture\" + 0.006*\"black\" + 0.006*\"modern\" + 0.006*\"chair\" + 0.005*\"table\" + 0.005*\"necklace\"\n"
     ]
    }
   ],
   "source": [
    "for idx, topic in lda_model.print_topics(-1):\n",
    "    print('Topic: {} \\nWords: {}'.format(idx, topic))"
   ]
  },
  {
   "cell_type": "markdown",
   "metadata": {},
   "source": [
    "A bit of viz:"
   ]
  },
  {
   "cell_type": "code",
   "execution_count": 109,
   "metadata": {},
   "outputs": [],
   "source": []
  },
  {
   "cell_type": "code",
   "execution_count": 129,
   "metadata": {},
   "outputs": [
    {
     "data": {
      "text/html": [
       "\n",
       "<link rel=\"stylesheet\" type=\"text/css\" href=\"https://cdn.rawgit.com/bmabey/pyLDAvis/files/ldavis.v1.0.0.css\">\n",
       "\n",
       "\n",
       "<div id=\"ldavis_el483013989059376242446303171\"></div>\n",
       "<script type=\"text/javascript\">\n",
       "\n",
       "var ldavis_el483013989059376242446303171_data = {\"mdsDat\": {\"x\": [-0.15279104662582105, -0.14700753983569045, 0.00026152607101268086, -0.062364700640076744, 0.3619017610305756], \"y\": [-0.1261923703603147, -0.06280821638918758, 0.16106430395114285, 0.09113767329167569, -0.0632013904933161], \"topics\": [1, 2, 3, 4, 5], \"cluster\": [1, 1, 1, 1, 1], \"Freq\": [30.57977294921875, 26.577177047729492, 23.872188568115234, 14.983613967895508, 3.9872498512268066]}, \"tinfo\": {\"Category\": [\"Default\", \"Default\", \"Default\", \"Default\", \"Default\", \"Default\", \"Default\", \"Default\", \"Default\", \"Default\", \"Default\", \"Default\", \"Default\", \"Default\", \"Default\", \"Default\", \"Default\", \"Default\", \"Default\", \"Default\", \"Default\", \"Default\", \"Default\", \"Default\", \"Default\", \"Default\", \"Default\", \"Default\", \"Default\", \"Default\", \"Topic1\", \"Topic1\", \"Topic1\", \"Topic1\", \"Topic1\", \"Topic1\", \"Topic1\", \"Topic1\", \"Topic1\", \"Topic1\", \"Topic1\", \"Topic1\", \"Topic1\", \"Topic1\", \"Topic1\", \"Topic1\", \"Topic1\", \"Topic1\", \"Topic1\", \"Topic1\", \"Topic1\", \"Topic1\", \"Topic1\", \"Topic1\", \"Topic1\", \"Topic1\", \"Topic1\", \"Topic1\", \"Topic1\", \"Topic1\", \"Topic1\", \"Topic1\", \"Topic1\", \"Topic1\", \"Topic1\", \"Topic1\", \"Topic1\", \"Topic1\", \"Topic1\", \"Topic1\", \"Topic1\", \"Topic1\", \"Topic1\", \"Topic1\", \"Topic1\", \"Topic1\", \"Topic1\", \"Topic1\", \"Topic1\", \"Topic1\", \"Topic1\", \"Topic1\", \"Topic1\", \"Topic1\", \"Topic1\", \"Topic1\", \"Topic1\", \"Topic1\", \"Topic1\", \"Topic1\", \"Topic1\", \"Topic1\", \"Topic1\", \"Topic1\", \"Topic1\", \"Topic1\", \"Topic1\", \"Topic1\", \"Topic1\", \"Topic1\", \"Topic1\", \"Topic1\", \"Topic1\", \"Topic1\", \"Topic1\", \"Topic1\", \"Topic1\", \"Topic1\", \"Topic1\", \"Topic1\", \"Topic1\", \"Topic1\", \"Topic1\", \"Topic1\", \"Topic1\", \"Topic1\", \"Topic1\", \"Topic1\", \"Topic1\", \"Topic1\", \"Topic1\", \"Topic1\", \"Topic1\", \"Topic1\", \"Topic1\", \"Topic1\", \"Topic2\", \"Topic2\", \"Topic2\", \"Topic2\", \"Topic2\", \"Topic2\", \"Topic2\", \"Topic2\", \"Topic2\", \"Topic2\", \"Topic2\", \"Topic2\", \"Topic2\", \"Topic2\", \"Topic2\", \"Topic2\", \"Topic2\", \"Topic2\", \"Topic2\", \"Topic2\", \"Topic2\", \"Topic2\", \"Topic2\", \"Topic2\", \"Topic2\", \"Topic2\", \"Topic2\", \"Topic2\", \"Topic2\", \"Topic2\", \"Topic2\", \"Topic2\", \"Topic2\", \"Topic2\", \"Topic2\", \"Topic2\", \"Topic2\", \"Topic2\", \"Topic2\", \"Topic2\", \"Topic2\", \"Topic2\", \"Topic2\", \"Topic2\", \"Topic2\", \"Topic2\", \"Topic2\", \"Topic2\", \"Topic2\", \"Topic2\", \"Topic2\", \"Topic2\", \"Topic2\", \"Topic2\", \"Topic2\", \"Topic2\", \"Topic2\", \"Topic2\", \"Topic2\", \"Topic2\", \"Topic2\", \"Topic2\", \"Topic2\", \"Topic2\", \"Topic2\", \"Topic2\", \"Topic2\", \"Topic2\", \"Topic2\", \"Topic2\", \"Topic2\", \"Topic2\", \"Topic2\", \"Topic2\", \"Topic2\", \"Topic2\", \"Topic2\", \"Topic2\", \"Topic2\", \"Topic2\", \"Topic2\", \"Topic2\", \"Topic2\", \"Topic2\", \"Topic2\", \"Topic2\", \"Topic2\", \"Topic2\", \"Topic2\", \"Topic2\", \"Topic3\", \"Topic3\", \"Topic3\", \"Topic3\", \"Topic3\", \"Topic3\", \"Topic3\", \"Topic3\", \"Topic3\", \"Topic3\", \"Topic3\", \"Topic3\", \"Topic3\", \"Topic3\", \"Topic3\", \"Topic3\", \"Topic3\", \"Topic3\", \"Topic3\", \"Topic3\", \"Topic3\", \"Topic3\", \"Topic3\", \"Topic3\", \"Topic3\", \"Topic3\", \"Topic3\", \"Topic3\", \"Topic3\", \"Topic3\", \"Topic3\", \"Topic3\", \"Topic3\", \"Topic3\", \"Topic3\", \"Topic3\", \"Topic3\", \"Topic3\", \"Topic3\", \"Topic3\", \"Topic3\", \"Topic3\", \"Topic3\", \"Topic3\", \"Topic3\", \"Topic3\", \"Topic3\", \"Topic3\", \"Topic3\", \"Topic3\", \"Topic3\", \"Topic3\", \"Topic3\", \"Topic3\", \"Topic3\", \"Topic3\", \"Topic3\", \"Topic3\", \"Topic3\", \"Topic3\", \"Topic3\", \"Topic3\", \"Topic3\", \"Topic3\", \"Topic3\", \"Topic3\", \"Topic3\", \"Topic3\", \"Topic3\", \"Topic3\", \"Topic3\", \"Topic3\", \"Topic3\", \"Topic3\", \"Topic3\", \"Topic3\", \"Topic3\", \"Topic3\", \"Topic3\", \"Topic3\", \"Topic3\", \"Topic3\", \"Topic3\", \"Topic3\", \"Topic3\", \"Topic3\", \"Topic3\", \"Topic3\", \"Topic3\", \"Topic3\", \"Topic3\", \"Topic3\", \"Topic3\", \"Topic3\", \"Topic3\", \"Topic3\", \"Topic3\", \"Topic4\", \"Topic4\", \"Topic4\", \"Topic4\", \"Topic4\", \"Topic4\", \"Topic4\", \"Topic4\", \"Topic4\", \"Topic4\", \"Topic4\", \"Topic4\", \"Topic4\", \"Topic4\", \"Topic4\", \"Topic4\", \"Topic4\", \"Topic4\", \"Topic4\", \"Topic4\", \"Topic4\", \"Topic4\", \"Topic4\", \"Topic4\", \"Topic4\", \"Topic4\", \"Topic4\", \"Topic4\", \"Topic4\", \"Topic4\", \"Topic4\", \"Topic4\", \"Topic4\", \"Topic4\", \"Topic4\", \"Topic4\", \"Topic4\", \"Topic4\", \"Topic4\", \"Topic4\", \"Topic4\", \"Topic4\", \"Topic4\", \"Topic4\", \"Topic4\", \"Topic4\", \"Topic4\", \"Topic4\", \"Topic4\", \"Topic4\", \"Topic4\", \"Topic4\", \"Topic4\", \"Topic4\", \"Topic4\", \"Topic4\", \"Topic4\", \"Topic4\", \"Topic4\", \"Topic4\", \"Topic4\", \"Topic4\", \"Topic4\", \"Topic4\", \"Topic4\", \"Topic4\", \"Topic4\", \"Topic4\", \"Topic4\", \"Topic4\", \"Topic4\", \"Topic4\", \"Topic4\", \"Topic4\", \"Topic4\", \"Topic4\", \"Topic4\", \"Topic4\", \"Topic4\", \"Topic4\", \"Topic4\", \"Topic4\", \"Topic4\", \"Topic4\", \"Topic4\", \"Topic4\", \"Topic4\", \"Topic4\", \"Topic4\", \"Topic4\", \"Topic4\", \"Topic4\", \"Topic4\", \"Topic4\", \"Topic4\", \"Topic4\", \"Topic4\", \"Topic4\", \"Topic4\", \"Topic4\", \"Topic4\", \"Topic4\", \"Topic4\", \"Topic4\", \"Topic4\", \"Topic4\", \"Topic4\", \"Topic4\", \"Topic4\", \"Topic5\", \"Topic5\", \"Topic5\", \"Topic5\", \"Topic5\", \"Topic5\", \"Topic5\", \"Topic5\", \"Topic5\", \"Topic5\", \"Topic5\", \"Topic5\", \"Topic5\", \"Topic5\", \"Topic5\", \"Topic5\", \"Topic5\", \"Topic5\", \"Topic5\", \"Topic5\", \"Topic5\", \"Topic5\", \"Topic5\", \"Topic5\", \"Topic5\", \"Topic5\", \"Topic5\", \"Topic5\", \"Topic5\", \"Topic5\", \"Topic5\", \"Topic5\", \"Topic5\", \"Topic5\", \"Topic5\", \"Topic5\", \"Topic5\", \"Topic5\", \"Topic5\", \"Topic5\", \"Topic5\", \"Topic5\", \"Topic5\", \"Topic5\", \"Topic5\", \"Topic5\", \"Topic5\", \"Topic5\", \"Topic5\", \"Topic5\", \"Topic5\", \"Topic5\", \"Topic5\", \"Topic5\", \"Topic5\", \"Topic5\"], \"Freq\": [8496.0, 6395.0, 6563.0, 6258.0, 3348.0, 3282.0, 2422.0, 2422.0, 2299.0, 13225.0, 5557.0, 1886.0, 1822.0, 3095.0, 9498.0, 10066.0, 5055.0, 3030.0, 5665.0, 5485.0, 6056.0, 1298.0, 4897.0, 4897.0, 5742.0, 1217.0, 5784.0, 2491.0, 4878.0, 1471.0, 870.3663330078125, 870.2916259765625, 462.3858947753906, 462.3728942871094, 375.79010009765625, 342.2621765136719, 323.57305908203125, 314.62451171875, 269.3175354003906, 236.7633819580078, 237.74374389648438, 229.8312530517578, 235.68226623535156, 212.0991973876953, 220.85581970214844, 208.1177978515625, 188.39871215820312, 196.28382873535156, 177.6077117919922, 176.558837890625, 193.25965881347656, 173.66561889648438, 173.66473388671875, 180.45558166503906, 620.244384765625, 220.66033935546875, 187.31968688964844, 383.5727233886719, 163.72328186035156, 163.72250366210938, 1649.1585693359375, 1625.2698974609375, 1184.8182373046875, 613.65087890625, 586.9442749023438, 586.9150390625, 552.6520385742188, 512.8148193359375, 482.8396911621094, 516.1732177734375, 520.7747192382812, 340.71600341796875, 333.7744140625, 571.42041015625, 440.8591003417969, 572.2359008789062, 1856.5255126953125, 331.9600830078125, 950.2388305664062, 950.2178955078125, 382.2626037597656, 1464.3310546875, 810.875732421875, 1989.443359375, 4152.50830078125, 1020.8510131835938, 487.12811279296875, 2591.09130859375, 733.6568603515625, 742.3613891601562, 2206.162353515625, 2659.7333984375, 2674.541015625, 3048.81201171875, 7593.07080078125, 1451.462890625, 7900.83642578125, 2789.26708984375, 3813.2880859375, 1337.2406005859375, 6480.32958984375, 6635.390625, 1384.832763671875, 1154.70263671875, 1581.8631591796875, 3411.257568359375, 2574.3896484375, 3853.050537109375, 2626.710205078125, 3771.392578125, 2769.760009765625, 1895.271240234375, 2435.8466796875, 2435.829833984375, 4152.26953125, 1915.4117431640625, 3114.87548828125, 2764.15283203125, 3559.499755859375, 2737.32373046875, 2854.477783203125, 3041.808349609375, 2947.9150390625, 3160.451416015625, 2908.585693359375, 2625.216552734375, 480.025390625, 479.9997863769531, 479.991455078125, 490.14984130859375, 490.1070556640625, 77.54627227783203, 51.3574104309082, 232.5652313232422, 44.34513473510742, 80.89215087890625, 43.32890701293945, 40.34416198730469, 40.34393310546875, 37.32472610473633, 37.31014633178711, 35.2689208984375, 35.23588180541992, 34.23487091064453, 32.225196838378906, 31.268033981323242, 31.245126724243164, 30.251848220825195, 44.86467742919922, 29.16823387145996, 39.89665222167969, 28.176259994506836, 28.10056495666504, 28.100048065185547, 25.245582580566406, 25.17113494873047, 1521.904296875, 203.09176635742188, 231.3973388671875, 54.296836853027344, 60.920799255371094, 67.29700469970703, 4292.8447265625, 4291.6181640625, 607.146240234375, 81.3778305053711, 4672.26318359375, 3806.158203125, 236.67869567871094, 1957.6461181640625, 666.0921630859375, 1474.7825927734375, 634.06103515625, 106.74629974365234, 1169.82373046875, 617.1589965820312, 393.6264343261719, 655.2360229492188, 609.3326416015625, 612.0545043945312, 297.6695861816406, 410.3420104980469, 3257.644287109375, 5430.7060546875, 479.9872131347656, 479.7956848144531, 5874.95068359375, 5806.90380859375, 1242.7552490234375, 2139.974853515625, 1680.600830078125, 1362.1044921875, 3159.654052734375, 3914.7666015625, 951.8313598632812, 3814.412353515625, 4256.333984375, 3688.12646484375, 6139.560546875, 3810.71923828125, 2134.28173828125, 2593.146728515625, 6140.291015625, 2871.9228515625, 3342.292236328125, 5059.068359375, 2840.912109375, 3213.025146484375, 4612.4775390625, 4230.4111328125, 2832.7783203125, 2801.812744140625, 3054.61376953125, 3145.634521484375, 3897.172119140625, 2787.041015625, 157.95904541015625, 158.79568481445312, 147.14022827148438, 127.40328979492188, 125.41937255859375, 110.62818145751953, 106.67424011230469, 106.674072265625, 106.67377471923828, 106.65911865234375, 105.70401000976562, 98.75291442871094, 97.74885559082031, 126.12173461914062, 100.5928726196289, 88.9166488647461, 206.150634765625, 97.41027069091797, 85.95426940917969, 83.97892761230469, 83.97882080078125, 82.9966049194336, 81.95658874511719, 84.92908477783203, 332.117919921875, 108.31671142578125, 84.8309326171875, 79.03070831298828, 78.07371520996094, 78.05844116210938, 166.6045379638672, 81.8997573852539, 113.50545501708984, 144.3606719970703, 118.23301696777344, 170.03732299804688, 244.97254943847656, 484.6789245605469, 484.64190673828125, 117.70983123779297, 877.654296875, 409.4315185546875, 197.1728515625, 439.69219970703125, 141.3404998779297, 152.73980712890625, 7602.3115234375, 947.0687255859375, 946.937744140625, 836.0419311523438, 199.314453125, 297.3267517089844, 915.1500854492188, 731.7811279296875, 562.180908203125, 1363.4720458984375, 5253.33251953125, 7035.22705078125, 459.76483154296875, 3136.964599609375, 1544.3485107421875, 1345.5972900390625, 941.6671142578125, 2004.7943115234375, 1148.5889892578125, 1957.6373291015625, 1922.5125732421875, 1103.416259765625, 762.0165405273438, 468.14788818359375, 1895.66455078125, 629.4739990234375, 2648.7373046875, 2805.66943359375, 2352.66943359375, 2546.18701171875, 3687.43212890625, 2403.3984375, 2200.985595703125, 1286.1893310546875, 3048.43701171875, 1248.134765625, 1905.725341796875, 2373.984375, 2070.697998046875, 1955.742919921875, 1495.133544921875, 1689.429443359375, 2009.9310302734375, 1646.479736328125, 2187.9462890625, 1651.6053466796875, 1689.5958251953125, 2026.650634765625, 1693.713623046875, 1784.12939453125, 1683.7864990234375, 259.2664489746094, 72.21560668945312, 38.26902389526367, 43.063568115234375, 43.056793212890625, 43.05373764038086, 36.17643356323242, 33.29310607910156, 36.19016647338867, 36.18561553955078, 36.1737174987793, 36.173583984375, 45.79985046386719, 26.20384407043457, 25.186031341552734, 23.29368019104004, 26.11412811279297, 24.148910522460938, 24.200998306274414, 24.144855499267578, 21.19718360900879, 21.192493438720703, 21.192354202270508, 22.054685592651367, 20.131839752197266, 20.168283462524414, 20.12920379638672, 19.180463790893555, 33.62546920776367, 26.814830780029297, 83.0972900390625, 42.15938949584961, 42.155906677246094, 53.51581573486328, 41.216819763183594, 41.21474075317383, 101.50677490234375, 59.7291374206543, 32.53239059448242, 111.4735107421875, 184.74896240234375, 64.15201568603516, 56.75249481201172, 195.02940368652344, 91.21271514892578, 588.9152221679688, 588.7339477539062, 165.70782470703125, 165.6972198486328, 96.86408996582031, 351.8052978515625, 251.5278778076172, 72.94413757324219, 361.9581298828125, 302.2238464355469, 93.96932983398438, 204.8602752685547, 204.85964965820312, 386.3262634277344, 387.24169921875, 1286.106689453125, 272.964111328125, 272.7852783203125, 251.79525756835938, 949.8997192382812, 2996.204833984375, 1319.6282958984375, 1079.3878173828125, 366.8177490234375, 1308.9891357421875, 1635.7899169921875, 289.7410583496094, 269.12628173828125, 1152.5369873046875, 2482.6259765625, 2895.752197265625, 1536.4561767578125, 3346.159912109375, 1895.230224609375, 1952.5989990234375, 3746.939208984375, 2010.068603515625, 597.6964721679688, 510.4089050292969, 837.1701049804688, 884.0477905273438, 613.1375122070312, 613.107666015625, 1190.1416015625, 839.6536865234375, 835.7183837890625, 1067.560302734375, 1076.8695068359375, 1825.0428466796875, 1378.209716796875, 786.5, 2044.2767333984375, 1821.0198974609375, 1136.188232421875, 1693.677978515625, 1175.2183837890625, 916.821044921875, 912.4076538085938, 960.5885009765625, 1052.05712890625, 950.1622924804688, 1022.4005126953125, 962.2122192382812, 993.194091796875, 2298.60107421875, 1216.30078125, 952.46923828125, 979.35888671875, 944.7576293945312, 653.933349609375, 575.9346923828125, 533.5924072265625, 473.91241455078125, 485.3285217285156, 3342.85400390625, 426.744873046875, 352.60009765625, 320.802490234375, 304.4534912109375, 304.453369140625, 293.8612060546875, 293.8612060546875, 248.5628662109375, 225.45677185058594, 1816.333251953125, 206.15501403808594, 159.00669860839844, 147.40460205078125, 161.72401428222656, 125.33323669433594, 121.43415069580078, 116.64248657226562, 108.0007095336914, 102.23028564453125, 1832.9110107421875, 349.25213623046875, 2295.045654296875, 2294.7998046875, 771.2902221679688, 866.7167358398438, 1188.458251953125, 427.3624572753906, 495.2434997558594, 2750.428466796875, 345.0604248046875, 3912.11083984375, 344.99017333984375, 2885.173583984375, 751.3737182617188, 2219.3623046875, 2258.342529296875, 784.7861938476562, 988.9985961914062, 771.4534301757812, 939.4364624023438, 830.2265625, 770.4036254882812, 619.6629028320312, 561.7263793945312, 561.369140625], \"Term\": [\"glass\", \"pendant\", \"product\", \"detail\", \"lampwork\", \"bead\", \"mixtgoods\", \"mixtgoods_product\", \"ega\", \"design\", \"blue\", \"dichroic\", \"focal\", \"hand\", \"necklace\", \"home\", \"earring\", \"heart\", \"set\", \"bed\", \"furniture\", \"fused\", \"shopbop_com\", \"shopbop\", \"saks\", \"sra\", \"silver\", \"handmade\", \"green\", \"fire\", \"webnovias_com\", \"webnovias\", \"jlm\", \"jlm_couture\", \"alba_moda\", \"detailed_view\", \"bielizna\", \"bridesmaid_junior\", \"dessous\", \"fashiondesigners\", \"avenda\\u00f1o\", \"cabotine\", \"verano\", \"multibrand\", \"basil\", \"fiesta\", \"photobucket\", \"cortos\", \"calida\", \"hosting\", \"apart\", \"wizwid\", \"sklep\", \"zahlan\", \"sposa\", \"printemps_et\\u00e9\", \"bostonproper\", \"suisse\", \"abed\", \"mahfouz\", \"hiver\", \"automne\", \"collection_automne\", \"jupes\", \"femme_jupes\", \"robe_collection\", \"et\\u00e9\", \"abiti\", \"abiti_sposa\", \"instyle\", \"vestidos\", \"toute\", \"jpg_pixel\", \"printemps\", \"automne_hiver\", \"tony\", \"robe\", \"collection_printemps\", \"stefanibags\", \"stefanibags_com\", \"avalaya\", \"bridesmaid\", \"polyvore\", \"bridal\", \"lingerie\", \"jpg\", \"elegance\", \"victoria_secret\", \"boston_proper\", \"proper\", \"femme\", \"secret\", \"victoria\", \"gown\", \"collection\", \"prom\", \"fashion\", \"streetwear\", \"couture\", \"brown_fashion\", \"shoe\", \"woman\", \"sexy\", \"image\", \"evening\", \"sandal\", \"lace\", \"top\", \"goodman\", \"style\", \"asos\", \"heel\", \"bergdorf_goodman\", \"bergdorf\", \"black\", \"fall\", \"new\", \"christian\", \"designer\", \"silk\", \"pump\", \"porter\", \"net\", \"clothing\", \"ring\", \"net_porter\", \"clothing_list\", \"list_designer\", \"celebrity_designer\", \"shop_celebrity\", \"shop_list\", \"iisli\", \"loriblu\", \"return_shipping\", \"gestuz\", \"aviator\", \"glorie\", \"amiclubwear\", \"patriotic\", \"frenzii\", \"bauletto\", \"swarovsky\", \"moussy\", \"willa\", \"factor\", \"loubinette\", \"quail\", \"gres\", \"cozychic\", \"birkin\", \"antik\", \"delfuoco\", \"overland\", \"fw08\", \"striper\", \"corded\", \"list\", \"babyphat\", \"fashionchateau\", \"rast\", \"moffatt\", \"portero\", \"shopbop_com\", \"shopbop\", \"ivy_blue\", \"moy\", \"saks\", \"saks_com\", \"language\", \"revolve\", \"kitson\", \"revolve_clothing\", \"shop_kitson\", \"unused\", \"celebrity\", \"pump_saks\", \"shift_dress\", \"milly\", \"ivy\", \"gap\", \"intermix\", \"phillip\", \"marc\", \"net_porter\", \"black_revolve\", \"clothing_free\", \"net\", \"porter\", \"marc_marc\", \"free_shipping\", \"jacob\", \"dolce\", \"shipping\", \"marcus\", \"gabbana\", \"neiman_marcus\", \"pump\", \"free\", \"clothing\", \"neiman\", \"patent\", \"nordstrom\", \"woman\", \"christian_louboutin\", \"christian\", \"designer\", \"louboutin\", \"sandal\", \"shoe\", \"black\", \"leather\", \"silk\", \"bag\", \"top\", \"fashion\", \"style\", \"brownie\", \"carrotbox\", \"m\\u00f8bler\", \"nonplusultra\", \"decopasion\", \"danish\", \"da\", \"m\\u00f6bel\", \"dasmoebel\", \"hhstyle\", \"zanisa\", \"bradley\", \"moroso\", \"zid\", \"oven\", \"danske\", \"menu\", \"food\", \"unikko\", \"modamuse\", \"crafter\", \"girlshop\", \"asheville\", \"ethnocity\", \"mintd\", \"trace\", \"acme\", \"brad\", \"poketo\", \"verlichting\", \"vinci\", \"dwell\", \"momastore\", \"kishimoto\", \"mood\", \"radish\", \"marimekko\", \"velocity_art\", \"velocity\", \"hueconcept\", \"house_indie\", \"chiasso\", \"scandinavian\", \"porcelain\", \"iloveyoyo\", \"eley\", \"design\", \"smashing_darling\", \"smashing\", \"ceramic\", \"fabulously\", \"toaster\", \"holder\", \"felt\", \"art_design\", \"jewellery\", \"home\", \"ring\", \"kid\", \"art\", \"bowl\", \"bird\", \"darling\", \"artful\", \"pillow\", \"artful_home\", \"lamp\", \"blossom\", \"plate\", \"elsewares\", \"light\", \"resin\", \"modern\", \"furniture\", \"table\", \"set\", \"necklace\", \"jewelry\", \"chair\", \"wall\", \"glass\", \"house\", \"green\", \"shop\", \"silver\", \"bracelet\", \"contemporary\", \"accessory\", \"bag\", \"earring\", \"collection\", \"bed\", \"pendant\", \"fashion\", \"product\", \"designer\", \"black\", \"aromaleigh\", \"domodinamica\", \"elemental\", \"kineda\", \"seaside\", \"teuco\", \"rodrigo\", \"tempusfugit\", \"pooler\", \"allt\", \"bostad\", \"spabad\", \"flute\", \"myvintagepad\", \"dornbracht\", \"straightrazorslasher\", \"share\", \"orgellan\", \"htx7\", \"snuff\", \"mechanique\", \"elden\", \"richly\", \"butterfly_coffee_0\", \"girado\", \"jesse\", \"backside\", \"4pc\", \"schwinn\", \"mechanical\", \"shadylace\", \"curbly\", \"keywords\", \"19moons\", \"absinthe\", \"fashmatch\", \"coolest\", \"cabin\", \"mostess\", \"rejuvenation\", \"blume\", \"community\", \"lewasdesigns\", \"mineral\", \"ammonite\", \"charmingly\", \"charmingly_chic\", \"eigengold\", \"indoorframe\", \"synthetikpark\", \"feel_human\", \"brolliesgalore\", \"malam\", \"human\", \"feelmorehuman\", \"fafi\", \"lamplagret\", \"\\u00f6rebro\", \"feel\", \"steampunk\", \"outdoor\", \"national_geographic\", \"geographic\", \"everyone\", \"interior_design\", \"bed\", \"interior\", \"umbrella\", \"dawanda\", \"sofa\", \"retro\", \"bathtub\", \"sink\", \"room\", \"furniture\", \"vintage\", \"contemporary\", \"home\", \"table\", \"chair\", \"design\", \"modern\", \"horchow\", \"gothic\", \"chic\", \"chandelier\", \"indie_clothing\", \"mod_retro\", \"store\", \"mod\", \"tree\", \"lamp\", \"light\", \"necklace\", \"art\", \"clothes\", \"black\", \"clothing\", \"green\", \"ring\", \"silver\", \"artful_home\", \"artful\", \"set\", \"collection\", \"red\", \"woman\", \"pendant\", \"designer\", \"ega\", \"sra\", \"studiomarcy\", \"focal_bead\", \"lampwork_glass\", \"fire_sand\", \"dogmawglass\", \"lampwork_sra\", \"lampwork_focal\", \"dichroic_pendant\", \"lampwork\", \"bhv\", \"handmade_lampwork\", \"bead_ega\", \"bead_craftier\", \"craftier\", \"bhv_ega\", \"side_sra\", \"sra_ega\", \"lentil\", \"focal\", \"protege\", \"slider\", \"boro\", \"flamekist\", \"mycabincreations\", \"giapet\", \"troll\", \"msotherdenartglass\", \"dogmaw\", \"dichroic\", \"lampwork_bead\", \"mixtgoods\", \"mixtgoods_product\", \"fused_glass\", \"detail_hand\", \"fused\", \"dichroic_glass\", \"sewn\", \"bead\", \"etsy_glasscat\", \"glass\", \"glasscat\", \"pendant\", \"sand\", \"detail\", \"product\", \"fire\", \"hand\", \"heart\", \"blue\", \"earring\", \"necklace\", \"set\", \"sterling\", \"handmade\"], \"Total\": [8496.0, 6395.0, 6563.0, 6258.0, 3348.0, 3282.0, 2422.0, 2422.0, 2299.0, 13225.0, 5557.0, 1886.0, 1822.0, 3095.0, 9498.0, 10066.0, 5055.0, 3030.0, 5665.0, 5485.0, 6056.0, 1298.0, 4897.0, 4897.0, 5742.0, 1217.0, 5784.0, 2491.0, 4878.0, 1471.0, 871.7108154296875, 871.71240234375, 463.38250732421875, 463.3827819824219, 376.6127624511719, 343.0826721191406, 324.37347412109375, 315.4591369628906, 270.11737060546875, 237.5624237060547, 238.5529022216797, 230.6494598388672, 236.56837463378906, 212.90834045410156, 221.73245239257812, 208.95863342285156, 189.20428466796875, 197.1251220703125, 178.40664672851562, 177.365966796875, 194.14492797851562, 174.46229553222656, 174.46241760253906, 181.31253051757812, 623.199951171875, 221.7157745361328, 188.22225952148438, 385.484130859375, 164.54278564453125, 164.542724609375, 1666.86328125, 1643.1982421875, 1197.3057861328125, 617.27978515625, 590.65283203125, 590.6537475585938, 556.123779296875, 515.6973266601562, 486.11614990234375, 520.5831298828125, 526.4180908203125, 343.0162658691406, 336.1691589355469, 578.8365478515625, 446.6559753417969, 582.8895874023438, 1938.98876953125, 335.22857666015625, 988.76806640625, 988.7684326171875, 387.4961853027344, 1551.5858154296875, 844.6425170898438, 2204.911865234375, 4970.96826171875, 1122.75927734375, 503.1201171875, 3125.934814453125, 788.8131713867188, 801.7142333984375, 2752.640869140625, 3440.9208984375, 3466.091064453125, 4193.90283203125, 12716.73046875, 1788.5694580078125, 14493.6904296875, 4098.83349609375, 6301.4111328125, 1704.3304443359375, 13228.4365234375, 14349.8955078125, 1871.26708984375, 1480.407958984375, 2310.767333984375, 6917.93310546875, 4738.15625, 8591.23046875, 4981.89404296875, 8755.482421875, 5725.78515625, 3111.20654296875, 4762.52978515625, 4762.53369140625, 12273.462890625, 3214.005126953125, 7706.48583984375, 6480.55615234375, 11402.537109375, 6623.9736328125, 7698.63720703125, 9585.291015625, 9614.283203125, 12025.7705078125, 14278.302734375, 8646.966796875, 482.1472473144531, 482.1468505859375, 482.1466369628906, 493.1993103027344, 493.1986083984375, 78.3831558227539, 52.186439514160156, 236.39462280273438, 45.14498519897461, 82.3512954711914, 44.1434326171875, 41.14948654174805, 41.14949035644531, 38.12000274658203, 38.108436584472656, 36.07569122314453, 36.085758209228516, 35.0645751953125, 33.03810501098633, 32.06641387939453, 32.04383850097656, 31.0587100982666, 46.137020111083984, 30.00290298461914, 41.06187438964844, 29.020002365112305, 28.96982765197754, 28.969783782958984, 26.04015350341797, 25.97805404663086, 1571.70166015625, 211.2344970703125, 241.23085021972656, 56.177242279052734, 63.2034797668457, 70.2464370727539, 4897.42138671875, 4897.38232421875, 677.3590087890625, 85.39604949951172, 5742.57958984375, 4656.26953125, 262.315185546875, 2392.5087890625, 779.3309936523438, 1802.5931396484375, 744.1488647460938, 114.45665740966797, 1437.216064453125, 734.5806274414062, 465.5151062011719, 812.381591796875, 758.4573974609375, 763.1292724609375, 348.79669189453125, 496.4366760253906, 4838.1845703125, 8646.966796875, 590.5985717773438, 590.5972900390625, 9614.283203125, 9585.291015625, 1707.8575439453125, 3173.248291015625, 2412.833251953125, 1929.842529296875, 5156.013671875, 6882.87744140625, 1288.7330322265625, 6744.501953125, 7698.63720703125, 6478.1513671875, 12025.7705078125, 6744.5654296875, 3373.552734375, 4506.51123046875, 14349.8955078125, 5239.5966796875, 6480.55615234375, 11402.537109375, 5407.71728515625, 6917.93310546875, 13228.4365234375, 12273.462890625, 6599.455078125, 6623.9736328125, 7913.3369140625, 8591.23046875, 14493.6904296875, 8755.482421875, 158.77734375, 159.64048767089844, 147.9375, 128.2001495361328, 126.2181167602539, 111.42510223388672, 107.4722900390625, 107.47229766845703, 107.47230529785156, 107.4598617553711, 106.49969482421875, 99.5531005859375, 98.56121063232422, 127.18773651123047, 101.4919662475586, 89.7126693725586, 208.00421142578125, 98.28822326660156, 86.75086975097656, 84.77576446533203, 84.77574157714844, 83.79362487792969, 82.75933837890625, 85.76118469238281, 335.3824462890625, 109.40408325195312, 85.68663787841797, 79.83109283447266, 78.86868286132812, 78.85452270507812, 168.54881286621094, 82.76862335205078, 115.32689666748047, 148.8914337158203, 121.18695068359375, 177.60623168945312, 261.03436279296875, 535.633544921875, 535.6349487304688, 121.17447662353516, 1028.984130859375, 462.5172424316406, 210.98097229003906, 509.1182861328125, 147.841796875, 161.82110595703125, 13225.58984375, 1271.3519287109375, 1271.3582763671875, 1115.5546875, 219.1697540283203, 348.114013671875, 1275.144775390625, 995.6517333984375, 734.1724853515625, 2066.29736328125, 10066.943359375, 14278.302734375, 584.155029296875, 5632.9248046875, 2438.642822265625, 2087.642333984375, 1365.1383056640625, 3431.801025390625, 1765.5574951171875, 3389.473388671875, 3317.431884765625, 1722.7762451171875, 1098.902587890625, 602.3053588867188, 3403.609375, 874.2403564453125, 5601.40283203125, 6056.5556640625, 4856.56005859375, 5665.3056640625, 9498.447265625, 5557.38134765625, 5101.353515625, 2366.510986328125, 8496.9140625, 2303.008544921875, 4878.5654296875, 7275.22216796875, 5784.7646484375, 5268.66748046875, 3457.70556640625, 4794.3662109375, 7913.3369140625, 5055.3740234375, 12716.73046875, 5485.39013671875, 6395.0068359375, 14493.6904296875, 6563.4873046875, 11402.537109375, 12273.462890625, 260.5382995605469, 73.27406311035156, 39.113914489746094, 44.08342742919922, 44.083431243896484, 44.083457946777344, 37.04755401611328, 34.09568786621094, 37.069786071777344, 37.069801330566406, 37.06982421875, 37.06981658935547, 47.109066009521484, 27.0294132232666, 26.015634536743164, 24.084136962890625, 27.00657081604004, 24.978130340576172, 25.04009246826172, 24.987279891967773, 21.99724578857422, 21.99462127685547, 21.99462890625, 22.95238494873047, 20.960283279418945, 21.006887435913086, 20.96624755859375, 19.988075256347656, 35.05697250366211, 27.981027603149414, 87.29521179199219, 44.030113220214844, 44.030216217041016, 56.116146087646484, 43.13007736206055, 43.13010025024414, 107.46204376220703, 63.126705169677734, 34.027523040771484, 120.45558166503906, 202.79849243164062, 68.17682647705078, 60.15181350708008, 214.8655548095703, 98.27986145019531, 686.996826171875, 686.9982299804688, 183.6783447265625, 183.67898559570312, 105.36215209960938, 425.526123046875, 299.4561462402344, 79.16047668457031, 447.42242431640625, 370.1836242675781, 104.45271301269531, 245.28085327148438, 245.2809600830078, 492.69854736328125, 495.7390441894531, 1892.37890625, 341.8618469238281, 341.8584899902344, 313.2062683105469, 1370.703125, 5485.39013671875, 2147.846435546875, 1765.366455078125, 512.4850463867188, 2406.239013671875, 3360.901123046875, 401.6208801269531, 368.17718505859375, 2234.56689453125, 6056.5556640625, 7536.60498046875, 3457.70556640625, 10066.943359375, 4856.56005859375, 5101.353515625, 13225.58984375, 5601.40283203125, 1075.459716796875, 866.4330444335938, 1843.0760498046875, 2060.691162109375, 1201.718505859375, 1201.72265625, 3754.249267578125, 2127.55029296875, 2111.879150390625, 3317.431884765625, 3403.609375, 9498.447265625, 5632.9248046875, 1935.8424072265625, 12273.462890625, 12025.7705078125, 4878.5654296875, 14278.302734375, 5784.7646484375, 3389.473388671875, 3431.801025390625, 5665.3056640625, 12716.73046875, 5193.54833984375, 14349.8955078125, 6395.0068359375, 11402.537109375, 2299.4306640625, 1217.11279296875, 953.2777709960938, 980.19091796875, 945.5680541992188, 654.7493286132812, 576.750244140625, 534.3998413085938, 474.7137145996094, 486.17364501953125, 3348.9736328125, 427.5440368652344, 353.39892578125, 321.60406494140625, 305.2522888183594, 305.2523193359375, 294.66009521484375, 294.66009521484375, 249.3672637939453, 226.25982666015625, 1822.8111572265625, 206.9647674560547, 159.81072998046875, 148.23370361328125, 162.6439208984375, 126.13347625732422, 122.23875427246094, 117.44503784179688, 108.80087280273438, 103.02952575683594, 1886.66552734375, 355.3040466308594, 2422.831298828125, 2422.831298828125, 813.498046875, 934.571044921875, 1298.7322998046875, 450.9775390625, 527.2734375, 3282.680419921875, 364.59674072265625, 8496.9140625, 364.602294921875, 6395.0068359375, 1040.3404541015625, 6258.0615234375, 6563.4873046875, 1471.0732421875, 3095.60498046875, 3030.0283203125, 5557.50927734375, 5055.3740234375, 9498.447265625, 5665.3056640625, 2364.0556640625, 2491.48291015625], \"loglift\": [30.0, 29.0, 28.0, 27.0, 26.0, 25.0, 24.0, 23.0, 22.0, 21.0, 20.0, 19.0, 18.0, 17.0, 16.0, 15.0, 14.0, 13.0, 12.0, 11.0, 10.0, 9.0, 8.0, 7.0, 6.0, 5.0, 4.0, 3.0, 2.0, 1.0, 1.1833000183105469, 1.1832000017166138, 1.1827000379562378, 1.1826000213623047, 1.1826000213623047, 1.1823999881744385, 1.1823999881744385, 1.1821999549865723, 1.1819000244140625, 1.18149995803833, 1.181399941444397, 1.1813000440597534, 1.1811000108718872, 1.180999994277954, 1.180899977684021, 1.180799961090088, 1.1806000471115112, 1.1806000471115112, 1.180299997329712, 1.180299997329712, 1.180299997329712, 1.180299997329712, 1.1801999807357788, 1.1800999641418457, 1.1800999641418457, 1.1800999641418457, 1.1799999475479126, 1.179900050163269, 1.179800033569336, 1.179800033569336, 1.1742000579833984, 1.1739000082015991, 1.174299955368042, 1.1789000034332275, 1.1785000562667847, 1.1785000562667847, 1.1785999536514282, 1.1792000532150269, 1.1780999898910522, 1.176300048828125, 1.1741000413894653, 1.1780999898910522, 1.1777000427246094, 1.1719000339508057, 1.1718000173568726, 1.1663999557495117, 1.1413999795913696, 1.1749999523162842, 1.1450999975204468, 1.1450999975204468, 1.1712000370025635, 1.1269999742507935, 1.1440000534057617, 1.0820000171661377, 1.0048999786376953, 1.0896999835968018, 1.152500033378601, 0.9972000122070312, 1.1123000383377075, 1.1079000234603882, 0.9635000228881836, 0.927299976348877, 0.925599992275238, 0.8659999966621399, 0.6690999865531921, 0.9760000109672546, 0.5781000256538391, 0.7998999953269958, 0.6825000047683716, 0.942300021648407, 0.47119998931884766, 0.41350001096725464, 0.8838000297546387, 0.9363999962806702, 0.805899977684021, 0.47780001163482666, 0.5748000144958496, 0.382999986410141, 0.5447999835014343, 0.3425999879837036, 0.4586000144481659, 0.6891999840736389, 0.5142999887466431, 0.5142999887466431, 0.10100000351667404, 0.6672000288963318, 0.27900001406669617, 0.3328000009059906, 0.020600000396370888, 0.3010999858379364, 0.19269999861717224, 0.03709999844431877, 0.0027000000700354576, -0.15150000154972076, -0.40619999170303345, -0.007199999876320362, 1.3207000494003296, 1.3207000494003296, 1.3206000328063965, 1.3188999891281128, 1.3187999725341797, 1.3143999576568604, 1.3091000318527222, 1.3087999820709229, 1.3071999549865723, 1.3071999549865723, 1.30649995803833, 1.305400013923645, 1.305299997329712, 1.3040000200271606, 1.3039000034332275, 1.3025000095367432, 1.301300048828125, 1.301200032234192, 1.3001999855041504, 1.2999000549316406, 1.2999000549316406, 1.298799991607666, 1.2971999645233154, 1.2969000339508057, 1.2963000535964966, 1.2956000566482544, 1.294700026512146, 1.294600009918213, 1.294100046157837, 1.2935999631881714, 1.2928999662399292, 1.2857999801635742, 1.2834999561309814, 1.291100025177002, 1.2883000373840332, 1.2821999788284302, 1.1934000253677368, 1.1930999755859375, 1.2157000303268433, 1.276900053024292, 1.118899941444397, 1.1234999895095825, 1.2223000526428223, 1.124500036239624, 1.1680999994277954, 1.124400019645691, 1.1649999618530273, 1.2553999423980713, 1.1193000078201294, 1.1509000062942505, 1.1574000120162964, 1.1101000308990479, 1.1061999797821045, 1.1045000553131104, 1.166599988937378, 1.1346999406814575, 0.9296000003814697, 0.8600000143051147, 1.1176999807357788, 1.117300033569336, 0.8325999975204468, 0.8238999843597412, 1.007200002670288, 0.9312000274658203, 0.9635000228881836, 0.9767000079154968, 0.8353999853134155, 0.7608000040054321, 1.0220999717712402, 0.7552000284194946, 0.7325000166893005, 0.7617999911308289, 0.6528000235557556, 0.7541999816894531, 0.8672999739646912, 0.7724999785423279, 0.47620001435279846, 0.7239000201225281, 0.6629999876022339, 0.512499988079071, 0.6814000010490417, 0.5582000017166138, 0.27149999141693115, 0.25999999046325684, 0.47940000891685486, 0.46470001339912415, 0.373199999332428, 0.3203999996185303, 0.011699999682605267, 0.18039999902248383, 1.427299976348877, 1.4271999597549438, 1.4270999431610107, 1.426200032234192, 1.4261000156402588, 1.4253000020980835, 1.4249999523162842, 1.4249999523162842, 1.4249999523162842, 1.4249999523162842, 1.4249999523162842, 1.424399971961975, 1.4242000579833984, 1.4240000247955322, 1.4235999584197998, 1.4234999418258667, 1.4234999418258667, 1.4234999418258667, 1.423200011253357, 1.4229999780654907, 1.4229999780654907, 1.4228999614715576, 1.422700047492981, 1.422700047492981, 1.422700047492981, 1.4225000143051147, 1.4223999977111816, 1.4223999977111816, 1.4222999811172485, 1.4222999811172485, 1.4208999872207642, 1.4219000339508057, 1.4164999723434448, 1.4016000032424927, 1.4077999591827393, 1.3889000415802002, 1.36899995803833, 1.3324999809265137, 1.3323999643325806, 1.40339994430542, 1.2733999490737915, 1.3105000257492065, 1.364799976348877, 1.2858999967575073, 1.3875000476837158, 1.3746999502182007, 0.8787999749183655, 1.1380000114440918, 1.1377999782562256, 1.1440000534057617, 1.337499976158142, 1.2747999429702759, 1.1007000207901, 1.124500036239624, 1.1655000448226929, 1.016700029373169, 0.7821000218391418, 0.7246000170707703, 1.1929999589920044, 0.847100019454956, 0.975600004196167, 0.9933000206947327, 1.0611000061035156, 0.8949000239372253, 1.002500057220459, 0.8834999799728394, 0.886900007724762, 0.9868999719619751, 1.0664000511169434, 1.1805000305175781, 0.8471999764442444, 1.1039999723434448, 0.6834999918937683, 0.6629999876022339, 0.7077000141143799, 0.6327000260353088, 0.486299991607666, 0.5942000150680542, 0.5918999910354614, 0.822700023651123, 0.4074000120162964, 0.8198999762535095, 0.4925000071525574, 0.3125999867916107, 0.4050999879837036, 0.4413999915122986, 0.5940999984741211, 0.38940000534057617, 0.06199999898672104, 0.31060001254081726, -0.32749998569488525, 0.2320999950170517, 0.10140000283718109, -0.5349000096321106, 0.0778999999165535, -0.42239999771118164, -0.5539000034332275, 1.8933000564575195, 1.8837000131607056, 1.8763999938964844, 1.8747999668121338, 1.8746000528335571, 1.8746000528335571, 1.874400019645691, 1.874400019645691, 1.8741999864578247, 1.8740999698638916, 1.8737000226974487, 1.8737000226974487, 1.8700000047683716, 1.8672000169754028, 1.8658000230789185, 1.864799976348877, 1.8645999431610107, 1.8645000457763672, 1.8640999794006348, 1.8638999462127686, 1.861199975013733, 1.8610999584197998, 1.8610999584197998, 1.858299970626831, 1.8579000234603882, 1.8574999570846558, 1.8574999570846558, 1.8569999933242798, 1.8565000295639038, 1.8555999994277954, 1.8488999605178833, 1.8547999858856201, 1.854699969291687, 1.8508000373840332, 1.8528000116348267, 1.8528000116348267, 1.8411999940872192, 1.842900037765503, 1.8532999753952026, 1.8207000494003296, 1.8049999475479126, 1.837399959564209, 1.840000033378601, 1.8013999462127686, 1.8236000537872314, 1.7441999912261963, 1.743899941444397, 1.795300006866455, 1.795199990272522, 1.8141000270843506, 1.7079999446868896, 1.7237999439239502, 1.8164000511169434, 1.6862000226974487, 1.6953999996185303, 1.7924000024795532, 1.7180999517440796, 1.7180999517440796, 1.6549999713897705, 1.6512000560760498, 1.5119999647140503, 1.6730999946594238, 1.6725000143051147, 1.6799999475479126, 1.531499981880188, 1.2934999465942383, 1.4111000299453735, 1.4062000513076782, 1.5637999773025513, 1.2893999814987183, 1.1780999898910522, 1.5716999769210815, 1.5848000049591064, 1.2360999584197998, 1.0063999891281128, 0.9416999816894531, 1.0871000289916992, 0.7968000173568726, 0.9571999907493591, 0.9379000067710876, 0.6370000243186951, 0.8733999729156494, 1.3107999563217163, 1.36899995803833, 1.1089999675750732, 1.051900029182434, 1.2252999544143677, 1.2252000570297241, 0.7494000196456909, 0.968500018119812, 0.9711999893188477, 0.7644000053405762, 0.7473999857902527, 0.24869999289512634, 0.4903999865055084, 0.9975000023841858, 0.10580000281333923, 0.010599999688565731, 0.4410000145435333, -0.23360000550746918, 0.3043999969959259, 0.5906999707221985, 0.5734999775886536, 0.12359999865293503, -0.593999981880188, 0.1996999979019165, -0.743399977684021, 0.00419999985024333, -0.5425000190734863, 3.2216999530792236, 3.221400022506714, 3.2211999893188477, 3.2211999893188477, 3.2211999893188477, 3.2207999229431152, 3.2207000255584717, 3.220599889755249, 3.220400094985962, 3.2202999591827393, 3.2202000617980957, 3.2202000617980957, 3.2197999954223633, 3.219599962234497, 3.219399929046631, 3.219399929046631, 3.219399929046631, 3.219399929046631, 3.2188000679016113, 3.2184998989105225, 3.2184998989105225, 3.218100070953369, 3.2170000076293945, 3.2165000438690186, 3.216399908065796, 3.2156999111175537, 3.2155001163482666, 3.2151999473571777, 3.2146999835968018, 3.2142999172210693, 3.19320011138916, 3.204900026321411, 3.1679000854492188, 3.167799949645996, 3.168800115585327, 3.146699905395508, 3.1333000659942627, 3.168299913406372, 3.15939998626709, 3.0452001094818115, 3.1670000553131104, 2.4463999271392822, 3.166800022125244, 2.426100015640259, 2.896699905395508, 2.1854000091552734, 2.1552000045776367, 2.5936999320983887, 2.0810000896453857, 1.8539999723434448, 1.4443999528884888, 1.4155999422073364, 0.710099995136261, 1.0090999603271484, 1.7848999500274658, 1.7317999601364136], \"logprob\": [30.0, 29.0, 28.0, 27.0, 26.0, 25.0, 24.0, 23.0, 22.0, 21.0, 20.0, 19.0, 18.0, 17.0, 16.0, 15.0, 14.0, 13.0, 12.0, 11.0, 10.0, 9.0, 8.0, 7.0, 6.0, 5.0, 4.0, 3.0, 2.0, 1.0, -6.720399856567383, -6.7204999923706055, -7.353000164031982, -7.353000164031982, -7.560299873352051, -7.653800010681152, -7.70989990234375, -7.73799991607666, -7.893499851226807, -8.022299766540527, -8.018199920654297, -8.052000045776367, -8.026900291442871, -8.13230037689209, -8.09179973602295, -8.151200294494629, -8.250800132751465, -8.209799766540527, -8.309800148010254, -8.315699577331543, -8.225299835205078, -8.332200050354004, -8.332200050354004, -8.293899536132812, -7.059199810028076, -8.092700004577637, -8.256500244140625, -7.53980016708374, -8.391200065612793, -8.391200065612793, -6.081299781799316, -6.095900058746338, -6.4120001792907715, -7.069900035858154, -7.1143999099731445, -7.114500045776367, -7.174600124359131, -7.2494001388549805, -7.309700012207031, -7.2428998947143555, -7.234000205993652, -7.658299922943115, -7.678899765014648, -7.141200065612793, -7.400599956512451, -7.139800071716309, -5.962900161743164, -7.684299945831299, -6.632599830627441, -6.632699966430664, -7.5432000160217285, -6.200200080871582, -6.791200160980225, -5.893700122833252, -5.157899856567383, -6.560999870300293, -7.30079984664917, -5.629499912261963, -6.891300201416016, -6.879499912261963, -5.790299892425537, -5.603400230407715, -5.597799777984619, -5.466800212860107, -4.5543999671936035, -6.209000110626221, -4.514599800109863, -5.555799961090088, -5.243100166320801, -6.290999889373779, -4.712800025939941, -4.689199924468994, -6.25600004196167, -6.43779993057251, -6.123000144958496, -5.354499816894531, -5.636000156402588, -5.232699871063232, -5.615900039672852, -5.254199981689453, -5.56279993057251, -5.942200183868408, -5.691299915313721, -5.691299915313721, -5.157899856567383, -5.931700229644775, -5.445400238037109, -5.564899921417236, -5.311999797821045, -5.5746002197265625, -5.532700061798096, -5.469099998474121, -5.500500202178955, -5.4309000968933105, -5.513899803161621, -5.616399765014648, -7.17519998550415, -7.175300121307373, -7.175300121307373, -7.154399871826172, -7.154399871826172, -8.998200416564941, -9.410300254821777, -7.899899959564209, -9.557100296020508, -8.955900192260742, -9.5802001953125, -9.651599884033203, -9.651599884033203, -9.729399681091309, -9.7298002243042, -9.786100387573242, -9.786999702453613, -9.815799713134766, -9.876299858093262, -9.906499862670898, -9.90719985961914, -9.939499855041504, -9.54539966583252, -9.97599983215332, -9.662799835205078, -10.010600090026855, -10.013299942016602, -10.013299942016602, -10.120400428771973, -10.12339973449707, -6.021299839019775, -8.035400390625, -7.904900074005127, -9.354599952697754, -9.239500045776367, -9.139900207519531, -4.984399795532227, -4.984600067138672, -6.940299987792969, -8.949999809265137, -4.899700164794922, -5.104700088500977, -7.882400035858154, -5.769599914550781, -6.847599983215332, -6.052800178527832, -6.896900177001953, -8.678600311279297, -6.2845001220703125, -6.923900127410889, -7.373700141906738, -6.864099979400635, -6.936699867248535, -6.932199954986572, -7.65310001373291, -7.332099914550781, -5.260300159454346, -4.749199867248535, -7.175300121307373, -7.1757001876831055, -4.670599937438965, -4.682300090789795, -6.223999977111816, -5.680500030517578, -5.9222002029418945, -6.132299900054932, -5.290800094604492, -5.076600074768066, -6.490699768066406, -5.102499961853027, -4.9928998947143555, -5.136199951171875, -4.6265997886657715, -5.103499889373779, -5.683199882507324, -5.488399982452393, -4.626399993896484, -5.386300086975098, -5.2347002029418945, -4.820099830627441, -5.397200107574463, -5.274099826812744, -4.912499904632568, -4.999000072479248, -5.400100231170654, -5.410999774932861, -5.324699878692627, -5.295300006866455, -5.081099987030029, -5.416299819946289, -8.179400444030762, -8.174099922180176, -8.250300407409668, -8.394399642944336, -8.410099983215332, -8.535599708557129, -8.571900367736816, -8.571900367736816, -8.571999549865723, -8.572099685668945, -8.581100463867188, -8.649100303649902, -8.659299850463867, -8.404500007629395, -8.630599975585938, -8.753999710083008, -7.913099765777588, -8.662799835205078, -8.7878999710083, -8.811200141906738, -8.811200141906738, -8.82289981842041, -8.83549976348877, -8.79990005493164, -7.436200141906738, -8.556699752807617, -8.80109977722168, -8.871899604797363, -8.884099960327148, -8.884300231933594, -8.126099586486816, -8.836199760437012, -8.509900093078613, -8.269399642944336, -8.469099998474121, -8.10569953918457, -7.740600109100342, -7.058199882507324, -7.058300018310547, -8.47350025177002, -6.4644999504089355, -7.2270002365112305, -7.957600116729736, -7.155700206756592, -8.290599822998047, -8.213000297546387, -4.305500030517578, -6.388400077819824, -6.388500213623047, -6.513000011444092, -7.946800231933594, -7.546899795532227, -6.422599792480469, -6.646200180053711, -6.909900188446045, -6.023900032043457, -4.675099849700928, -4.382999897003174, -7.111000061035156, -5.190700054168701, -5.899400234222412, -6.037099838256836, -6.394100189208984, -5.638400077819824, -6.195400238037109, -5.662199974060059, -5.680300235748291, -6.235599994659424, -6.605800151824951, -7.092899799346924, -5.694399833679199, -6.796800136566162, -5.359899997711182, -5.302299976348877, -5.478400230407715, -5.399400234222412, -5.0289998054504395, -5.457099914550781, -5.545100212097168, -6.082300186157227, -5.219299793243408, -6.112299919128418, -5.6890997886657715, -5.469399929046631, -5.606100082397461, -5.6631999015808105, -5.93179988861084, -5.809599876403809, -5.635900020599365, -5.835299968719482, -5.551000118255615, -5.832200050354004, -5.809500217437744, -5.627600193023682, -5.807000160217285, -5.755000114440918, -5.812900066375732, -7.218100070953369, -8.496299743652344, -9.13129997253418, -9.013299942016602, -9.013400077819824, -9.013500213623047, -9.187600135803223, -9.270600318908691, -9.187199592590332, -9.187299728393555, -9.187600135803223, -9.187600135803223, -8.951700210571289, -9.510100364685059, -9.549699783325195, -9.627799987792969, -9.513500213623047, -9.591699600219727, -9.589599609375, -9.591899871826172, -9.722100257873535, -9.722299575805664, -9.722299575805664, -9.68239974975586, -9.773699760437012, -9.771900177001953, -9.773799896240234, -9.822099685668945, -9.260700225830078, -9.487000465393066, -8.355999946594238, -9.034500122070312, -9.034600257873535, -8.795999526977539, -9.057100296020508, -9.05720043182373, -8.155799865722656, -8.686100006103516, -9.293700218200684, -8.062199592590332, -7.557000160217285, -8.614700317382812, -8.737299919128418, -7.502799987792969, -8.262800216674805, -6.39769983291626, -6.3979997634887695, -7.6656999588012695, -7.665800094604492, -8.202699661254883, -6.912899971008301, -7.2484002113342285, -8.486300468444824, -6.884399890899658, -7.064799785614014, -8.232999801635742, -7.45359992980957, -7.45359992980957, -6.819300174713135, -6.81689977645874, -5.616600036621094, -7.166600227355957, -7.167300224304199, -7.247399806976318, -5.919600009918213, -4.770899772644043, -5.59089994430542, -5.791800022125244, -6.871099948883057, -5.598999977111816, -5.376100063323975, -7.10699987411499, -7.180799961090088, -5.726200103759766, -4.958899974822998, -4.804999828338623, -5.438700199127197, -4.660399913787842, -5.228899955749512, -5.199100017547607, -4.547299861907959, -5.170000076293945, -6.382900238037109, -6.540800094604492, -6.045899868011475, -5.991499900817871, -6.357399940490723, -6.357399940490723, -5.6940999031066895, -6.043000221252441, -6.047699928283691, -5.802800178527832, -5.7941999435424805, -5.266600131988525, -5.547399997711182, -6.108399868011475, -5.153200149536133, -5.268799781799316, -5.740499973297119, -5.341300010681152, -5.7067999839782715, -5.955100059509277, -5.95989990234375, -5.908400058746338, -5.817500114440918, -5.919300079345703, -5.846099853515625, -5.906700134277344, -5.875, -3.712100028991699, -4.348499774932861, -4.593100070953369, -4.565199851989746, -4.601200103759766, -4.969099998474121, -5.096099853515625, -5.172500133514404, -5.291100025177002, -5.267300128936768, -3.3375000953674316, -5.395899772644043, -5.5868000984191895, -5.681300163269043, -5.73360013961792, -5.73360013961792, -5.769000053405762, -5.769000053405762, -5.936399936676025, -6.033999919891357, -3.947499990463257, -6.123499870300293, -6.383200168609619, -6.458899974822998, -6.366199970245361, -6.621099948883057, -6.652699947357178, -6.692999839782715, -6.769999980926514, -6.824900150299072, -3.938499927520752, -5.59630012512207, -3.713599920272827, -3.71370005607605, -4.803999900817871, -4.687399864196777, -4.371699810028076, -5.394499778747559, -5.247099876403809, -3.532599925994873, -5.608399868011475, -3.180299997329712, -5.60860013961792, -3.484800100326538, -4.8302001953125, -3.7471001148223877, -3.7297000885009766, -4.7866997718811035, -4.5553998947143555, -4.803800106048584, -4.606800079345703, -4.730400085449219, -4.805200099945068, -5.022900104522705, -5.121099948883057, -5.121699810028076]}, \"token.table\": {\"Topic\": [2, 3, 4, 4, 1, 1, 4, 1, 4, 2, 4, 1, 2, 3, 4, 5, 3, 1, 4, 2, 1, 2, 4, 2, 3, 1, 4, 1, 2, 3, 4, 5, 1, 2, 3, 4, 1, 2, 3, 4, 5, 1, 2, 3, 4, 5, 3, 1, 2, 3, 4, 1, 2, 4, 1, 2, 4, 1, 4, 1, 2, 3, 2, 3, 4, 4, 1, 2, 3, 4, 5, 1, 1, 2, 3, 4, 2, 1, 2, 3, 4, 5, 5, 5, 1, 2, 3, 4, 5, 1, 2, 3, 4, 1, 2, 3, 4, 5, 5, 1, 1, 2, 3, 4, 5, 2, 1, 2, 3, 4, 5, 1, 2, 3, 4, 1, 2, 3, 4, 5, 1, 2, 3, 4, 5, 1, 2, 4, 5, 4, 1, 2, 3, 4, 1, 1, 2, 3, 4, 5, 1, 2, 3, 4, 5, 3, 3, 1, 2, 3, 4, 1, 2, 3, 4, 1, 1, 2, 3, 4, 1, 2, 3, 4, 3, 4, 2, 3, 4, 1, 1, 3, 1, 2, 3, 4, 2, 3, 1, 2, 3, 4, 1, 2, 3, 4, 5, 1, 2, 3, 4, 1, 2, 3, 4, 1, 2, 3, 4, 1, 2, 3, 4, 5, 1, 2, 3, 4, 5, 1, 2, 3, 4, 1, 2, 3, 4, 1, 2, 3, 4, 1, 2, 3, 4, 1, 2, 3, 4, 2, 3, 1, 2, 3, 4, 5, 1, 2, 4, 1, 4, 2, 4, 1, 2, 3, 4, 5, 2, 4, 2, 1, 1, 2, 3, 4, 2, 3, 3, 5, 1, 2, 4, 3, 3, 3, 1, 2, 3, 4, 5, 3, 1, 2, 3, 4, 5, 3, 2, 1, 2, 3, 4, 5, 1, 2, 3, 4, 5, 1, 1, 2, 3, 4, 5, 2, 3, 4, 5, 1, 1, 2, 3, 4, 5, 1, 3, 5, 5, 5, 5, 1, 2, 3, 4, 4, 4, 3, 1, 2, 3, 4, 5, 5, 1, 2, 4, 4, 1, 4, 4, 2, 3, 4, 1, 2, 3, 4, 3, 1, 2, 4, 5, 1, 4, 1, 2, 3, 4, 5, 1, 2, 3, 4, 1, 2, 3, 4, 2, 2, 3, 4, 1, 2, 3, 4, 5, 1, 2, 3, 4, 5, 1, 2, 3, 1, 2, 4, 1, 2, 3, 4, 1, 2, 3, 4, 1, 2, 3, 4, 1, 2, 3, 4, 5, 1, 2, 3, 4, 1, 4, 1, 1, 2, 3, 4, 5, 5, 5, 4, 1, 5, 5, 3, 1, 2, 3, 4, 5, 1, 2, 3, 4, 5, 2, 1, 2, 3, 4, 5, 1, 2, 3, 4, 5, 1, 2, 3, 5, 2, 1, 2, 3, 4, 1, 2, 3, 4, 5, 1, 2, 3, 4, 2, 5, 4, 3, 1, 2, 3, 4, 5, 1, 2, 4, 5, 2, 1, 2, 3, 4, 1, 2, 3, 4, 1, 2, 3, 4, 1, 2, 3, 4, 5, 2, 1, 2, 3, 4, 5, 1, 2, 3, 4, 5, 5, 1, 2, 3, 4, 5, 1, 2, 3, 4, 3, 1, 2, 4, 1, 2, 3, 4, 5, 1, 2, 3, 4, 5, 1, 2, 3, 4, 1, 1, 2, 3, 4, 5, 1, 2, 3, 4, 5, 4, 1, 3, 1, 2, 3, 4, 2, 1, 3, 1, 2, 3, 4, 1, 2, 3, 4, 1, 2, 4, 1, 2, 4, 1, 2, 3, 4, 5, 1, 2, 3, 4, 5, 1, 2, 3, 4, 1, 2, 3, 4, 5, 1, 2, 4, 1, 2, 3, 4, 4, 1, 2, 3, 4, 1, 2, 3, 4, 5, 1, 1, 1, 2, 3, 4, 1, 4, 1, 4, 1, 2, 4, 1, 2, 3, 4, 4, 2, 3, 1, 2, 3, 4, 5, 1, 2, 3, 4, 5, 1, 2, 3, 4, 5, 1, 2, 4, 1, 2, 3, 5, 1, 5, 5, 5, 5, 1, 2, 4, 1, 2, 3, 4, 5, 5, 1, 2, 4, 1, 2, 3, 4, 5, 1, 2, 3, 4, 1, 2, 3, 2, 3, 2, 2, 1, 2, 3, 4, 1, 1, 2, 3, 4, 1, 2, 3, 4, 5, 1, 2, 3, 4, 1, 2, 3, 4, 1, 2, 3, 5, 4, 4, 1, 3, 1, 2, 3, 4, 1, 2, 4, 2, 3, 4, 2, 3, 4, 5, 2, 3, 4, 5, 1, 2, 3, 4, 5, 1, 2, 3, 4, 3, 1, 2, 3, 4, 5, 1, 2, 4, 3, 5, 3, 4, 3, 2, 3, 4, 2, 2, 4, 5, 1, 5, 4, 3, 3, 1, 2, 3, 4, 1, 2, 3, 4, 5, 1, 2, 3, 4, 1, 2, 3, 4, 1, 2, 3, 4, 1, 2, 3, 4, 1, 2, 3, 4, 3, 1, 2, 3, 4, 4, 1, 2, 3, 4, 5, 3, 2, 1, 2, 3, 4, 2, 1, 2, 3, 4, 5, 1, 2, 3, 4, 1, 1, 2, 3, 4, 5, 1, 2, 3, 4, 5, 3, 1, 2, 4, 4, 1, 2, 3, 4, 5, 1, 2, 3, 4, 1, 2, 4, 1, 4, 1, 1, 2, 3, 4, 5, 1, 2, 3, 4, 1, 2, 3, 4, 5, 1, 2, 3, 4, 5, 1, 2, 3, 4, 2, 3, 4, 2, 4, 1, 2, 3, 4, 5, 2, 3, 4, 1, 2, 3, 4, 5, 1, 2, 3, 4, 5, 2, 3, 4, 1, 2, 3, 4, 1, 2, 3, 4, 4, 1, 2, 3, 4, 5, 1, 2, 3, 4, 1, 4, 4, 1, 2, 3, 4, 5, 1, 2, 3, 4, 5, 1, 2, 3, 4, 5, 1, 2, 3, 4, 5, 1, 2, 3, 4, 1, 2, 3, 4, 2, 4, 4, 1, 2, 3, 4, 5, 1, 2, 3, 4, 5, 1, 2, 3, 5, 1, 2, 3, 4, 5, 1, 2, 4, 4, 1, 2, 3, 4, 1, 2, 3, 4, 5, 1, 2, 3, 4, 5, 1, 2, 3, 4, 5, 2, 3, 1, 2, 3, 4, 5, 2, 3, 1, 2, 3, 4, 5, 1, 2, 3, 4, 5, 5, 1, 2, 3, 4, 5, 1, 2, 3, 4, 5, 1, 2, 3, 4, 1, 5, 1, 2, 3, 4, 5, 1, 2, 3, 4, 5, 4, 1, 2, 3, 4, 4, 1, 4, 5, 5, 1, 2, 3, 4, 5, 1, 2, 4, 1, 2, 4, 1, 2, 3, 4, 5, 1, 2, 3, 4, 5, 4, 1, 2, 4, 2, 5, 1, 2, 3, 4, 5, 1, 4, 2, 1, 2, 4, 1, 2, 3, 4, 5, 4, 4, 2, 3, 4, 1, 4, 1, 2, 3, 4, 1, 2, 3, 1, 2, 3, 4, 5, 5, 1, 2, 3, 4, 5, 3, 1, 2, 2, 3, 4, 1, 2, 3, 4, 1, 3, 1, 2, 3, 1, 2, 3, 4, 1, 2, 3, 4, 3, 4, 1, 2, 3, 4, 5, 1, 2, 3, 4, 5, 1, 4, 1, 4, 2, 1, 1, 2, 3, 4, 1, 3, 3, 1, 2, 4], \"Freq\": [0.01782018318772316, 0.01782018318772316, 0.9622898697853088, 0.9505667686462402, 0.9967012405395508, 0.9947695732116699, 0.0038782439660280943, 0.9935896992683411, 0.006171364802867174, 0.023185675963759422, 0.9506127238273621, 0.26927438378334045, 0.25592538714408875, 0.35228848457336426, 0.12160106003284454, 0.0006257344502955675, 0.9919866323471069, 0.9983729720115662, 0.9711409211158752, 0.9720655679702759, 0.06105014681816101, 0.010175024159252644, 0.9259272217750549, 0.9741396307945251, 0.02435349114239216, 0.9941027164459229, 0.9940956830978394, 0.09550988674163818, 0.07012342661619186, 0.5569043159484863, 0.24463312327861786, 0.032842617481946945, 0.013620777055621147, 0.028603632003068924, 0.7654876708984375, 0.192052960395813, 0.04341743513941765, 0.1028614416718483, 0.5842413306236267, 0.26574966311454773, 0.0034967062529176474, 0.04366460070014, 0.10444100201129913, 0.5776708722114563, 0.27054351568222046, 0.0035403729416429996, 0.9908247590065002, 0.4837764501571655, 0.3959282338619232, 0.030039548873901367, 0.0901186466217041, 0.9889250993728638, 0.0018257078481838107, 0.008519969880580902, 0.987337052822113, 0.0022388596553355455, 0.008955438621342182, 0.9858161807060242, 0.012903353199362755, 0.9976822733879089, 0.9835910797119141, 0.012143099680542946, 0.9610172510147095, 0.009468150325119495, 0.02840445190668106, 0.9539141654968262, 0.24111193418502808, 0.3860571086406708, 0.25400155782699585, 0.09566128998994827, 0.023251885548233986, 0.9966967105865479, 0.0024899104610085487, 0.062247760593891144, 0.21164238452911377, 0.722074031829834, 0.9709135890007019, 0.05391935259103775, 0.03046291135251522, 0.061535079032182693, 0.016145342960953712, 0.8377300500869751, 0.9958975315093994, 0.9981217384338379, 0.07328557968139648, 0.07638472318649292, 0.3011636435985565, 0.5461781024932861, 0.0030991414096206427, 0.5114924311637878, 0.4363223612308502, 0.012808308005332947, 0.03926481306552887, 0.5114928483963013, 0.43569281697273254, 0.012808319181203842, 0.03989476338028908, 0.9987275004386902, 0.9977598190307617, 0.9988486170768738, 0.049337953329086304, 0.031135601922869682, 0.6447464823722839, 0.23375651240348816, 0.04167380556464195, 0.9665731191635132, 0.33829084038734436, 0.34464600682258606, 0.13720658421516418, 0.16653816401958466, 0.013280685059726238, 0.0846598744392395, 0.8127347826957703, 0.10159184783697128, 0.0016931974096223712, 0.07778143137693405, 0.07952280342578888, 0.6402456760406494, 0.16833294928073883, 0.03366658836603165, 0.23877602815628052, 0.27224427461624146, 0.16770102083683014, 0.15222646296024323, 0.1689605861902237, 0.05917203798890114, 0.024655016139149666, 0.9122355580329895, 0.9916772842407227, 0.9711402654647827, 0.9305118322372437, 0.001267727348022163, 0.06845727562904358, 0.001267727348022163, 0.9935063123703003, 0.13901174068450928, 0.03280513361096382, 0.6331390738487244, 0.18165841698646545, 0.013122052885591984, 0.18448688089847565, 0.22586356103420258, 0.3712513744831085, 0.13343031704425812, 0.08503098785877228, 0.9895893335342407, 0.9944441914558411, 0.9020769000053406, 0.020408978685736656, 0.03310789912939072, 0.04399268701672554, 0.9435507655143738, 0.018046053126454353, 0.008378524333238602, 0.029647087678313255, 0.9985445141792297, 0.03673325851559639, 0.12355732172727585, 0.0033393872436136007, 0.8415255546569824, 0.7844722867012024, 0.17543546855449677, 0.007040888071060181, 0.03285747766494751, 0.995104193687439, 0.9585060477256775, 0.03168231248855591, 0.015841156244277954, 0.9504693746566772, 0.9971842169761658, 0.9977206587791443, 0.9959879517555237, 0.1558568775653839, 0.8140738606452942, 0.02852737344801426, 0.0020873688627034426, 0.9955477714538574, 0.004148115403950214, 0.038545846939086914, 0.04392433539032936, 0.7494029998779297, 0.16762961447238922, 0.11271518468856812, 0.0727257952094078, 0.4314541220664978, 0.382839560508728, 0.000392052810639143, 0.10093700885772705, 0.12325961887836456, 0.34697097539901733, 0.42898228764533997, 0.01018927525728941, 0.12954935431480408, 0.0029112217016518116, 0.8573547601699829, 0.010189254768192768, 0.1310047060251236, 0.0029112156480550766, 0.8573530316352844, 0.004324163310229778, 0.05837620049715042, 0.8842913508415222, 0.049727875739336014, 0.004324163310229778, 0.08735396713018417, 0.33639416098594666, 0.12153594940900803, 0.4541321098804474, 0.0005425711860880256, 0.4265066087245941, 0.5156964659690857, 0.01712816022336483, 0.04058293625712395, 0.4046112895011902, 0.5481337904930115, 0.010306136682629585, 0.036834895610809326, 0.3337048590183258, 0.17511756718158722, 0.08523420989513397, 0.4060247838497162, 0.26276901364326477, 0.5105701684951782, 0.07517189532518387, 0.1514248102903366, 0.08466005325317383, 0.8127365708351135, 0.10159207135438919, 0.0016932011349126697, 0.9955465197563171, 0.002074055140838027, 0.5970874428749084, 0.14689309895038605, 0.17205680906772614, 0.08272566646337509, 0.0011795484460890293, 0.9897220730781555, 0.001670417026616633, 0.008352085016667843, 0.9903690218925476, 0.008949117735028267, 0.04400322213768959, 0.9387353658676147, 0.05263606086373329, 0.07027781754732132, 0.4323676526546478, 0.4442252218723297, 0.0002892091288231313, 0.046528056263923645, 0.94917231798172, 0.9623507857322693, 0.9942923188209534, 0.6051025390625, 0.20233562588691711, 0.07776036113500595, 0.11473620682954788, 0.9753555655479431, 0.021674567833542824, 0.990849494934082, 0.9958974123001099, 0.022711729630827904, 0.022711729630827904, 0.9538926482200623, 0.99560546875, 0.9961848855018616, 0.9920560717582703, 0.1018211841583252, 0.13991256058216095, 0.6900399923324585, 0.06739243865013123, 0.0014650530647486448, 0.9956053495407104, 0.027317870408296585, 0.23220190405845642, 0.02341531775891781, 0.7161184549331665, 0.00195127644110471, 0.9903491139411926, 0.9648517370223999, 0.0734182745218277, 0.06555473059415817, 0.5747947692871094, 0.28331440687179565, 0.002873217687010765, 0.31212350726127625, 0.44367319345474243, 0.15645641088485718, 0.08708588033914566, 0.0006138984463177621, 0.9958633780479431, 0.1693815290927887, 0.2981753945350647, 0.1255979984998703, 0.05225260183215141, 0.35458263754844666, 0.0010700096609070897, 0.07062063366174698, 0.0010700096609070897, 0.9276983141899109, 0.9968442916870117, 0.011660784482955933, 0.0021201425697654486, 0.01007067784667015, 0.004240285139530897, 0.9715553522109985, 0.008869620971381664, 0.04213070124387741, 0.9468320608139038, 0.9975859522819519, 0.9900074601173401, 0.9986991882324219, 0.16270758211612701, 0.7057570815086365, 0.06788118928670883, 0.06321759521961212, 0.9826123714447021, 0.9609606266021729, 0.9907135963439941, 0.2179858535528183, 0.16240143775939941, 0.32559409737586975, 0.1297629028558731, 0.16418172419071198, 0.9998127222061157, 0.0653316006064415, 0.027221499010920525, 0.9037538170814514, 0.9547789096832275, 0.9679597020149231, 0.02981395460665226, 0.971521258354187, 0.030898317694664, 0.9454885125160217, 0.01853899098932743, 0.0066411495208740234, 0.029885172843933105, 0.7770144939422607, 0.18595218658447266, 0.9911243915557861, 0.0027427563909441233, 0.0027427563909441233, 0.04662685841321945, 0.9462509155273438, 0.994382917881012, 0.005394482519477606, 0.6846210956573486, 0.24191097915172577, 0.007356863468885422, 0.0610186904668808, 0.00476032355800271, 0.08620516955852509, 0.1085546612739563, 0.00319278403185308, 0.8045815825462341, 0.004562673158943653, 0.036501385271549225, 0.907971978187561, 0.04562673345208168, 0.968578577041626, 0.08616339415311813, 0.009573710151016712, 0.8999287486076355, 0.5958297848701477, 0.22339728474617004, 0.11729913204908371, 0.05476033687591553, 0.008711871691048145, 0.5451337695121765, 0.2688756287097931, 0.13985395431518555, 0.045951031148433685, 0.00020698661683127284, 0.024872440844774246, 0.9575889706611633, 0.01658162660896778, 0.9976325035095215, 0.023185662925243378, 0.9506121873855591, 0.08321518450975418, 0.09539301693439484, 0.03653349354863167, 0.7834405303001404, 0.09400127828121185, 0.06345086544752121, 0.016450224444270134, 0.8272112607955933, 0.10805448144674301, 0.059429965913295746, 0.013506810180842876, 0.8158113360404968, 0.010043672285974026, 0.04218342527747154, 0.7351968288421631, 0.10344982892274857, 0.10847166180610657, 0.8014122247695923, 0.15948320925235748, 0.00036328748683445156, 0.038508474826812744, 0.9938156008720398, 0.005079125519841909, 0.9954123497009277, 0.03194946423172951, 0.043505650013685226, 0.13391582667827606, 0.25695526599884033, 0.533623993396759, 0.9988555312156677, 0.996040940284729, 0.9764574766159058, 0.003291619010269642, 0.9962633848190308, 0.9987850189208984, 0.9868934154510498, 0.19820469617843628, 0.5692982077598572, 0.16640549898147583, 0.06375275552272797, 0.002315475372597575, 0.12699919939041138, 0.6743878126144409, 0.1717482954263687, 0.026471298187971115, 0.0003151345008518547, 0.9706190228462219, 0.054816633462905884, 0.07182300090789795, 0.46329963207244873, 0.4099690020084381, 0.00016511035209987313, 0.020789504051208496, 0.003849908011034131, 0.05389871448278427, 0.0061598531901836395, 0.9147381782531738, 0.008604814298450947, 0.0012292593019083142, 0.04179481416940689, 0.9477588534355164, 0.9665243029594421, 0.13579228520393372, 0.7387100458145142, 0.047333311289548874, 0.0783715471625328, 0.018345516175031662, 0.8019611239433289, 0.16642002761363983, 0.011793545447289944, 0.0013103940291330218, 0.14918453991413116, 0.04680299013853073, 0.005850373767316341, 0.7985760569572449, 0.9746376276016235, 0.9898661375045776, 0.9541856050491333, 0.9905288219451904, 0.03318851813673973, 0.05248964577913284, 0.3587184548377991, 0.09509334713220596, 0.4604024291038513, 0.0027427144814282656, 0.005485428962856531, 0.046626146882772446, 0.9462364912033081, 0.9740973114967346, 0.5273094773292542, 0.42112496495246887, 0.014050881378352642, 0.03753592446446419, 0.3543262779712677, 0.02423730306327343, 0.032316405326128006, 0.5886201858520508, 0.7270078063011169, 0.17239312827587128, 0.011445186100900173, 0.0889386385679245, 0.1732066571712494, 0.10330905765295029, 0.39068862795829773, 0.23285533487796783, 0.09982442855834961, 0.9659126400947571, 0.08786650747060776, 0.11015617102384567, 0.3472665250301361, 0.1353531926870346, 0.31948521733283997, 0.15412507951259613, 0.0288984514772892, 0.4932805299758911, 0.09833501279354095, 0.22516711056232452, 0.9988711476325989, 0.2673242390155792, 0.1636948436498642, 0.20461854338645935, 0.10989996045827866, 0.25445306301116943, 0.6090884804725647, 0.24556389451026917, 0.019927959889173508, 0.12503187358379364, 0.995720624923706, 0.9892833232879639, 0.0017997876275330782, 0.00839900877326727, 0.013331819325685501, 0.045485030859708786, 0.7175655961036682, 0.1458657830953598, 0.07685402035713196, 0.06595845520496368, 0.07638862729072571, 0.5218068361282349, 0.3323749601840973, 0.0033773905597627163, 0.19712500274181366, 0.11251002550125122, 0.13482606410980225, 0.5560413002967834, 0.9979366660118103, 0.12635645270347595, 0.13808025419712067, 0.5418998599052429, 0.19279129803180695, 0.0013026439119130373, 0.000971832312643528, 0.11661987751722336, 0.8532687425613403, 0.027211304754018784, 0.001943664625287056, 0.9584628939628601, 0.024757688865065575, 0.9738024473190308, 0.08940096944570541, 0.06034565716981888, 0.042465463280677795, 0.8090788125991821, 0.9951117634773254, 0.04058392345905304, 0.9537221789360046, 0.7801903486251831, 0.016887236386537552, 0.0783567801117897, 0.12496555596590042, 0.3020673990249634, 0.1722533106803894, 0.015810690820217133, 0.5101028084754944, 0.065331369638443, 0.027221404016017914, 0.9037506580352783, 0.9911961555480957, 0.003841845551505685, 0.003841845551505685, 0.09497885406017303, 0.06844064593315125, 0.2206861674785614, 0.6145690679550171, 0.0013967478880658746, 0.016050156205892563, 0.0948418378829956, 0.19406098127365112, 0.6930749416351318, 0.002188657643273473, 0.04587199538946152, 0.854365885257721, 0.00573399942368269, 0.097477987408638, 0.09888491779565811, 0.8029455542564392, 0.029006242752075195, 0.05405709147453308, 0.014503121376037598, 0.07824506610631943, 0.896127462387085, 0.023621151223778725, 0.06050977483391762, 0.6966913342475891, 0.21634317934513092, 0.026524832472205162, 0.9520686864852905, 0.1630936563014984, 0.05129949003458023, 0.659633994102478, 0.12582893669605255, 0.24795851111412048, 0.1747225821018219, 0.43239790201187134, 0.12451907992362976, 0.020333318039774895, 0.9970164895057678, 0.9970158934593201, 0.90936678647995, 0.003562651574611664, 0.016922594979405403, 0.07036236673593521, 0.9935474395751953, 0.005949385929852724, 0.9946867227554321, 0.004860032815486193, 0.022711675614118576, 0.022711675614118576, 0.9538903832435608, 0.025678114965558052, 0.12154307961463928, 0.7874621748924255, 0.06676309555768967, 0.975423276424408, 0.026865212246775627, 0.9671476483345032, 0.00898206327110529, 0.8545791506767273, 0.05902498587965965, 0.05645868182182312, 0.020530428737401962, 0.5432493090629578, 0.18952520191669464, 0.10046102106571198, 0.15934468805789948, 0.007175786886364222, 0.03406249359250069, 0.06149334833025932, 0.5796652436256409, 0.321935772895813, 0.0030143798794597387, 0.008153918199241161, 0.1549244374036789, 0.8357766270637512, 0.001194395823404193, 0.00029859895585104823, 0.0005971979117020965, 0.9982162714004517, 0.014072454534471035, 0.9822573065757751, 0.9984965324401855, 0.9993992447853088, 0.9992517828941345, 0.045746494084596634, 0.9034932255744934, 0.04955870285630226, 0.3432101607322693, 0.42927786707878113, 0.1280408799648285, 0.0951593741774559, 0.004242774564772844, 0.9944319725036621, 0.016624603420495987, 0.033249206840991974, 0.9476023316383362, 0.08020897209644318, 0.03966377675533295, 0.5570557117462158, 0.3164287805557251, 0.006757532246410847, 0.8354509472846985, 0.07382867485284805, 0.012070083059370518, 0.07865671068429947, 0.0012725060805678368, 0.9683771729469299, 0.029903894290328026, 0.9955472946166992, 0.0020740570034831762, 0.9772653579711914, 0.9667435884475708, 0.4277220666408539, 0.5253602862358093, 0.010170649737119675, 0.03679925948381424, 0.9967015981674194, 0.025265133008360863, 0.03789769858121872, 0.012632566504180431, 0.9221773743629456, 0.12194656580686569, 0.6733930706977844, 0.18023289740085602, 0.023975934833288193, 0.0006200672942213714, 0.03571726381778717, 0.7278124690055847, 0.21547465026378632, 0.021079041063785553, 0.25120308995246887, 0.5688028335571289, 0.07235345989465714, 0.10780374705791473, 0.019154565408825874, 0.003830913221463561, 0.9385737180709839, 0.03830913081765175, 0.964939534664154, 0.954664945602417, 0.0048075951635837555, 0.9903645515441895, 0.059085533022880554, 0.8062713742256165, 0.12186391651630402, 0.013540434651076794, 0.060502950102090836, 0.027924438938498497, 0.9075442552566528, 0.00596334133297205, 0.9899146556854248, 0.002981670666486025, 0.001238220720551908, 0.05076704919338226, 0.00041274024988524616, 0.9472388625144958, 0.0008254804997704923, 0.05117979273200035, 0.00041274024988524616, 0.9472388625144958, 0.2256115823984146, 0.15651804208755493, 0.1710887849330902, 0.39482027292251587, 0.05217267945408821, 0.3020663559436798, 0.17225272953510284, 0.015810636803507805, 0.5101010799407959, 0.9908491969108582, 0.04927337169647217, 0.09283388406038284, 0.47291725873947144, 0.35883867740631104, 0.0262434259057045, 0.01582191325724125, 0.965136706829071, 0.01582191325724125, 0.9884944558143616, 0.008671004325151443, 0.9737021923065186, 0.016503427177667618, 0.9943059682846069, 0.029387975111603737, 0.029387975111603737, 0.9698031544685364, 0.9699117541313171, 0.948521614074707, 0.03513043001294136, 0.9926391243934631, 0.9957336783409119, 0.9910137057304382, 0.9619150757789612, 0.9956054091453552, 0.9936628937721252, 0.14918306469917297, 0.04680253192782402, 0.0058503164909780025, 0.7985681891441345, 0.1439182609319687, 0.1946633905172348, 0.38816872239112854, 0.19213666021823883, 0.08106587827205658, 0.2548718750476837, 0.5650475025177002, 0.07057534158229828, 0.10956969857215881, 0.2551707923412323, 0.565497636795044, 0.07072427123785019, 0.1085328459739685, 0.3066271245479584, 0.6110699772834778, 0.05897475406527519, 0.02329866960644722, 0.30357465147972107, 0.6280815005302429, 0.050653599202632904, 0.01769406534731388, 0.40420499444007874, 0.2661394774913788, 0.21241848170757294, 0.11730378866195679, 0.9906384944915771, 0.31643104553222656, 0.5753896832466125, 0.038388896733522415, 0.0696769580245018, 0.9608405232429504, 0.16698558628559113, 0.047559186816215515, 0.10463020950555801, 0.6795679330825806, 0.0005284353974275291, 0.9951526522636414, 0.9665228128433228, 0.29019850492477417, 0.6325675249099731, 0.06017395108938217, 0.016896134242415428, 0.9720655083656311, 0.061610568314790726, 0.07255660742521286, 0.2642686665058136, 0.1504298597574234, 0.45113322138786316, 0.1470479518175125, 0.8258857727050781, 0.022157911211252213, 0.004028711002320051, 0.9936349987983704, 0.023222126066684723, 0.122907355427742, 0.6507859230041504, 0.20163603127002716, 0.0016991799930110574, 0.0009099987801164389, 0.10828985273838043, 0.6934190392494202, 0.1783597618341446, 0.019109973683953285, 0.9889857172966003, 0.9601694941520691, 0.007103596813976765, 0.0319661870598793, 0.9711412787437439, 0.015713440254330635, 0.03142688050866127, 0.8642392158508301, 0.08642392605543137, 0.0019641800317913294, 0.3173612654209137, 0.6058240532875061, 0.053102195262908936, 0.023682119324803352, 0.014235597103834152, 0.9537850022315979, 0.028471194207668304, 0.9864615797996521, 0.012093223631381989, 0.9967716336250305, 0.08547285199165344, 0.2600751519203186, 0.2580944895744324, 0.05225880444049835, 0.3440244197845459, 0.811262845993042, 0.054233286529779434, 0.0027955302502959967, 0.13138991594314575, 0.9255167841911316, 0.0012473271926864982, 0.0661083459854126, 0.006236636079847813, 0.995338499546051, 0.3707149624824524, 0.5528250932693481, 0.029875418171286583, 0.04637184366583824, 0.00012989311653655022, 0.12388020753860474, 0.8399350047111511, 0.02450377680361271, 0.010890567675232887, 0.9674246907234192, 0.9571736454963684, 0.039413031190633774, 0.9612433314323425, 0.01780080236494541, 0.38528570532798767, 0.1447950303554535, 0.2435714304447174, 0.18291924893856049, 0.04351552948355675, 0.02490544691681862, 0.04981089383363724, 0.9215015172958374, 0.175009086728096, 0.051473259925842285, 0.7194817662239075, 0.03774705529212952, 0.014870052225887775, 0.2112528681755066, 0.13389265537261963, 0.15769580006599426, 0.486774206161499, 0.010413873940706253, 0.9856399893760681, 0.00423021474853158, 0.00846042949706316, 0.06478554755449295, 0.8183878064155579, 0.11619602143764496, 0.0004179712850600481, 0.059358928352594376, 0.8182656168937683, 0.12204639613628387, 0.0005547563778236508, 0.9547785520553589, 0.20373569428920746, 0.16255433857440948, 0.4927056133747101, 0.11864155530929565, 0.02241162769496441, 0.9577156901359558, 0.020629309117794037, 0.009283189661800861, 0.012377586215734482, 0.9938140511512756, 0.0050791180692613125, 0.9717240929603577, 0.046988971531391144, 0.0886077731847763, 0.34771838784217834, 0.5159836411476135, 0.00044751400128006935, 0.1426188349723816, 0.8135716319084167, 0.024205150082707405, 0.019329292699694633, 0.00017413776367902756, 0.1370195597410202, 0.8173925280570984, 0.025127410888671875, 0.02018783427774906, 0.0002147641935152933, 0.07882034778594971, 0.15860192477703094, 0.03556527942419052, 0.00480611901730299, 0.7218790650367737, 0.49306634068489075, 0.4644450843334198, 0.009974077343940735, 0.03237961232662201, 0.052137404680252075, 0.004739764146506786, 0.9337334632873535, 0.009479528293013573, 0.02852499671280384, 0.9698498845100403, 0.9754231572151184, 0.7730488777160645, 0.13455700874328613, 0.012206034734845161, 0.07962984591722488, 0.0002906198787968606, 0.1565670222043991, 0.11508646607398987, 0.4494020640850067, 0.16962897777557373, 0.10943804681301117, 0.01706894300878048, 0.0037930982653051615, 0.039827533066272736, 0.938791811466217, 0.7401401996612549, 0.1036730706691742, 0.034201424568891525, 0.12184257805347443, 0.0005343972588889301, 0.034366145730018616, 0.011455382220447063, 0.9507967233657837, 0.9627286791801453, 0.08807447552680969, 0.8463742733001709, 0.06444474309682846, 0.0021481579169631004, 0.19297854602336884, 0.6128765940666199, 0.1592315435409546, 0.034910690039396286, 0.0001939482899615541, 0.48985379934310913, 0.34864285588264465, 0.09192318469285965, 0.06864000856876373, 0.0009071367094293237, 0.202880397439003, 0.34610626101493835, 0.3263130486011505, 0.12274539470672607, 0.0019243399146944284, 0.9935131669044495, 0.004055155906826258, 0.008062902837991714, 0.8519800901412964, 0.05912795290350914, 0.05912795290350914, 0.021501073613762856, 0.9935145378112793, 0.004055161494761705, 0.03491661325097084, 0.8763865232467651, 0.07840923219919205, 0.01020953617990017, 0.00020419071370270103, 0.03471214324235916, 0.8765837550163269, 0.07820442318916321, 0.010413642972707748, 0.00020418908388819546, 0.9977598190307617, 0.4131960868835449, 0.42300891876220703, 0.06944472342729568, 0.0914858728647232, 0.0028683689888566732, 0.163533017039299, 0.18116553127765656, 0.35800936818122864, 0.20311975479125977, 0.09421299397945404, 0.035309087485075, 0.005432167090475559, 0.22543492913246155, 0.7306264638900757, 0.9973495006561279, 0.994926929473877, 0.07236354798078537, 0.12191685289144516, 0.7448726296424866, 0.05977858603000641, 0.0015731207095086575, 0.07315047830343246, 0.12191746383905411, 0.7448763847351074, 0.05899231880903244, 0.0015731285093352199, 0.9604886770248413, 0.06566263735294342, 0.1005718857049942, 0.2896636724472046, 0.5440024733543396, 0.9711405038833618, 0.9948652982711792, 0.003209242830052972, 0.9990857243537903, 0.9985272288322449, 0.16339240968227386, 0.014120331965386868, 0.03227504342794418, 0.780652642250061, 0.008068760856986046, 0.9607915282249451, 0.03843166306614876, 0.0010113595053553581, 0.9607911705970764, 0.038431648164987564, 0.0010113591561093926, 0.12140154093503952, 0.16116371750831604, 0.32063543796539307, 0.15947170555591583, 0.2377270609140396, 0.1952454298734665, 0.16727711260318756, 0.31857234239578247, 0.3169741630554199, 0.0018645538948476315, 0.9549854397773743, 0.6804375052452087, 0.2878867983818054, 0.03147237002849579, 0.9600557684898376, 0.998659610748291, 0.4307015538215637, 0.3183148503303528, 0.17771722376346588, 0.06967063248157501, 0.0034264244604855776, 0.9961499571800232, 0.0025941405910998583, 0.9701823592185974, 0.04745537042617798, 0.028473222628235817, 0.9206342101097107, 0.02038479968905449, 0.10439487546682358, 0.4844993054866791, 0.3901938796043396, 0.000411814107792452, 0.9678643345832825, 0.9754225611686707, 0.011490488424897194, 0.853168785572052, 0.1321406215429306, 0.981317937374115, 0.017155908048152924, 0.4484805762767792, 0.36618736386299133, 0.09276901930570602, 0.09253621846437454, 0.9941219687461853, 0.005830627400428057, 0.9871661067008972, 0.0449836328625679, 0.06297709047794342, 0.46214765310287476, 0.39585599303245544, 0.03456637263298035, 0.9962106943130493, 0.0566454641520977, 0.14784465730190277, 0.1767338514328003, 0.6112045645713806, 0.006797455716878176, 0.9913445115089417, 0.061158522963523865, 0.9348517060279846, 0.013068602420389652, 0.9054674506187439, 0.08214549720287323, 0.0018669480923563242, 0.013068635948002338, 0.9054697751998901, 0.08214571326971054, 0.9975973963737488, 0.9891632795333862, 0.9897076487541199, 0.003799261525273323, 0.005698892287909985, 0.7717627286911011, 0.15377552807331085, 0.023946283385157585, 0.0504891537129879, 0.82887202501297, 0.11964420974254608, 0.0038388515822589397, 0.04766574129462242, 0.9908108711242676, 0.005932999309152365, 0.25979867577552795, 0.19173088669776917, 0.16068242490291595, 0.3842579126358032, 0.0035825150553137064, 0.036340419203042984, 0.044791679829359055, 0.5434160232543945, 0.3439662754535675, 0.03126966208219528, 0.9980356097221375, 0.0011471672914922237, 0.9980373978614807, 0.0011471693869680166, 0.9696395993232727, 0.9973501563072205, 0.46237269043922424, 0.4278776943683624, 0.038467179983854294, 0.0712200328707695, 0.992760956287384, 0.9953080415725708, 0.9906615614891052, 0.008153914473950863, 0.15492437779903412, 0.8357762694358826], \"Term\": [\"19moons\", \"19moons\", \"19moons\", \"4pc\", \"abed\", \"abiti\", \"abiti\", \"abiti_sposa\", \"abiti_sposa\", \"absinthe\", \"absinthe\", \"accessory\", \"accessory\", \"accessory\", \"accessory\", \"accessory\", \"acme\", \"alba_moda\", \"allt\", \"amiclubwear\", \"ammonite\", \"ammonite\", \"ammonite\", \"antik\", \"antik\", \"apart\", \"aromaleigh\", \"art\", \"art\", \"art\", \"art\", \"art\", \"art_design\", \"art_design\", \"art_design\", \"art_design\", \"artful\", \"artful\", \"artful\", \"artful\", \"artful\", \"artful_home\", \"artful_home\", \"artful_home\", \"artful_home\", \"artful_home\", \"asheville\", \"asos\", \"asos\", \"asos\", \"asos\", \"automne\", \"automne\", \"automne\", \"automne_hiver\", \"automne_hiver\", \"automne_hiver\", \"avalaya\", \"avalaya\", \"avenda\\u00f1o\", \"aviator\", \"aviator\", \"babyphat\", \"babyphat\", \"babyphat\", \"backside\", \"bag\", \"bag\", \"bag\", \"bag\", \"bag\", \"basil\", \"bathtub\", \"bathtub\", \"bathtub\", \"bathtub\", \"bauletto\", \"bead\", \"bead\", \"bead\", \"bead\", \"bead\", \"bead_craftier\", \"bead_ega\", \"bed\", \"bed\", \"bed\", \"bed\", \"bed\", \"bergdorf\", \"bergdorf\", \"bergdorf\", \"bergdorf\", \"bergdorf_goodman\", \"bergdorf_goodman\", \"bergdorf_goodman\", \"bergdorf_goodman\", \"bhv\", \"bhv_ega\", \"bielizna\", \"bird\", \"bird\", \"bird\", \"bird\", \"bird\", \"birkin\", \"black\", \"black\", \"black\", \"black\", \"black\", \"black_revolve\", \"black_revolve\", \"black_revolve\", \"black_revolve\", \"blossom\", \"blossom\", \"blossom\", \"blossom\", \"blossom\", \"blue\", \"blue\", \"blue\", \"blue\", \"blue\", \"blume\", \"blume\", \"blume\", \"boro\", \"bostad\", \"boston_proper\", \"boston_proper\", \"boston_proper\", \"boston_proper\", \"bostonproper\", \"bowl\", \"bowl\", \"bowl\", \"bowl\", \"bowl\", \"bracelet\", \"bracelet\", \"bracelet\", \"bracelet\", \"bracelet\", \"brad\", \"bradley\", \"bridal\", \"bridal\", \"bridal\", \"bridal\", \"bridesmaid\", \"bridesmaid\", \"bridesmaid\", \"bridesmaid\", \"bridesmaid_junior\", \"brolliesgalore\", \"brolliesgalore\", \"brolliesgalore\", \"brolliesgalore\", \"brown_fashion\", \"brown_fashion\", \"brown_fashion\", \"brown_fashion\", \"brownie\", \"butterfly_coffee_0\", \"cabin\", \"cabin\", \"cabin\", \"cabotine\", \"calida\", \"carrotbox\", \"celebrity\", \"celebrity\", \"celebrity\", \"celebrity\", \"celebrity_designer\", \"celebrity_designer\", \"ceramic\", \"ceramic\", \"ceramic\", \"ceramic\", \"chair\", \"chair\", \"chair\", \"chair\", \"chair\", \"chandelier\", \"chandelier\", \"chandelier\", \"chandelier\", \"charmingly\", \"charmingly\", \"charmingly\", \"charmingly\", \"charmingly_chic\", \"charmingly_chic\", \"charmingly_chic\", \"charmingly_chic\", \"chiasso\", \"chiasso\", \"chiasso\", \"chiasso\", \"chiasso\", \"chic\", \"chic\", \"chic\", \"chic\", \"chic\", \"christian\", \"christian\", \"christian\", \"christian\", \"christian_louboutin\", \"christian_louboutin\", \"christian_louboutin\", \"christian_louboutin\", \"clothes\", \"clothes\", \"clothes\", \"clothes\", \"clothing\", \"clothing\", \"clothing\", \"clothing\", \"clothing_free\", \"clothing_free\", \"clothing_free\", \"clothing_free\", \"clothing_list\", \"clothing_list\", \"collection\", \"collection\", \"collection\", \"collection\", \"collection\", \"collection_automne\", \"collection_automne\", \"collection_automne\", \"collection_printemps\", \"collection_printemps\", \"community\", \"community\", \"contemporary\", \"contemporary\", \"contemporary\", \"contemporary\", \"contemporary\", \"coolest\", \"coolest\", \"corded\", \"cortos\", \"couture\", \"couture\", \"couture\", \"couture\", \"cozychic\", \"cozychic\", \"crafter\", \"craftier\", \"curbly\", \"curbly\", \"curbly\", \"da\", \"danish\", \"danske\", \"darling\", \"darling\", \"darling\", \"darling\", \"darling\", \"dasmoebel\", \"dawanda\", \"dawanda\", \"dawanda\", \"dawanda\", \"dawanda\", \"decopasion\", \"delfuoco\", \"design\", \"design\", \"design\", \"design\", \"design\", \"designer\", \"designer\", \"designer\", \"designer\", \"designer\", \"dessous\", \"detail\", \"detail\", \"detail\", \"detail\", \"detail\", \"detail_hand\", \"detail_hand\", \"detail_hand\", \"detail_hand\", \"detailed_view\", \"dichroic\", \"dichroic\", \"dichroic\", \"dichroic\", \"dichroic\", \"dichroic_glass\", \"dichroic_glass\", \"dichroic_glass\", \"dichroic_pendant\", \"dogmaw\", \"dogmawglass\", \"dolce\", \"dolce\", \"dolce\", \"dolce\", \"domodinamica\", \"dornbracht\", \"dwell\", \"earring\", \"earring\", \"earring\", \"earring\", \"earring\", \"ega\", \"eigengold\", \"eigengold\", \"eigengold\", \"elden\", \"elegance\", \"elegance\", \"elemental\", \"eley\", \"eley\", \"eley\", \"elsewares\", \"elsewares\", \"elsewares\", \"elsewares\", \"ethnocity\", \"etsy_glasscat\", \"etsy_glasscat\", \"etsy_glasscat\", \"etsy_glasscat\", \"et\\u00e9\", \"et\\u00e9\", \"evening\", \"evening\", \"evening\", \"evening\", \"evening\", \"everyone\", \"everyone\", \"everyone\", \"everyone\", \"fabulously\", \"fabulously\", \"fabulously\", \"fabulously\", \"factor\", \"fafi\", \"fafi\", \"fafi\", \"fall\", \"fall\", \"fall\", \"fall\", \"fall\", \"fashion\", \"fashion\", \"fashion\", \"fashion\", \"fashion\", \"fashionchateau\", \"fashionchateau\", \"fashionchateau\", \"fashiondesigners\", \"fashmatch\", \"fashmatch\", \"feel\", \"feel\", \"feel\", \"feel\", \"feel_human\", \"feel_human\", \"feel_human\", \"feel_human\", \"feelmorehuman\", \"feelmorehuman\", \"feelmorehuman\", \"feelmorehuman\", \"felt\", \"felt\", \"felt\", \"felt\", \"felt\", \"femme\", \"femme\", \"femme\", \"femme\", \"femme_jupes\", \"femme_jupes\", \"fiesta\", \"fire\", \"fire\", \"fire\", \"fire\", \"fire\", \"fire_sand\", \"flamekist\", \"flute\", \"focal\", \"focal\", \"focal_bead\", \"food\", \"free\", \"free\", \"free\", \"free\", \"free\", \"free_shipping\", \"free_shipping\", \"free_shipping\", \"free_shipping\", \"free_shipping\", \"frenzii\", \"furniture\", \"furniture\", \"furniture\", \"furniture\", \"furniture\", \"fused\", \"fused\", \"fused\", \"fused\", \"fused\", \"fused_glass\", \"fused_glass\", \"fused_glass\", \"fused_glass\", \"fw08\", \"gabbana\", \"gabbana\", \"gabbana\", \"gabbana\", \"gap\", \"gap\", \"gap\", \"gap\", \"gap\", \"geographic\", \"geographic\", \"geographic\", \"geographic\", \"gestuz\", \"giapet\", \"girado\", \"girlshop\", \"glass\", \"glass\", \"glass\", \"glass\", \"glass\", \"glasscat\", \"glasscat\", \"glasscat\", \"glasscat\", \"glorie\", \"goodman\", \"goodman\", \"goodman\", \"goodman\", \"gothic\", \"gothic\", \"gothic\", \"gothic\", \"gown\", \"gown\", \"gown\", \"gown\", \"green\", \"green\", \"green\", \"green\", \"green\", \"gres\", \"hand\", \"hand\", \"hand\", \"hand\", \"hand\", \"handmade\", \"handmade\", \"handmade\", \"handmade\", \"handmade\", \"handmade_lampwork\", \"heart\", \"heart\", \"heart\", \"heart\", \"heart\", \"heel\", \"heel\", \"heel\", \"heel\", \"hhstyle\", \"hiver\", \"hiver\", \"hiver\", \"holder\", \"holder\", \"holder\", \"holder\", \"holder\", \"home\", \"home\", \"home\", \"home\", \"home\", \"horchow\", \"horchow\", \"horchow\", \"horchow\", \"hosting\", \"house\", \"house\", \"house\", \"house\", \"house\", \"house_indie\", \"house_indie\", \"house_indie\", \"house_indie\", \"house_indie\", \"htx7\", \"hueconcept\", \"hueconcept\", \"human\", \"human\", \"human\", \"human\", \"iisli\", \"iloveyoyo\", \"iloveyoyo\", \"image\", \"image\", \"image\", \"image\", \"indie_clothing\", \"indie_clothing\", \"indie_clothing\", \"indie_clothing\", \"indoorframe\", \"indoorframe\", \"indoorframe\", \"instyle\", \"instyle\", \"instyle\", \"interior\", \"interior\", \"interior\", \"interior\", \"interior\", \"interior_design\", \"interior_design\", \"interior_design\", \"interior_design\", \"interior_design\", \"intermix\", \"intermix\", \"intermix\", \"intermix\", \"ivy\", \"ivy\", \"ivy\", \"ivy\", \"ivy\", \"ivy_blue\", \"ivy_blue\", \"ivy_blue\", \"jacob\", \"jacob\", \"jacob\", \"jacob\", \"jesse\", \"jewellery\", \"jewellery\", \"jewellery\", \"jewellery\", \"jewelry\", \"jewelry\", \"jewelry\", \"jewelry\", \"jewelry\", \"jlm\", \"jlm_couture\", \"jpg\", \"jpg\", \"jpg\", \"jpg\", \"jpg_pixel\", \"jpg_pixel\", \"jupes\", \"jupes\", \"keywords\", \"keywords\", \"keywords\", \"kid\", \"kid\", \"kid\", \"kid\", \"kineda\", \"kishimoto\", \"kishimoto\", \"kitson\", \"kitson\", \"kitson\", \"kitson\", \"kitson\", \"lace\", \"lace\", \"lace\", \"lace\", \"lace\", \"lamp\", \"lamp\", \"lamp\", \"lamp\", \"lamp\", \"lamplagret\", \"lamplagret\", \"lamplagret\", \"lampwork\", \"lampwork\", \"lampwork\", \"lampwork\", \"lampwork_bead\", \"lampwork_bead\", \"lampwork_focal\", \"lampwork_glass\", \"lampwork_sra\", \"language\", \"language\", \"language\", \"leather\", \"leather\", \"leather\", \"leather\", \"leather\", \"lentil\", \"lewasdesigns\", \"lewasdesigns\", \"lewasdesigns\", \"light\", \"light\", \"light\", \"light\", \"light\", \"lingerie\", \"lingerie\", \"lingerie\", \"lingerie\", \"list\", \"list\", \"list\", \"list_designer\", \"list_designer\", \"loriblu\", \"loubinette\", \"louboutin\", \"louboutin\", \"louboutin\", \"louboutin\", \"mahfouz\", \"malam\", \"malam\", \"malam\", \"malam\", \"marc\", \"marc\", \"marc\", \"marc\", \"marc\", \"marc_marc\", \"marc_marc\", \"marc_marc\", \"marc_marc\", \"marcus\", \"marcus\", \"marcus\", \"marcus\", \"marimekko\", \"marimekko\", \"marimekko\", \"marimekko\", \"mechanical\", \"mechanique\", \"menu\", \"menu\", \"milly\", \"milly\", \"milly\", \"milly\", \"mineral\", \"mineral\", \"mineral\", \"mintd\", \"mintd\", \"mintd\", \"mixtgoods\", \"mixtgoods\", \"mixtgoods\", \"mixtgoods\", \"mixtgoods_product\", \"mixtgoods_product\", \"mixtgoods_product\", \"mixtgoods_product\", \"mod\", \"mod\", \"mod\", \"mod\", \"mod\", \"mod_retro\", \"mod_retro\", \"mod_retro\", \"mod_retro\", \"modamuse\", \"modern\", \"modern\", \"modern\", \"modern\", \"modern\", \"moffatt\", \"moffatt\", \"moffatt\", \"momastore\", \"momastore\", \"mood\", \"mood\", \"moroso\", \"mostess\", \"mostess\", \"mostess\", \"moussy\", \"moy\", \"moy\", \"msotherdenartglass\", \"multibrand\", \"mycabincreations\", \"myvintagepad\", \"m\\u00f6bel\", \"m\\u00f8bler\", \"national_geographic\", \"national_geographic\", \"national_geographic\", \"national_geographic\", \"necklace\", \"necklace\", \"necklace\", \"necklace\", \"necklace\", \"neiman\", \"neiman\", \"neiman\", \"neiman\", \"neiman_marcus\", \"neiman_marcus\", \"neiman_marcus\", \"neiman_marcus\", \"net\", \"net\", \"net\", \"net\", \"net_porter\", \"net_porter\", \"net_porter\", \"net_porter\", \"new\", \"new\", \"new\", \"new\", \"nonplusultra\", \"nordstrom\", \"nordstrom\", \"nordstrom\", \"nordstrom\", \"orgellan\", \"outdoor\", \"outdoor\", \"outdoor\", \"outdoor\", \"outdoor\", \"oven\", \"overland\", \"patent\", \"patent\", \"patent\", \"patent\", \"patriotic\", \"pendant\", \"pendant\", \"pendant\", \"pendant\", \"pendant\", \"phillip\", \"phillip\", \"phillip\", \"phillip\", \"photobucket\", \"pillow\", \"pillow\", \"pillow\", \"pillow\", \"pillow\", \"plate\", \"plate\", \"plate\", \"plate\", \"plate\", \"poketo\", \"polyvore\", \"polyvore\", \"polyvore\", \"pooler\", \"porcelain\", \"porcelain\", \"porcelain\", \"porcelain\", \"porcelain\", \"porter\", \"porter\", \"porter\", \"porter\", \"portero\", \"portero\", \"portero\", \"printemps\", \"printemps\", \"printemps_et\\u00e9\", \"product\", \"product\", \"product\", \"product\", \"product\", \"prom\", \"prom\", \"prom\", \"prom\", \"proper\", \"proper\", \"proper\", \"proper\", \"protege\", \"pump\", \"pump\", \"pump\", \"pump\", \"pump\", \"pump_saks\", \"pump_saks\", \"pump_saks\", \"pump_saks\", \"quail\", \"radish\", \"radish\", \"rast\", \"rast\", \"red\", \"red\", \"red\", \"red\", \"red\", \"rejuvenation\", \"rejuvenation\", \"rejuvenation\", \"resin\", \"resin\", \"resin\", \"resin\", \"resin\", \"retro\", \"retro\", \"retro\", \"retro\", \"retro\", \"return_shipping\", \"return_shipping\", \"return_shipping\", \"revolve\", \"revolve\", \"revolve\", \"revolve\", \"revolve_clothing\", \"revolve_clothing\", \"revolve_clothing\", \"revolve_clothing\", \"richly\", \"ring\", \"ring\", \"ring\", \"ring\", \"ring\", \"robe\", \"robe\", \"robe\", \"robe\", \"robe_collection\", \"robe_collection\", \"rodrigo\", \"room\", \"room\", \"room\", \"room\", \"room\", \"saks\", \"saks\", \"saks\", \"saks\", \"saks\", \"saks_com\", \"saks_com\", \"saks_com\", \"saks_com\", \"saks_com\", \"sand\", \"sand\", \"sand\", \"sand\", \"sand\", \"sandal\", \"sandal\", \"sandal\", \"sandal\", \"scandinavian\", \"scandinavian\", \"scandinavian\", \"scandinavian\", \"schwinn\", \"schwinn\", \"seaside\", \"secret\", \"secret\", \"secret\", \"secret\", \"secret\", \"set\", \"set\", \"set\", \"set\", \"set\", \"sewn\", \"sewn\", \"sewn\", \"sewn\", \"sexy\", \"sexy\", \"sexy\", \"sexy\", \"sexy\", \"shadylace\", \"shadylace\", \"shadylace\", \"share\", \"shift_dress\", \"shift_dress\", \"shift_dress\", \"shift_dress\", \"shipping\", \"shipping\", \"shipping\", \"shipping\", \"shipping\", \"shoe\", \"shoe\", \"shoe\", \"shoe\", \"shoe\", \"shop\", \"shop\", \"shop\", \"shop\", \"shop\", \"shop_celebrity\", \"shop_celebrity\", \"shop_kitson\", \"shop_kitson\", \"shop_kitson\", \"shop_kitson\", \"shop_kitson\", \"shop_list\", \"shop_list\", \"shopbop\", \"shopbop\", \"shopbop\", \"shopbop\", \"shopbop\", \"shopbop_com\", \"shopbop_com\", \"shopbop_com\", \"shopbop_com\", \"shopbop_com\", \"side_sra\", \"silk\", \"silk\", \"silk\", \"silk\", \"silk\", \"silver\", \"silver\", \"silver\", \"silver\", \"silver\", \"sink\", \"sink\", \"sink\", \"sink\", \"sklep\", \"slider\", \"smashing\", \"smashing\", \"smashing\", \"smashing\", \"smashing\", \"smashing_darling\", \"smashing_darling\", \"smashing_darling\", \"smashing_darling\", \"smashing_darling\", \"snuff\", \"sofa\", \"sofa\", \"sofa\", \"sofa\", \"spabad\", \"sposa\", \"sposa\", \"sra\", \"sra_ega\", \"steampunk\", \"steampunk\", \"steampunk\", \"steampunk\", \"steampunk\", \"stefanibags\", \"stefanibags\", \"stefanibags\", \"stefanibags_com\", \"stefanibags_com\", \"stefanibags_com\", \"sterling\", \"sterling\", \"sterling\", \"sterling\", \"sterling\", \"store\", \"store\", \"store\", \"store\", \"store\", \"straightrazorslasher\", \"streetwear\", \"streetwear\", \"streetwear\", \"striper\", \"studiomarcy\", \"style\", \"style\", \"style\", \"style\", \"style\", \"suisse\", \"suisse\", \"swarovsky\", \"synthetikpark\", \"synthetikpark\", \"synthetikpark\", \"table\", \"table\", \"table\", \"table\", \"table\", \"tempusfugit\", \"teuco\", \"toaster\", \"toaster\", \"toaster\", \"tony\", \"tony\", \"top\", \"top\", \"top\", \"top\", \"toute\", \"toute\", \"trace\", \"tree\", \"tree\", \"tree\", \"tree\", \"tree\", \"troll\", \"umbrella\", \"umbrella\", \"umbrella\", \"umbrella\", \"umbrella\", \"unikko\", \"unused\", \"unused\", \"velocity\", \"velocity\", \"velocity\", \"velocity_art\", \"velocity_art\", \"velocity_art\", \"velocity_art\", \"verano\", \"verlichting\", \"vestidos\", \"vestidos\", \"vestidos\", \"victoria\", \"victoria\", \"victoria\", \"victoria\", \"victoria_secret\", \"victoria_secret\", \"victoria_secret\", \"victoria_secret\", \"vinci\", \"vinci\", \"vintage\", \"vintage\", \"vintage\", \"vintage\", \"vintage\", \"wall\", \"wall\", \"wall\", \"wall\", \"wall\", \"webnovias\", \"webnovias\", \"webnovias_com\", \"webnovias_com\", \"willa\", \"wizwid\", \"woman\", \"woman\", \"woman\", \"woman\", \"zahlan\", \"zanisa\", \"zid\", \"\\u00f6rebro\", \"\\u00f6rebro\", \"\\u00f6rebro\"]}, \"R\": 30, \"lambda.step\": 0.01, \"plot.opts\": {\"xlab\": \"PC1\", \"ylab\": \"PC2\"}, \"topic.order\": [1, 3, 4, 5, 2]};\n",
       "\n",
       "function LDAvis_load_lib(url, callback){\n",
       "  var s = document.createElement('script');\n",
       "  s.src = url;\n",
       "  s.async = true;\n",
       "  s.onreadystatechange = s.onload = callback;\n",
       "  s.onerror = function(){console.warn(\"failed to load library \" + url);};\n",
       "  document.getElementsByTagName(\"head\")[0].appendChild(s);\n",
       "}\n",
       "\n",
       "if(typeof(LDAvis) !== \"undefined\"){\n",
       "   // already loaded: just create the visualization\n",
       "   !function(LDAvis){\n",
       "       new LDAvis(\"#\" + \"ldavis_el483013989059376242446303171\", ldavis_el483013989059376242446303171_data);\n",
       "   }(LDAvis);\n",
       "}else if(typeof define === \"function\" && define.amd){\n",
       "   // require.js is available: use it to load d3/LDAvis\n",
       "   require.config({paths: {d3: \"https://cdnjs.cloudflare.com/ajax/libs/d3/3.5.5/d3.min\"}});\n",
       "   require([\"d3\"], function(d3){\n",
       "      window.d3 = d3;\n",
       "      LDAvis_load_lib(\"https://cdn.rawgit.com/bmabey/pyLDAvis/files/ldavis.v1.0.0.js\", function(){\n",
       "        new LDAvis(\"#\" + \"ldavis_el483013989059376242446303171\", ldavis_el483013989059376242446303171_data);\n",
       "      });\n",
       "    });\n",
       "}else{\n",
       "    // require.js not available: dynamically load d3 & LDAvis\n",
       "    LDAvis_load_lib(\"https://cdnjs.cloudflare.com/ajax/libs/d3/3.5.5/d3.min.js\", function(){\n",
       "         LDAvis_load_lib(\"https://cdn.rawgit.com/bmabey/pyLDAvis/files/ldavis.v1.0.0.js\", function(){\n",
       "                 new LDAvis(\"#\" + \"ldavis_el483013989059376242446303171\", ldavis_el483013989059376242446303171_data);\n",
       "            })\n",
       "         });\n",
       "}\n",
       "</script>"
      ],
      "text/plain": [
       "PreparedData(topic_coordinates=              x         y  topics  cluster       Freq\n",
       "topic                                                \n",
       "0     -0.152791 -0.126192       1        1  30.579773\n",
       "2     -0.147008 -0.062808       2        1  26.577177\n",
       "3      0.000262  0.161064       3        1  23.872189\n",
       "4     -0.062365  0.091138       4        1  14.983614\n",
       "1      0.361902 -0.063201       5        1   3.987250, topic_info=      Category          Freq                Term         Total  loglift  \\\n",
       "term                                                                      \n",
       "1048   Default   8496.000000               glass   8496.000000  30.0000   \n",
       "502    Default   6395.000000             pendant   6395.000000  29.0000   \n",
       "979    Default   6563.000000             product   6563.000000  28.0000   \n",
       "347    Default   6258.000000              detail   6258.000000  27.0000   \n",
       "4318   Default   3348.000000            lampwork   3348.000000  26.0000   \n",
       "2121   Default   3282.000000                bead   3282.000000  25.0000   \n",
       "2773   Default   2422.000000           mixtgoods   2422.000000  24.0000   \n",
       "2774   Default   2422.000000   mixtgoods_product   2422.000000  23.0000   \n",
       "5132   Default   2299.000000                 ega   2299.000000  22.0000   \n",
       "211    Default  13225.000000              design  13225.000000  21.0000   \n",
       "285    Default   5557.000000                blue   5557.000000  20.0000   \n",
       "4486   Default   1886.000000            dichroic   1886.000000  19.0000   \n",
       "2198   Default   1822.000000               focal   1822.000000  18.0000   \n",
       "2017   Default   3095.000000                hand   3095.000000  17.0000   \n",
       "46     Default   9498.000000            necklace   9498.000000  16.0000   \n",
       "28     Default  10066.000000                home  10066.000000  15.0000   \n",
       "829    Default   5055.000000             earring   5055.000000  14.0000   \n",
       "405    Default   3030.000000               heart   3030.000000  13.0000   \n",
       "76     Default   5665.000000                 set   5665.000000  12.0000   \n",
       "707    Default   5485.000000                 bed   5485.000000  11.0000   \n",
       "24     Default   6056.000000           furniture   6056.000000  10.0000   \n",
       "4735   Default   1298.000000               fused   1298.000000   9.0000   \n",
       "779    Default   4897.000000         shopbop_com   4897.000000   8.0000   \n",
       "778    Default   4897.000000             shopbop   4897.000000   7.0000   \n",
       "176    Default   5742.000000                saks   5742.000000   6.0000   \n",
       "4343   Default   1217.000000                 sra   1217.000000   5.0000   \n",
       "567    Default   5784.000000              silver   5784.000000   4.0000   \n",
       "1743   Default   2491.000000            handmade   2491.000000   3.0000   \n",
       "396    Default   4878.000000               green   4878.000000   2.0000   \n",
       "373    Default   1471.000000                fire   1471.000000   1.0000   \n",
       "...        ...           ...                 ...           ...      ...   \n",
       "5177    Topic5    121.434151              giapet    122.238754   3.2155   \n",
       "5471    Topic5    116.642487               troll    117.445038   3.2152   \n",
       "5301    Topic5    108.000710  msotherdenartglass    108.800873   3.2147   \n",
       "9206    Topic5    102.230286              dogmaw    103.029526   3.2143   \n",
       "4486    Topic5   1832.911011            dichroic   1886.665527   3.1932   \n",
       "10308   Topic5    349.252136       lampwork_bead    355.304047   3.2049   \n",
       "2773    Topic5   2295.045654           mixtgoods   2422.831299   3.1679   \n",
       "2774    Topic5   2294.799805   mixtgoods_product   2422.831299   3.1678   \n",
       "5166    Topic5    771.290222         fused_glass    813.498047   3.1688   \n",
       "4128    Topic5    866.716736         detail_hand    934.571045   3.1467   \n",
       "4735    Topic5   1188.458252               fused   1298.732300   3.1333   \n",
       "6707    Topic5    427.362457      dichroic_glass    450.977539   3.1683   \n",
       "7691    Topic5    495.243500                sewn    527.273438   3.1594   \n",
       "2121    Topic5   2750.428467                bead   3282.680420   3.0452   \n",
       "4488    Topic5    345.060425       etsy_glasscat    364.596741   3.1670   \n",
       "1048    Topic5   3912.110840               glass   8496.914062   2.4464   \n",
       "4491    Topic5    344.990173            glasscat    364.602295   3.1668   \n",
       "502     Topic5   2885.173584             pendant   6395.006836   2.4261   \n",
       "3973    Topic5    751.373718                sand   1040.340454   2.8967   \n",
       "347     Topic5   2219.362305              detail   6258.061523   2.1854   \n",
       "979     Topic5   2258.342529             product   6563.487305   2.1552   \n",
       "373     Topic5    784.786194                fire   1471.073242   2.5937   \n",
       "2017    Topic5    988.998596                hand   3095.604980   2.0810   \n",
       "405     Topic5    771.453430               heart   3030.028320   1.8540   \n",
       "285     Topic5    939.436462                blue   5557.509277   1.4444   \n",
       "829     Topic5    830.226562             earring   5055.374023   1.4156   \n",
       "46      Topic5    770.403625            necklace   9498.447266   0.7101   \n",
       "76      Topic5    619.662903                 set   5665.305664   1.0091   \n",
       "578     Topic5    561.726379            sterling   2364.055664   1.7849   \n",
       "1743    Topic5    561.369141            handmade   2491.482910   1.7318   \n",
       "\n",
       "       logprob  \n",
       "term            \n",
       "1048   30.0000  \n",
       "502    29.0000  \n",
       "979    28.0000  \n",
       "347    27.0000  \n",
       "4318   26.0000  \n",
       "2121   25.0000  \n",
       "2773   24.0000  \n",
       "2774   23.0000  \n",
       "5132   22.0000  \n",
       "211    21.0000  \n",
       "285    20.0000  \n",
       "4486   19.0000  \n",
       "2198   18.0000  \n",
       "2017   17.0000  \n",
       "46     16.0000  \n",
       "28     15.0000  \n",
       "829    14.0000  \n",
       "405    13.0000  \n",
       "76     12.0000  \n",
       "707    11.0000  \n",
       "24     10.0000  \n",
       "4735    9.0000  \n",
       "779     8.0000  \n",
       "778     7.0000  \n",
       "176     6.0000  \n",
       "4343    5.0000  \n",
       "567     4.0000  \n",
       "1743    3.0000  \n",
       "396     2.0000  \n",
       "373     1.0000  \n",
       "...        ...  \n",
       "5177   -6.6527  \n",
       "5471   -6.6930  \n",
       "5301   -6.7700  \n",
       "9206   -6.8249  \n",
       "4486   -3.9385  \n",
       "10308  -5.5963  \n",
       "2773   -3.7136  \n",
       "2774   -3.7137  \n",
       "5166   -4.8040  \n",
       "4128   -4.6874  \n",
       "4735   -4.3717  \n",
       "6707   -5.3945  \n",
       "7691   -5.2471  \n",
       "2121   -3.5326  \n",
       "4488   -5.6084  \n",
       "1048   -3.1803  \n",
       "4491   -5.6086  \n",
       "502    -3.4848  \n",
       "3973   -4.8302  \n",
       "347    -3.7471  \n",
       "979    -3.7297  \n",
       "373    -4.7867  \n",
       "2017   -4.5554  \n",
       "405    -4.8038  \n",
       "285    -4.6068  \n",
       "829    -4.7304  \n",
       "46     -4.8052  \n",
       "76     -5.0229  \n",
       "578    -5.1211  \n",
       "1743   -5.1217  \n",
       "\n",
       "[478 rows x 6 columns], token_table=       Topic      Freq             Term\n",
       "term                                   \n",
       "14792      2  0.017820          19moons\n",
       "14792      3  0.017820          19moons\n",
       "14792      4  0.962290          19moons\n",
       "6756       4  0.950567              4pc\n",
       "8082       1  0.996701             abed\n",
       "1628       1  0.994770            abiti\n",
       "1628       4  0.003878            abiti\n",
       "1629       1  0.993590      abiti_sposa\n",
       "1629       4  0.006171      abiti_sposa\n",
       "7982       2  0.023186         absinthe\n",
       "7982       4  0.950613         absinthe\n",
       "240        1  0.269274        accessory\n",
       "240        2  0.255925        accessory\n",
       "240        3  0.352288        accessory\n",
       "240        4  0.121601        accessory\n",
       "240        5  0.000626        accessory\n",
       "8095       3  0.991987             acme\n",
       "5796       1  0.998373        alba_moda\n",
       "13466      4  0.971141             allt\n",
       "14956      2  0.972066      amiclubwear\n",
       "8189       1  0.061050         ammonite\n",
       "8189       2  0.010175         ammonite\n",
       "8189       4  0.925927         ammonite\n",
       "1163       2  0.974140            antik\n",
       "1163       3  0.024353            antik\n",
       "1239       1  0.994103            apart\n",
       "4122       4  0.994096       aromaleigh\n",
       "93         1  0.095510              art\n",
       "93         2  0.070123              art\n",
       "93         3  0.556904              art\n",
       "...      ...       ...              ...\n",
       "201        3  0.003839  victoria_secret\n",
       "201        4  0.047666  victoria_secret\n",
       "5686       3  0.990811            vinci\n",
       "5686       4  0.005933            vinci\n",
       "622        1  0.259799          vintage\n",
       "622        2  0.191731          vintage\n",
       "622        3  0.160682          vintage\n",
       "622        4  0.384258          vintage\n",
       "622        5  0.003583          vintage\n",
       "1616       1  0.036340             wall\n",
       "1616       2  0.044792             wall\n",
       "1616       3  0.543416             wall\n",
       "1616       4  0.343966             wall\n",
       "1616       5  0.031270             wall\n",
       "2423       1  0.998036        webnovias\n",
       "2423       4  0.001147        webnovias\n",
       "2424       1  0.998037    webnovias_com\n",
       "2424       4  0.001147    webnovias_com\n",
       "12414      2  0.969640            willa\n",
       "5984       1  0.997350           wizwid\n",
       "207        1  0.462373            woman\n",
       "207        2  0.427878            woman\n",
       "207        3  0.038467            woman\n",
       "207        4  0.071220            woman\n",
       "4986       1  0.992761           zahlan\n",
       "12498      3  0.995308           zanisa\n",
       "12516      3  0.990662              zid\n",
       "788        1  0.008154           örebro\n",
       "788        2  0.154924           örebro\n",
       "788        4  0.835776           örebro\n",
       "\n",
       "[1157 rows x 3 columns], R=30, lambda_step=0.01, plot_opts={'xlab': 'PC1', 'ylab': 'PC2'}, topic_order=[1, 3, 4, 5, 2])"
      ]
     },
     "execution_count": 129,
     "metadata": {},
     "output_type": "execute_result"
    }
   ],
   "source": [
    "import pyLDAvis\n",
    "corpora.MmCorpus.serialize('corpus.mm', bow_corpus)\n",
    "import pyLDAvis.gensim\n",
    "dtm = gensim.corpora.MmCorpus('corpus.mm')\n",
    "pyLDAvis.enable_notebook()\n",
    "\n",
    "data = pyLDAvis.gensim.prepare(lda_model,dtm , word_dict)\n",
    "data"
   ]
  },
  {
   "cell_type": "markdown",
   "metadata": {},
   "source": [
    "Running lda with tfidf"
   ]
  },
  {
   "cell_type": "code",
   "execution_count": 124,
   "metadata": {},
   "outputs": [],
   "source": [
    "lda_model_tfidf = gensim.models.LdaMulticore(corpus_tfidf, num_topics=5, id2word=word_dict, passes=50, workers=8, alpha=0.001)"
   ]
  },
  {
   "cell_type": "code",
   "execution_count": 125,
   "metadata": {
    "scrolled": true
   },
   "outputs": [
    {
     "name": "stdout",
     "output_type": "stream",
     "text": [
      "Topic: 0 Word: 0.003*\"lampwork\" + 0.002*\"ega\" + 0.002*\"focal\" + 0.002*\"bead\" + 0.002*\"ikabags\" + 0.002*\"iloveyoyo\" + 0.002*\"arzumusa\" + 0.002*\"glass\" + 0.002*\"dichroic\" + 0.001*\"sra\"\n",
      "Topic: 1 Word: 0.002*\"woman\" + 0.002*\"clothing\" + 0.002*\"shoe\" + 0.002*\"fashion\" + 0.002*\"porter\" + 0.002*\"net\" + 0.002*\"net_porter\" + 0.002*\"designer\" + 0.002*\"christian\" + 0.002*\"pump\"\n",
      "Topic: 2 Word: 0.000*\"tutti\" + 0.000*\"newborn\" + 0.000*\"frutti\" + 0.000*\"babygap\" + 0.000*\"pouches_women_go\" + 0.000*\"boulevard_monogram\" + 0.000*\"vernis_clutches\" + 0.000*\"heller\" + 0.000*\"placenta\" + 0.000*\"rockettoro\"\n",
      "Topic: 3 Word: 0.003*\"mixtgoods_product\" + 0.003*\"mixtgoods\" + 0.001*\"detail_hand\" + 0.001*\"sewn\" + 0.000*\"tolani\" + 0.000*\"hand_sewn\" + 0.000*\"stroller\" + 0.000*\"scrabble\" + 0.000*\"hindu\" + 0.000*\"dupatta\"\n",
      "Topic: 4 Word: 0.003*\"design\" + 0.002*\"home\" + 0.002*\"furniture\" + 0.002*\"ring\" + 0.002*\"glass\" + 0.002*\"art\" + 0.002*\"light\" + 0.002*\"modern\" + 0.001*\"table\" + 0.001*\"bed\"\n"
     ]
    }
   ],
   "source": [
    "for idx, topic in lda_model_tfidf.print_topics(-1):\n",
    "    print('Topic: {} Word: {}'.format(idx, topic))"
   ]
  },
  {
   "cell_type": "code",
   "execution_count": 126,
   "metadata": {},
   "outputs": [
    {
     "data": {
      "text/html": [
       "\n",
       "<link rel=\"stylesheet\" type=\"text/css\" href=\"https://cdn.rawgit.com/bmabey/pyLDAvis/files/ldavis.v1.0.0.css\">\n",
       "\n",
       "\n",
       "<div id=\"ldavis_el48301398898865786325945422590\"></div>\n",
       "<script type=\"text/javascript\">\n",
       "\n",
       "var ldavis_el48301398898865786325945422590_data = {\"mdsDat\": {\"x\": [-0.14962717653885368, 0.023819165722689033, 0.04290321052867098, 0.04182306503720049, 0.0410817352502932], \"y\": [0.010054474589807327, -0.1055145789532902, 0.04157349524121511, 0.02738330337944556, 0.026503305742822225], \"topics\": [1, 2, 3, 4, 5], \"cluster\": [1, 1, 1, 1, 1], \"Freq\": [85.97865295410156, 11.53707218170166, 2.304863214492798, 0.17812520265579224, 0.0012837471440434456]}, \"tinfo\": {\"Category\": [\"Default\", \"Default\", \"Default\", \"Default\", \"Default\", \"Default\", \"Default\", \"Default\", \"Default\", \"Default\", \"Default\", \"Default\", \"Default\", \"Default\", \"Default\", \"Default\", \"Default\", \"Default\", \"Default\", \"Default\", \"Default\", \"Default\", \"Default\", \"Default\", \"Default\", \"Default\", \"Default\", \"Default\", \"Default\", \"Default\", \"Topic1\", \"Topic1\", \"Topic1\", \"Topic1\", \"Topic1\", \"Topic1\", \"Topic1\", \"Topic1\", \"Topic1\", \"Topic1\", \"Topic1\", \"Topic1\", \"Topic1\", \"Topic1\", \"Topic1\", \"Topic1\", \"Topic1\", \"Topic1\", \"Topic1\", \"Topic1\", \"Topic1\", \"Topic1\", \"Topic1\", \"Topic1\", \"Topic1\", \"Topic1\", \"Topic1\", \"Topic1\", \"Topic1\", \"Topic1\", \"Topic1\", \"Topic1\", \"Topic1\", \"Topic1\", \"Topic1\", \"Topic1\", \"Topic1\", \"Topic1\", \"Topic1\", \"Topic1\", \"Topic1\", \"Topic1\", \"Topic1\", \"Topic1\", \"Topic1\", \"Topic1\", \"Topic1\", \"Topic1\", \"Topic1\", \"Topic1\", \"Topic1\", \"Topic1\", \"Topic1\", \"Topic2\", \"Topic2\", \"Topic2\", \"Topic2\", \"Topic2\", \"Topic2\", \"Topic2\", \"Topic2\", \"Topic2\", \"Topic2\", \"Topic2\", \"Topic2\", \"Topic2\", \"Topic2\", \"Topic2\", \"Topic2\", \"Topic2\", \"Topic2\", \"Topic2\", \"Topic2\", \"Topic2\", \"Topic2\", \"Topic2\", \"Topic2\", \"Topic2\", \"Topic2\", \"Topic2\", \"Topic2\", \"Topic2\", \"Topic2\", \"Topic2\", \"Topic2\", \"Topic2\", \"Topic2\", \"Topic2\", \"Topic2\", \"Topic2\", \"Topic2\", \"Topic2\", \"Topic2\", \"Topic2\", \"Topic2\", \"Topic2\", \"Topic2\", \"Topic2\", \"Topic2\", \"Topic2\", \"Topic2\", \"Topic2\", \"Topic2\", \"Topic2\", \"Topic2\", \"Topic2\", \"Topic2\", \"Topic2\", \"Topic2\", \"Topic2\", \"Topic2\", \"Topic2\", \"Topic2\", \"Topic2\", \"Topic2\", \"Topic2\", \"Topic2\", \"Topic2\", \"Topic2\", \"Topic2\", \"Topic2\", \"Topic2\", \"Topic2\", \"Topic2\", \"Topic2\", \"Topic2\", \"Topic2\", \"Topic2\", \"Topic2\", \"Topic2\", \"Topic2\", \"Topic2\", \"Topic2\", \"Topic2\", \"Topic2\", \"Topic2\", \"Topic2\", \"Topic2\", \"Topic2\", \"Topic2\", \"Topic2\", \"Topic3\", \"Topic3\", \"Topic3\", \"Topic3\", \"Topic3\", \"Topic3\", \"Topic3\", \"Topic3\", \"Topic3\", \"Topic3\", \"Topic3\", \"Topic3\", \"Topic3\", \"Topic3\", \"Topic3\", \"Topic3\", \"Topic3\", \"Topic3\", \"Topic3\", \"Topic3\", \"Topic3\", \"Topic3\", \"Topic3\", \"Topic3\", \"Topic3\", \"Topic3\", \"Topic3\", \"Topic3\", \"Topic3\", \"Topic3\", \"Topic3\", \"Topic3\", \"Topic3\", \"Topic3\", \"Topic3\", \"Topic3\", \"Topic3\", \"Topic3\", \"Topic3\", \"Topic3\", \"Topic3\", \"Topic3\", \"Topic3\", \"Topic3\", \"Topic3\", \"Topic3\", \"Topic3\", \"Topic3\", \"Topic3\", \"Topic3\", \"Topic3\", \"Topic3\", \"Topic4\", \"Topic4\", \"Topic4\", \"Topic4\", \"Topic4\", \"Topic4\", \"Topic4\", \"Topic4\", \"Topic4\", \"Topic4\", \"Topic4\", \"Topic4\", \"Topic4\", \"Topic4\", \"Topic4\", \"Topic4\", \"Topic4\", \"Topic4\", \"Topic4\", \"Topic4\", \"Topic4\", \"Topic4\", \"Topic4\", \"Topic4\", \"Topic4\", \"Topic4\", \"Topic4\", \"Topic4\", \"Topic4\", \"Topic4\", \"Topic4\", \"Topic4\", \"Topic4\", \"Topic4\", \"Topic4\", \"Topic4\", \"Topic4\", \"Topic4\", \"Topic4\", \"Topic4\", \"Topic4\", \"Topic4\", \"Topic4\", \"Topic4\", \"Topic4\", \"Topic4\", \"Topic4\", \"Topic4\", \"Topic5\", \"Topic5\", \"Topic5\", \"Topic5\", \"Topic5\", \"Topic5\", \"Topic5\", \"Topic5\", \"Topic5\", \"Topic5\", \"Topic5\", \"Topic5\", \"Topic5\", \"Topic5\", \"Topic5\", \"Topic5\", \"Topic5\", \"Topic5\", \"Topic5\", \"Topic5\", \"Topic5\", \"Topic5\", \"Topic5\", \"Topic5\", \"Topic5\", \"Topic5\", \"Topic5\", \"Topic5\", \"Topic5\", \"Topic5\", \"Topic5\", \"Topic5\", \"Topic5\", \"Topic5\", \"Topic5\", \"Topic5\", \"Topic5\", \"Topic5\", \"Topic5\", \"Topic5\", \"Topic5\", \"Topic5\", \"Topic5\", \"Topic5\", \"Topic5\", \"Topic5\", \"Topic5\", \"Topic5\", \"Topic5\"], \"Freq\": [3320.0, 2078.0, 3253.0, 554.0, 554.0, 2674.0, 1972.0, 3787.0, 1976.0, 2147.0, 709.0, 2211.0, 2240.0, 3096.0, 2510.0, 3061.0, 1812.0, 1902.0, 1531.0, 1001.0, 2197.0, 507.0, 1579.0, 2581.0, 1614.0, 2252.0, 2713.0, 1988.0, 1988.0, 1478.0, 2806.58740234375, 2657.595947265625, 3008.37841796875, 2658.103271484375, 2048.656982421875, 3171.216064453125, 3094.9853515625, 2535.297119140625, 2535.297119140625, 2620.38720703125, 2177.97412109375, 3408.492431640625, 1701.4415283203125, 1688.471435546875, 3173.97509765625, 1987.29833984375, 3116.072998046875, 3434.74169921875, 2139.609619140625, 1729.6087646484375, 1649.783935546875, 1395.86328125, 2051.14404296875, 1375.5091552734375, 1369.2540283203125, 1336.74853515625, 2045.351318359375, 3048.720947265625, 3048.716064453125, 3067.960693359375, 3717.052490234375, 4420.6875, 3561.90234375, 2669.950927734375, 3702.028076171875, 2520.986083984375, 4088.08251953125, 4021.7333984375, 2829.2626953125, 2829.2607421875, 3865.8232421875, 3030.02197265625, 2668.14013671875, 2646.534912109375, 3255.822998046875, 3435.1279296875, 3083.6611328125, 3207.357666015625, 2862.77294921875, 2727.104248046875, 3258.1572265625, 2721.977783203125, 2707.12890625, 250.87628173828125, 163.3435821533203, 89.09137725830078, 137.63699340820312, 85.80509948730469, 84.91046905517578, 93.07899475097656, 74.3295669555664, 87.9200439453125, 72.75393676757812, 75.11817169189453, 78.5341567993164, 68.25393676757812, 86.75498962402344, 75.918701171875, 84.71356964111328, 84.71356964111328, 63.99966812133789, 68.15618896484375, 68.15618896484375, 63.31145477294922, 61.875308990478516, 270.33636474609375, 64.66544342041016, 60.53194808959961, 121.99108123779297, 61.344696044921875, 103.04337310791016, 58.96311950683594, 69.27874755859375, 107.3140869140625, 129.90652465820312, 77.58416748046875, 109.02235412597656, 95.60423278808594, 121.599609375, 111.0495376586914, 111.04951477050781, 111.04949951171875, 123.81761932373047, 85.02324676513672, 250.64199829101562, 250.64157104492188, 218.58990478515625, 171.221435546875, 194.42848205566406, 160.62567138671875, 281.8318786621094, 135.33248901367188, 122.0759506225586, 887.2755737304688, 205.85755920410156, 318.41180419921875, 164.39549255371094, 280.2880554199219, 284.0039978027344, 186.42543029785156, 260.4703063964844, 228.453369140625, 247.52401733398438, 186.36912536621094, 423.02313232421875, 222.16220092773438, 635.8078002929688, 185.8500213623047, 563.1441040039062, 340.85003662109375, 344.2845153808594, 456.9469909667969, 439.3445739746094, 375.0182800292969, 215.61474609375, 413.24932861328125, 517.453369140625, 399.4668884277344, 306.087890625, 361.5108947753906, 386.8381042480469, 277.9238586425781, 341.8105163574219, 246.822265625, 314.9483337402344, 302.97100830078125, 315.203369140625, 285.0754089355469, 261.333251953125, 256.2543640136719, 253.76673889160156, 76.17033386230469, 94.01216888427734, 74.07183837890625, 44.359310150146484, 44.359310150146484, 44.359310150146484, 46.4670524597168, 46.46704864501953, 44.45808410644531, 47.19219970703125, 44.31814193725586, 49.059078216552734, 41.71887969970703, 42.73054885864258, 46.59588623046875, 84.52436065673828, 97.05894470214844, 49.9560546875, 32.90153884887695, 31.398902893066406, 30.97409439086914, 30.824792861938477, 33.29630661010742, 25.725276947021484, 36.41852569580078, 25.056354522705078, 26.013736724853516, 26.013736724853516, 27.946630477905273, 29.314748764038086, 40.938663482666016, 77.13169860839844, 42.86225509643555, 127.40377807617188, 31.518264770507812, 160.53875732421875, 64.66351318359375, 99.61988067626953, 64.72777557373047, 63.348297119140625, 42.04441452026367, 50.36371612548828, 97.74822235107422, 82.2031021118164, 60.037010192871094, 54.48762512207031, 61.87050247192383, 84.45338439941406, 59.06338882446289, 58.49538803100586, 47.01353073120117, 46.8348503112793, 1.778281331062317, 0.9966031312942505, 0.9966030716896057, 1.6058614253997803, 0.7243883609771729, 0.7243883609771729, 0.6982824206352234, 0.5614533424377441, 0.6085586547851562, 0.8660143613815308, 0.9109067320823669, 0.5223988890647888, 0.42528533935546875, 0.42934319376945496, 3.724581241607666, 0.4075793921947479, 0.563758373260498, 0.3640877604484558, 10.80682373046875, 10.806673049926758, 0.354727566242218, 0.3794138431549072, 0.32695287466049194, 0.3182184100151062, 0.3194904923439026, 0.304485946893692, 0.32512012124061584, 0.31719791889190674, 0.31719791889190674, 0.33197081089019775, 1.2454558610916138, 1.2454540729522705, 4.533692359924316, 1.0684739351272583, 1.0978251695632935, 1.3376067876815796, 0.9956550002098083, 0.9956534504890442, 1.2497203350067139, 0.7077293395996094, 0.693561851978302, 0.779238224029541, 0.5852629542350769, 0.8305888772010803, 0.6979702711105347, 0.6435993909835815, 0.605977475643158, 0.6160538196563721, 0.007294515147805214, 0.007294514216482639, 0.007294511888176203, 0.0072945100255310535, 0.005213065538555384, 0.00521306274458766, 0.0052130622789263725, 0.0034200295340269804, 0.0034200288355350494, 0.003456718986853957, 0.003456715028733015, 0.003382886527106166, 0.003382858820259571, 0.001652968698181212, 0.001652968698181212, 0.001652969280257821, 0.0016529690474271774, 0.001652968698181212, 0.001652969280257821, 0.0016529683489352465, 0.0016529683489352465, 0.0016529683489352465, 0.0016529683489352465, 0.0016529683489352465, 0.0016529683489352465, 0.0016529683489352465, 0.0016529683489352465, 0.0016529684653505683, 0.0016529684653505683, 0.0016529684653505683, 0.0016529684653505683, 0.004423599690198898, 0.004435951821506023, 0.004807672929018736, 0.004099719692021608, 0.002310460666194558, 0.0023106979206204414, 0.002218838082626462, 0.0022344153840094805, 0.0022343823220580816, 0.0020751890260726213, 0.001890433020889759, 0.001871544518508017, 0.0017200727015733719, 0.0017305200453847647, 0.0017371134599670768, 0.0017629185458645225, 0.001700783148407936, 0.0017035425407812], \"Term\": [\"design\", \"glass\", \"home\", \"mixtgoods\", \"mixtgoods_product\", \"furniture\", \"pendant\", \"ring\", \"set\", \"art\", \"bead\", \"modern\", \"table\", \"bed\", \"shipping\", \"necklace\", \"print\", \"green\", \"light\", \"handmade\", \"blue\", \"lampwork\", \"lamp\", \"shop\", \"flower\", \"chair\", \"free\", \"satin\", \"red\", \"rose\", \"streetwear\", \"bluefly\", \"saks\", \"saks_com\", \"toe\", \"sandal\", \"asos\", \"bergdorf_goodman\", \"bergdorf\", \"goodman\", \"ruffle\", \"pump\", \"halter\", \"femme\", \"louboutin\", \"victoria_secret\", \"christian_louboutin\", \"christian\", \"gown\", \"strapless\", \"dior\", \"myprestigium\", \"bikini\", \"peep\", \"valentino\", \"peep_toe\", \"secret\", \"neiman\", \"neiman_marcus\", \"marcus\", \"porter\", \"woman\", \"net_porter\", \"lingerie\", \"net\", \"boot\", \"clothing\", \"shoe\", \"shopbop_com\", \"shopbop\", \"fashion\", \"top\", \"silk\", \"couture\", \"black\", \"designer\", \"vintage\", \"collection\", \"style\", \"marc\", \"ring\", \"necklace\", \"bed\", \"brownie\", \"ethnocity\", \"zanisa\", \"homegoods\", \"sandwich\", \"bradley\", \"mood\", \"poketo\", \"readymade\", \"blind\", \"momastore\", \"danish\", \"radiatori\", \"girlshop\", \"hhstyle\", \"joby\", \"gorillapod\", \"thermo\", \"wohnaccessoires\", \"designerm\\u00f6bel\", \"m\\u00f8bler\", \"chocoa\", \"aromaleigh\", \"osborne\", \"ironing\", \"crap\", \"rebound\", \"menu\", \"robotan\", \"food\", \"zid\", \"radish\", \"desktop\", \"decole\", \"contraforma\", \"marimekko\", \"exterieure\", \"galets\", \"livingstone\", \"carrotbox\", \"ki\\u00dfkalt\", \"velocity_art\", \"velocity\", \"blik\", \"mintd\", \"misi\", \"thinkgeek\", \"laptop\", \"car\", \"lei\", \"design\", \"decoration\", \"holder\", \"toaster\", \"art_design\", \"wallpaper\", \"tile\", \"elsewares\", \"toy\", \"elsewares_independent\", \"moonstruck\", \"light\", \"pure\", \"home\", \"austrian\", \"furniture\", \"bowl\", \"bird\", \"glass\", \"art\", \"lamp\", \"cool\", \"modern\", \"ring\", \"table\", \"wall\", \"set\", \"bed\", \"jewellery\", \"shop\", \"plate\", \"chair\", \"green\", \"necklace\", \"contemporary\", \"store\", \"wood\", \"blossom\", \"hueconcept\", \"iloveyoyo\", \"handcreativity\", \"decorativelabels\", \"growth\", \"chart\", \"8x12\", \"ichaphotography\", \"bahardecoration\", \"nakpunar\", \"baharcollection\", \"ayawedding\", \"evihan\", \"yoyobybahar\", \"pearlsquiltedcrafts\", \"arzumusa\", \"ikabags\", \"ayca\", \"ebruk\", \"yemeni\", \"mybabydiapers\", \"babybaharcollection\", \"febystandesigns\", \"ringfree\", \"pompon\", \"shebbodesign\", \"bassinet\", \"balboa\", \"immortalbutterfly\", \"shippingbulky\", \"percent\", \"sra\", \"emery\", \"ega\", \"bhv\", \"lampwork\", \"pen\", \"focal\", \"studiomarcy\", \"lampwork_glass\", \"dreamyvintage\", \"everyday\", \"bead\", \"dichroic\", \"applique\", \"focal_bead\", \"fused\", \"glass\", \"handmade\", \"pendant\", \"neckwarmer\", \"fused_glass\", \"tolani\", \"kris\", \"cavallari\", \"hand_sewn\", \"monopoly\", \"gameboard\", \"superstar\", \"catnip\", \"lightswitch\", \"aguilera\", \"ettika\", \"periwinkle\", \"shrimp\", \"blueberry\", \"sewn\", \"moved\", \"rhapsody\", \"battleship\", \"mixtgoods_product\", \"mixtgoods\", \"cog\", \"carnival\", \"ish\", \"darlin\", \"cucumber\", \"burney\", \"shrooms\", \"bitsy\", \"itsy\", \"blast\", \"hindu\", \"dupatta\", \"detail_hand\", \"bacconi\", \"prayer\", \"stroller\", \"rai\", \"alistair\", \"scrabble\", \"probber\", \"woodard\", \"karma\", \"log\", \"gina\", \"sir\", \"selldorf\", \"ri\", \"label\", \"tutti\", \"newborn\", \"frutti\", \"babygap\", \"pouches_women_go\", \"boulevard_monogram\", \"vernis_clutches\", \"ecshop\", \"louisvuitton\", \"rush\", \"tommie\", \"backed\", \"galimberti\", \"shrimp\", \"battleship\", \"darlin\", \"esme\", \"burney\", \"catnip\", \"aint\", \"ardent\", \"devotee\", \"statue\", \"mcnamara\", \"leprechaun\", \"flaming\", \"denture\", \"splendor\", \"tamale\", \"fritz\", \"lazer\", \"rockettoro\", \"placenta\", \"heller\", \"placentero\", \"egli\", \"dusicadusica\", \"miff\", \"strok\", \"gharani\", \"toujours\", \"lei\", \"kiss\", \"pendlar\", \"assorted\", \"ellips\", \"sameunderneath\", \"spraygraphic\", \"nino\"], \"Total\": [3320.0, 2078.0, 3253.0, 554.0, 554.0, 2674.0, 1972.0, 3787.0, 1976.0, 2147.0, 709.0, 2211.0, 2240.0, 3096.0, 2510.0, 3061.0, 1812.0, 1902.0, 1531.0, 1001.0, 2197.0, 507.0, 1579.0, 2581.0, 1614.0, 2252.0, 2713.0, 1988.0, 1988.0, 1478.0, 2813.990478515625, 2666.53955078125, 3018.51416015625, 2667.53076171875, 2056.094970703125, 3183.1728515625, 3106.89501953125, 2545.231689453125, 2545.23193359375, 2630.829833984375, 2187.2841796875, 3423.237060546875, 1708.8831787109375, 1695.8829345703125, 3188.129638671875, 1996.2481689453125, 3130.260986328125, 3450.454833984375, 2149.626220703125, 1737.993896484375, 1658.0224609375, 1403.2667236328125, 2062.0390625, 1382.9505615234375, 1376.6744384765625, 1344.1917724609375, 2056.822998046875, 3066.166259765625, 3066.163818359375, 3085.89208984375, 3741.625, 4457.78857421875, 3586.225830078125, 2687.717529296875, 3739.94677734375, 2541.60888671875, 4151.77685546875, 4086.668701171875, 2858.783203125, 2858.781982421875, 3931.4541015625, 3076.615478515625, 2699.33349609375, 2684.43994140625, 3346.8486328125, 3611.8984375, 3226.6005859375, 3385.60498046875, 2998.013427734375, 2792.873291015625, 3787.864501953125, 3061.205322265625, 3096.865966796875, 263.1827087402344, 182.63502502441406, 101.18482208251953, 156.89744567871094, 97.87293243408203, 97.55352020263672, 108.17426300048828, 86.41353607177734, 102.42378234863281, 84.8438720703125, 88.04633331298828, 92.0996322631836, 80.3577651977539, 102.51030731201172, 89.7662353515625, 100.28584289550781, 100.2858657836914, 76.0727310180664, 81.28524017333984, 81.28524780273438, 75.573486328125, 74.07005310058594, 323.616455078125, 77.45946502685547, 72.6404037475586, 146.44662475585938, 73.68655395507812, 124.1183090209961, 71.02947235107422, 83.56671905517578, 130.50244140625, 160.1692352294922, 93.94294738769531, 134.1827392578125, 117.9110336303711, 152.96295166015625, 138.74095153808594, 138.74093627929688, 138.74093627929688, 158.13832092285156, 104.00137329101562, 379.794921875, 379.7953186035156, 323.70635986328125, 244.0638427734375, 302.5030212402344, 236.4003448486328, 536.3547973632812, 197.11329650878906, 170.479248046875, 3320.022705078125, 375.67108154296875, 741.5652465820312, 270.9438171386719, 629.3452758789062, 650.0452270507812, 334.90869140625, 584.1032104492188, 486.7953796386719, 572.8240966796875, 347.74188232421875, 1531.999755859375, 479.80340576171875, 3253.6806640625, 349.9872741699219, 2674.80224609375, 1101.130859375, 1158.345458984375, 2078.9365234375, 2147.55615234375, 1579.095458984375, 480.3858642578125, 2211.570556640625, 3787.864501953125, 2240.751953125, 1216.98291015625, 1976.4571533203125, 3096.865966796875, 1082.6573486328125, 2581.634033203125, 743.8451538085938, 2252.0029296875, 1902.8919677734375, 3061.205322265625, 2346.833251953125, 1847.556396484375, 1024.289306640625, 967.5496826171875, 93.0679702758789, 115.900146484375, 98.13104248046875, 58.93573760986328, 58.935733795166016, 58.93573760986328, 61.83432388305664, 61.83432388305664, 59.26958084106445, 63.17878341674805, 59.780418395996094, 67.16238403320312, 57.26648712158203, 58.986549377441406, 64.39717102050781, 118.5157241821289, 137.98094177246094, 72.08585357666016, 48.514156341552734, 46.47577667236328, 46.30244827270508, 46.24556350708008, 50.536277770996094, 40.50639343261719, 57.437374114990234, 39.75117492675781, 41.51388931274414, 41.51388931274414, 45.12799072265625, 47.464054107666016, 67.98123931884766, 154.92640686035156, 77.28047180175781, 327.4058532714844, 52.792259216308594, 507.1207580566406, 149.1389617919922, 285.041259765625, 160.56736755371094, 176.13865661621094, 81.01346588134766, 119.13180541992188, 709.779541015625, 498.15545654296875, 245.79510498046875, 189.05154418945312, 397.876220703125, 2078.9365234375, 1001.4491577148438, 1972.8021240234375, 125.58200073242188, 227.62098693847656, 20.138492584228516, 19.03044319152832, 19.03044891357422, 34.27486801147461, 19.404735565185547, 19.404735565185547, 20.567546844482422, 17.284160614013672, 18.78818130493164, 27.206064224243164, 33.70431900024414, 20.191152572631836, 17.10620880126953, 18.477699279785156, 162.20359802246094, 17.80256462097168, 25.039819717407227, 17.116077423095703, 554.1716918945312, 554.190673828125, 18.714853286743164, 20.08519172668457, 17.68210792541504, 17.21778106689453, 17.930627822875977, 17.254179000854492, 18.556787490844727, 18.267776489257812, 18.267776489257812, 19.484432220458984, 75.2930679321289, 75.29315185546875, 311.2408752441406, 73.9642562866211, 80.01167297363281, 115.12452697753906, 94.96452331542969, 94.96459197998047, 151.1539306640625, 62.07514190673828, 62.984947204589844, 112.03377532958984, 58.26233673095703, 240.4633026123047, 132.62274169921875, 91.87065124511719, 108.17391204833984, 813.2877197265625, 21.09811782836914, 21.098119735717773, 21.09814453125, 21.098155975341797, 25.97771644592285, 25.97773551940918, 25.97774314880371, 20.89959144592285, 20.899606704711914, 22.06161117553711, 22.061656951904297, 24.699031829833984, 24.6993408203125, 17.10620880126953, 17.116077423095703, 17.21778106689453, 17.246822357177734, 17.254179000854492, 17.284160614013672, 17.338571548461914, 17.343345642089844, 17.343345642089844, 17.343345642089844, 17.343345642089844, 17.343345642089844, 17.35255241394043, 17.35255241394043, 17.365015029907227, 17.365015029907227, 17.367830276489258, 17.367830276489258, 55.54326248168945, 68.83424377441406, 77.94412231445312, 77.5380859375, 30.714120864868164, 30.72972869873047, 36.63633728027344, 44.12471389770508, 44.12590026855469, 50.92123794555664, 170.479248046875, 259.5204772949219, 73.49298858642578, 100.43966674804688, 129.6119384765625, 288.0659484863281, 50.34632873535156, 78.54532623291016], \"loglift\": [30.0, 29.0, 28.0, 27.0, 26.0, 25.0, 24.0, 23.0, 22.0, 21.0, 20.0, 19.0, 18.0, 17.0, 16.0, 15.0, 14.0, 13.0, 12.0, 11.0, 10.0, 9.0, 8.0, 7.0, 6.0, 5.0, 4.0, 3.0, 2.0, 1.0, 0.14839999377727509, 0.1476999968290329, 0.1476999968290329, 0.14749999344348907, 0.14740000665187836, 0.14730000495910645, 0.14720000326633453, 0.14720000326633453, 0.14720000326633453, 0.14710000157356262, 0.1467999964952469, 0.1467999964952469, 0.14669999480247498, 0.14669999480247498, 0.14659999310970306, 0.14659999310970306, 0.14650000631809235, 0.14650000631809235, 0.14640000462532043, 0.1462000012397766, 0.1460999995470047, 0.14579999446868896, 0.14579999446868896, 0.14569999277591705, 0.14569999277591705, 0.14550000429153442, 0.14550000429153442, 0.1454000025987625, 0.1454000025987625, 0.1451999992132187, 0.1445000022649765, 0.14270000159740448, 0.14429999887943268, 0.1444000005722046, 0.14090000092983246, 0.1429000049829483, 0.1356000006198883, 0.13510000705718994, 0.14069999754428864, 0.14069999754428864, 0.13420000672340393, 0.13580000400543213, 0.13940000534057617, 0.13689999282360077, 0.12349999696016312, 0.10090000182390213, 0.10580000281333923, 0.09700000286102295, 0.10490000247955322, 0.12720000743865967, 0.00039999998989515007, 0.03359999880194664, 0.016599999740719795, 2.1117000579833984, 2.0480000972747803, 2.0322999954223633, 2.028599977493286, 2.0280001163482666, 2.0208001136779785, 2.0092999935150146, 2.009000062942505, 2.0069000720977783, 2.0058999061584473, 2.0007998943328857, 2.0002999305725098, 1.996399998664856, 1.9926999807357788, 1.9921000003814697, 1.9909000396728516, 1.9909000396728516, 1.986799955368042, 1.9833999872207642, 1.9833999872207642, 1.9825999736785889, 1.979699969291687, 1.979699969291687, 1.979099988937378, 1.9773000478744507, 1.9768999814987183, 1.9763000011444092, 1.9735000133514404, 1.9733999967575073, 1.972100019454956, 1.9639999866485596, 1.9501999616622925, 1.9682999849319458, 1.9520000219345093, 1.9499000310897827, 1.9300999641418457, 1.937000036239624, 1.937000036239624, 1.937000036239624, 1.9148999452590942, 1.9580999612808228, 1.74399995803833, 1.74399995803833, 1.7669999599456787, 1.8050999641418457, 1.7175999879837036, 1.7732000350952148, 1.5161000490188599, 1.7835999727249146, 1.825600028038025, 0.8399999737739563, 1.5580999851226807, 1.3142000436782837, 1.659999966621399, 1.3507000207901, 1.3315999507904053, 1.573799967765808, 1.3519999980926514, 1.4031000137329102, 1.3205000162124634, 1.5358999967575073, 0.8726999759674072, 1.3896000385284424, 0.5270000100135803, 1.5266000032424927, 0.6014999747276306, 0.9869999885559082, 0.9463000297546387, 0.644599974155426, 0.5727999806404114, 0.722000002861023, 1.3585000038146973, 0.4821999967098236, 0.16899999976158142, 0.4352000057697296, 0.7792999744415283, 0.4607999920845032, 0.0794999971985817, 0.7997999787330627, 0.13770000636577606, 1.056399941444397, 0.1923999935388565, 0.3221000134944916, -0.1137000024318695, 0.051500000059604645, 0.2037999927997589, 0.7739999890327454, 0.8213000297546387, 3.5697999000549316, 3.560800075531006, 3.4888999462127686, 3.4860000610351562, 3.4860000610351562, 3.4860000610351562, 3.4844000339508057, 3.4844000339508057, 3.482599973678589, 3.4783999919891357, 3.470900058746338, 3.4560999870300293, 3.453399896621704, 3.4477999210357666, 3.4465999603271484, 3.4321000576019287, 3.4184000492095947, 3.40339994430542, 3.3817999362945557, 3.378000020980835, 3.3680999279022217, 3.364500045776367, 3.3529000282287598, 3.316200017929077, 3.314500093460083, 3.3085999488830566, 3.3027000427246094, 3.3027000427246094, 3.2908999919891357, 3.288300037384033, 3.263000011444092, 3.072700023651123, 3.1807000637054443, 2.8262999057769775, 3.2544000148773193, 2.6198999881744385, 2.934499979019165, 2.718899965286255, 2.861599922180176, 2.747499942779541, 3.114300012588501, 2.9091999530792236, 1.787600040435791, 1.968400001525879, 2.360599994659424, 2.526099920272827, 1.90910005569458, 0.5666999816894531, 0.9395999908447266, 0.25189998745918274, 2.787600040435791, 2.1891000270843506, 3.9035000801086426, 3.38100004196167, 3.38100004196167, 3.269700050354004, 3.0425000190734863, 3.0425000190734863, 2.9475998878479004, 2.90339994430542, 2.9005000591278076, 2.8831000328063965, 2.7195000648498535, 2.6758999824523926, 2.635999917984009, 2.5683999061584473, 2.55649995803833, 2.5536000728607178, 2.536799907684326, 2.48009991645813, 2.3931000232696533, 2.3931000232696533, 2.3647000789642334, 2.361299991607666, 2.339900016784668, 2.3394999504089355, 2.3029000759124756, 2.293299913406372, 2.2860000133514404, 2.277100086212158, 2.277100086212158, 2.2581000328063965, 2.228600025177002, 2.2284998893737793, 2.1013998985290527, 2.093100070953369, 2.041599988937378, 1.8753000497817993, 1.7726000547409058, 1.7726000547409058, 1.535099983215332, 1.8564000129699707, 1.8215999603271484, 1.3622000217437744, 1.7297999858856201, 0.6622999906539917, 1.083400011062622, 1.3694000244140625, 1.145799994468689, -0.8550999760627747, 3.293299913406372, 3.293299913406372, 3.293299913406372, 3.293299913406372, 2.749300003051758, 2.749300003051758, 2.749300003051758, 2.545300006866455, 2.545300006866455, 2.5018999576568604, 2.5018999576568604, 2.3673999309539795, 2.367300033569336, 2.0185000896453857, 2.017899990081787, 2.01200008392334, 2.0102999210357666, 2.0099000930786133, 2.00819993019104, 2.005000114440918, 2.0048000812530518, 2.0048000812530518, 2.0048000812530518, 2.0048000812530518, 2.0048000812530518, 2.004199981689453, 2.004199981689453, 2.003499984741211, 2.003499984741211, 2.0032999515533447, 2.0032999515533447, 1.8251999616622925, 1.6133999824523926, 1.569599986076355, 1.4155000448226929, 1.7681000232696533, 1.767699956893921, 1.551300048828125, 1.3723000288009644, 1.3723000288009644, 1.1552000045776367, -0.14640000462532043, -0.57669997215271, 0.600600004196167, 0.29429998993873596, 0.04309999942779541, -0.7408000230789185, 0.9674999713897705, 0.524399995803833], \"logprob\": [30.0, 29.0, 28.0, 27.0, 26.0, 25.0, 24.0, 23.0, 22.0, 21.0, 20.0, 19.0, 18.0, 17.0, 16.0, 15.0, 14.0, 13.0, 12.0, 11.0, 10.0, 9.0, 8.0, 7.0, 6.0, 5.0, 4.0, 3.0, 2.0, 1.0, -6.583399772644043, -6.637899875640869, -6.513999938964844, -6.637800216674805, -6.898200035095215, -6.46120023727417, -6.485599994659424, -6.685100078582764, -6.685100078582764, -6.6519999504089355, -6.836999893188477, -6.389100074768066, -7.083899974822998, -7.0914998054504395, -6.460400104522705, -6.928599834442139, -6.478799819946289, -6.381400108337402, -6.854700088500977, -7.067500114440918, -7.114699840545654, -7.281799793243408, -6.896999835968018, -7.296500205993652, -7.30109977722168, -7.325099945068359, -6.899799823760986, -6.5005998611450195, -6.5005998611450195, -6.4944000244140625, -6.3024001121521, -6.1290998458862305, -6.345099925994873, -6.633299827575684, -6.30649995803833, -6.690700054168701, -6.207300186157227, -6.223599910736084, -6.575300216674805, -6.575300216674805, -6.263199806213379, -6.506800174713135, -6.633999824523926, -6.642099857330322, -6.434899806976318, -6.38129997253418, -6.489200115203857, -6.449900150299072, -6.563600063323975, -6.612100124359131, -6.434199810028076, -6.613999843597412, -6.619500160217285, -6.98960018157959, -7.418700218200684, -8.024900436401367, -7.590000152587891, -8.0625, -8.072999954223633, -7.981100082397461, -8.206100463867188, -8.038200378417969, -8.227499961853027, -8.195500373840332, -8.151100158691406, -8.291299819946289, -8.05150032043457, -8.184900283813477, -8.075300216674805, -8.075300216674805, -8.35569953918457, -8.292799949645996, -8.292799949645996, -8.366499900817871, -8.38949966430664, -6.914899826049805, -8.345399856567383, -8.411399841308594, -7.710599899291992, -8.398099899291992, -7.87939977645874, -8.437700271606445, -8.276399612426758, -7.838799953460693, -7.647799968719482, -8.163200378417969, -7.822999954223633, -7.954400062561035, -7.713900089263916, -7.804599761962891, -7.804599761962891, -7.804599761962891, -7.695799827575684, -8.071700096130371, -6.990600109100342, -6.990600109100342, -7.127399921417236, -7.371600151062012, -7.244500160217285, -7.435500144958496, -6.873300075531006, -7.606800079345703, -7.70989990234375, -5.726399898529053, -7.187399864196777, -6.751200199127197, -7.412300109863281, -6.878799915313721, -6.865600109100342, -7.286600112915039, -6.952099800109863, -7.0833001136779785, -7.0030999183654785, -7.286900043487549, -6.467199802398682, -7.111199855804443, -6.059700012207031, -7.289599895477295, -6.181000232696533, -6.68310022354126, -6.673099994659424, -6.389999866485596, -6.429299831390381, -6.587600231170654, -7.14109992980957, -6.490499973297119, -6.265699863433838, -6.524499893188477, -6.7906999588012695, -6.624300003051758, -6.556600093841553, -6.887199878692627, -6.680300235748291, -7.005899906158447, -6.762199878692627, -6.800899982452393, -6.76140022277832, -6.861800193786621, -6.948800086975098, -6.968400001525879, -6.9781999588012695, -6.571100234985352, -6.360599994659424, -6.598999977111816, -7.111700057983398, -7.111700057983398, -7.111700057983398, -7.065299987792969, -7.065299987792969, -7.109499931335449, -7.049799919128418, -7.112599849700928, -7.011000156402588, -7.173099994659424, -7.149099826812744, -7.0625, -6.4670000076293945, -6.328700065612793, -6.9928998947143555, -7.4105000495910645, -7.457300186157227, -7.470900058746338, -7.4756999015808105, -7.398600101470947, -7.656599998474121, -7.309000015258789, -7.6828999519348145, -7.645400047302246, -7.645400047302246, -7.573699951171875, -7.526000022888184, -7.191999912261963, -6.558499813079834, -7.145999908447266, -6.056700229644775, -7.453499794006348, -5.825500011444092, -6.734799861907959, -6.302700042724609, -6.733799934387207, -6.75540018081665, -7.165299892425537, -6.984799861907959, -6.321599960327148, -6.494800090789795, -6.809100151062012, -6.906099796295166, -6.7789998054504395, -6.467800140380859, -6.825399875640869, -6.835100173950195, -7.053599834442139, -7.057400226593018, -7.768099784851074, -8.347200393676758, -8.347200393676758, -7.870100021362305, -8.666199684143066, -8.666199684143066, -8.702899932861328, -8.920999526977539, -8.840399742126465, -8.487600326538086, -8.437100410461426, -8.9931001663208, -9.198699951171875, -9.189200401306152, -7.028800010681152, -9.241299629211426, -8.916899681091309, -9.354100227355957, -5.963600158691406, -5.963600158691406, -9.380200386047363, -9.312899589538574, -9.461700439453125, -9.488800048828125, -9.484800338745117, -9.532899856567383, -9.467300415039062, -9.491999626159668, -9.491999626159668, -9.446499824523926, -8.124199867248535, -8.124300003051758, -6.832200050354004, -8.27750015258789, -8.250399589538574, -8.052900314331055, -8.348099708557129, -8.348099708557129, -8.120800018310547, -8.689399719238281, -8.709699630737305, -8.593199729919434, -8.879400253295898, -8.529399871826172, -8.703300476074219, -8.78439998626709, -8.84469985961914, -8.828200340270996, -8.331700325012207, -8.331700325012207, -8.331700325012207, -8.331700325012207, -8.66759967803955, -8.66759967803955, -8.66759967803955, -9.089200019836426, -9.089200019836426, -9.078499794006348, -9.078499794006348, -9.100099563598633, -9.100099563598633, -9.816200256347656, -9.816200256347656, -9.816200256347656, -9.816200256347656, -9.816200256347656, -9.816200256347656, -9.816200256347656, -9.816200256347656, -9.816200256347656, -9.816200256347656, -9.816200256347656, -9.816200256347656, -9.816200256347656, -9.816200256347656, -9.816200256347656, -9.816200256347656, -9.816200256347656, -9.816200256347656, -8.83180046081543, -8.829099655151367, -8.748600006103516, -8.907899856567383, -9.481399536132812, -9.481300354003906, -9.52180004119873, -9.514800071716309, -9.514800071716309, -9.588800430297852, -9.682000160217285, -9.692000389099121, -9.776399612426758, -9.770400047302246, -9.766599655151367, -9.751799583435059, -9.787699699401855, -9.786100387573242]}, \"token.table\": {\"Topic\": [1, 2, 3, 1, 2, 3, 4, 1, 2, 3, 1, 2, 3, 4, 1, 2, 3, 1, 2, 3, 1, 2, 3, 1, 2, 3, 1, 2, 3, 1, 2, 3, 1, 2, 3, 1, 2, 3, 1, 2, 3, 1, 2, 3, 1, 2, 3, 1, 2, 3, 1, 2, 3, 1, 2, 3, 4, 1, 2, 3, 1, 2, 3, 1, 2, 3, 1, 2, 3, 1, 2, 3, 1, 2, 3, 1, 2, 3, 1, 2, 3, 1, 2, 3, 1, 2, 3, 1, 2, 3, 1, 2, 3, 1, 2, 3, 1, 2, 3, 1, 2, 3, 1, 2, 3, 1, 2, 3, 1, 2, 3, 1, 2, 3, 1, 2, 3, 1, 2, 3, 1, 2, 3, 1, 2, 3, 1, 2, 3, 1, 2, 3, 1, 2, 3, 1, 2, 3, 1, 2, 3, 1, 2, 3, 1, 2, 3, 1, 2, 3, 1, 2, 3, 4, 1, 2, 3, 4, 1, 2, 3, 1, 2, 3, 1, 2, 3, 1, 2, 3, 1, 2, 3, 1, 2, 3, 1, 2, 3, 1, 2, 3, 1, 2, 3, 1, 2, 3, 1, 2, 3, 1, 2, 3, 1, 2, 3, 1, 2, 3, 1, 2, 3, 1, 2, 3, 1, 2, 3, 1, 2, 3, 1, 2, 3, 1, 2, 3, 1, 2, 3, 1, 2, 3, 1, 2, 3, 1, 2, 3, 1, 2, 3, 4, 1, 2, 3, 1, 2, 3, 1, 2, 3, 1, 2, 3, 1, 2, 3, 4, 1, 2, 3, 1, 2, 3, 1, 2, 3, 1, 2, 3, 1, 2, 3, 1, 2, 3, 1, 2, 3, 1, 2, 3, 1, 2, 3, 1, 2, 3, 1, 2, 3, 1, 2, 3, 4, 1, 2, 3, 1, 2, 3, 1, 2, 3, 1, 2, 3, 1, 2, 3, 1, 2, 3, 1, 2, 3, 1, 2, 3, 1, 2, 3, 1, 2, 3, 1, 2, 3, 1, 2, 3, 1, 2, 3, 1, 2, 3, 1, 2, 3, 1, 2, 3, 1, 2, 3, 1, 2, 3, 1, 2, 3, 1, 2, 3, 4, 1, 2, 3, 1, 2, 3, 4, 1, 2, 3, 1, 2, 3, 1, 2, 3, 1, 2, 3, 1, 2, 3, 1, 2, 3, 1, 2, 3, 1, 2, 3, 1, 2, 3, 4, 1, 2, 3, 1, 2, 3, 1, 2, 3, 1, 2, 3, 1, 2, 3, 4, 1, 2, 3, 1, 2, 3, 1, 2, 3, 1, 2, 3, 1, 2, 3, 1, 2, 3, 1, 2, 3, 1, 2, 3, 1, 2, 3, 1, 2, 3, 1, 2, 3, 1, 2, 3, 1, 2, 3, 1, 2, 3, 4, 1, 2, 3, 1, 2, 3, 1, 2, 3, 4, 1, 2, 3, 4, 1, 2, 3, 1, 2, 3, 1, 2, 3, 1, 2, 3, 1, 2, 3, 1, 2, 3, 1, 2, 3, 1, 2, 3, 1, 2, 3, 4, 1, 2, 3, 1, 2, 3, 1, 2, 3, 4, 1, 2, 3, 1, 2, 3, 1, 2, 3, 1, 2, 3, 1, 2, 3, 1, 2, 3, 1, 2, 3, 1, 2, 3, 1, 2, 3, 1, 2, 3, 1, 2, 3, 4, 1, 2, 3, 4, 1, 2, 3, 1, 2, 3, 1, 2, 3, 4, 1, 2, 3, 1, 2, 3, 1, 2, 3, 1, 2, 3, 1, 2, 3, 1, 2, 3, 1, 2, 3, 1, 2, 3, 1, 2, 3, 1, 2, 3, 1, 2, 3, 1, 2, 3, 1, 2, 3, 1, 2, 3, 1, 2, 3, 1, 2, 3, 1, 2, 3, 1, 2, 3, 1, 2, 3, 1, 2, 3, 1, 2, 3, 1, 2, 3, 1, 2, 3, 1, 2, 3, 4, 1, 2, 3, 1, 2, 3, 1, 2, 3, 1, 2, 3, 1, 2, 3, 1, 2, 3, 1, 2, 3, 1, 2, 3, 4, 1, 2, 3, 1, 2, 3, 4, 1, 2, 3, 1, 2, 3, 1, 2, 3, 1, 2, 3, 1, 2, 3, 4, 1, 2, 3, 1, 2, 3, 1, 2, 3, 1, 2, 3, 4, 1, 2, 3, 4, 1, 2, 3, 1, 2, 3, 1, 2, 3, 1, 2, 3, 1, 2, 3, 1, 2, 3, 1, 2, 3, 1, 2, 3, 1, 2, 3, 1, 2, 3, 1, 2, 3, 1, 2, 3, 1, 2, 3, 1, 2, 3, 4, 1, 2, 3, 1, 2, 3, 4, 1, 2, 3, 1, 2, 3, 4, 1, 2, 3, 1, 2, 3, 1, 2, 3, 1, 2, 3, 1, 2, 3, 1, 2, 3, 1, 2, 3, 1, 2, 3, 1, 2, 3, 1, 2, 3, 1, 2, 3, 4, 1, 2, 3, 1, 2, 3, 1, 2, 3, 1, 2, 3, 1, 2, 3, 1, 2, 3, 1, 2, 3, 1, 2, 3, 1, 2, 3, 4, 1, 2, 3, 1, 2, 3, 1, 2, 3, 4, 1, 2, 3, 1, 2, 3, 1, 2, 3, 1, 2, 3, 1, 2, 3, 1, 2, 3, 1, 2, 3, 1, 2, 3, 4, 1, 2, 3, 1, 2, 3, 1, 2, 3, 1, 2, 3, 1, 2, 3, 1, 2, 3, 1, 2, 3, 1, 2, 3, 1, 2, 3, 1, 2, 3, 1, 2, 3, 1, 2, 3, 1, 2, 3, 1, 2, 3, 1, 2, 3, 1, 2, 3, 1, 2, 3, 4, 1, 2, 3, 1, 2, 3, 1, 2, 3, 1, 2, 3], \"Freq\": [0.16172248125076294, 0.08086124062538147, 0.7439233660697937, 0.6983737349510193, 0.18378256261348724, 0.07351302355527878, 0.03675651177763939, 0.5190739035606384, 0.2883743941783905, 0.17302463948726654, 0.9161309599876404, 0.05265120416879654, 0.021060481667518616, 0.010530240833759308, 0.736385703086853, 0.02034214697778225, 0.2441057562828064, 0.5189310312271118, 0.2882950007915497, 0.1729770004749298, 0.1575939655303955, 0.8343209624290466, 0.00618015555664897, 0.7915974855422974, 0.20441840589046478, 0.003725164569914341, 0.5497776865959167, 0.4449068009853363, 0.0031779056880623102, 0.24469326436519623, 0.04218849539756775, 0.7172043919563293, 0.9961714148521423, 0.002896782709285617, 0.0006437295232899487, 0.8064543008804321, 0.1692558377981186, 0.01991245150566101, 0.46001672744750977, 0.5314478874206543, 0.005714493338018656, 0.19356073439121246, 0.0744464322924614, 0.7295750379562378, 0.2358299046754837, 0.06936173886060715, 0.6936173439025879, 0.21623696386814117, 0.10811848193407059, 0.6703345775604248, 0.4739750623703003, 0.4265775680541992, 0.09479501098394394, 0.8923228979110718, 0.06760022044181824, 0.027040088549256325, 0.013520044274628162, 0.6073112487792969, 0.2834119200706482, 0.08097483217716217, 0.1840067356824875, 0.08363942801952362, 0.73602694272995, 0.16872061789035797, 0.08436030894517899, 0.7423707246780396, 0.2649715542793274, 0.12044161558151245, 0.6262964010238647, 0.2649715542793274, 0.12044161558151245, 0.6262964010238647, 0.584246039390564, 0.292123019695282, 0.11684920638799667, 0.8115195631980896, 0.0507199726998806, 0.13807104527950287, 0.8741095066070557, 0.12496504932641983, 0.0009687212877906859, 0.9959799647331238, 0.0027502404991537333, 0.0007857829914428294, 0.9959800839424133, 0.002750240731984377, 0.0007857831078581512, 0.30307474732398987, 0.09471085667610168, 0.6061494946479797, 0.9946465492248535, 0.0038796549197286367, 0.0009699137299321592, 0.6897769570350647, 0.296975314617157, 0.012949504889547825, 0.5474119782447815, 0.3284471929073334, 0.10948240011930466, 0.9728554487228394, 0.02390308305621147, 0.002987885382026434, 0.5132302641868591, 0.3592611849308014, 0.10264605283737183, 0.31510040163993835, 0.6765390634536743, 0.006178439129143953, 0.10607719421386719, 0.8604038953781128, 0.023572709411382675, 0.7203764319419861, 0.26251882314682007, 0.01757015660405159, 0.9478157162666321, 0.03731199726462364, 0.014560779556632042, 0.541192889213562, 0.270596444606781, 0.108238585293293, 0.996797502040863, 0.0022501072380691767, 0.0007500357460230589, 0.9918913841247559, 0.007082128431648016, 0.0007869031396694481, 0.7313955426216125, 0.19247251749038696, 0.07698900252580643, 0.6765771508216858, 0.30968162417411804, 0.013622359372675419, 0.10250783711671829, 0.8713166117668152, 0.02050156705081463, 0.03799641877412796, 0.9537100791931152, 0.00759928347542882, 0.5795697569847107, 0.28978487849235535, 0.11591394990682602, 0.299320250749588, 0.6848853230476379, 0.010146449320018291, 0.5974550843238831, 0.29872754216194153, 0.09957584738731384, 0.20235449075698853, 0.7841236591339111, 0.012647155672311783, 0.5785644054412842, 0.2892822027206421, 0.11571288108825684, 0.05785644054412842, 0.5780210494995117, 0.26273682713508606, 0.10509473830461502, 0.05254736915230751, 0.8587910532951355, 0.13987548649311066, 0.0008880983223207295, 0.16967633366584778, 0.08483816683292389, 0.7465758919715881, 0.1350073218345642, 0.837045431137085, 0.02700146660208702, 0.9955209493637085, 0.003767619142308831, 0.0005796337500214577, 0.9954441785812378, 0.003833546070381999, 0.0006389243644662201, 0.9846386313438416, 0.01469250489026308, 0.0007225821609608829, 0.5343349575996399, 0.3206009566783905, 0.1068669855594635, 0.9472457766532898, 0.050803326070308685, 0.001772209070622921, 0.8773524761199951, 0.12144023925065994, 0.0008522122516296804, 0.16113844513893127, 0.81417316198349, 0.025442911311984062, 0.5453948974609375, 0.4496385455131531, 0.004163319710642099, 0.9860529899597168, 0.013038101606070995, 0.000745034369174391, 0.15022538602352142, 0.8330680131912231, 0.013656852766871452, 0.5577049851417542, 0.2788524925708771, 0.11154098808765411, 0.1194358766078949, 0.8577667474746704, 0.021715613082051277, 0.5807949304580688, 0.2903974652290344, 0.11615898460149765, 0.16395550966262817, 0.8123250603675842, 0.014905046671628952, 0.4205806851387024, 0.5483520030975342, 0.02928093448281288, 0.16967633366584778, 0.08483816683292389, 0.7465758919715881, 0.5186556577682495, 0.28814205527305603, 0.1728852242231369, 0.7295131087303162, 0.2671668529510498, 0.0030120275914669037, 0.9510233998298645, 0.048174113035202026, 0.0005537254037335515, 0.12302355468273163, 0.8365601897239685, 0.024604709818959236, 0.14902661740779877, 0.8302911520004272, 0.021289518103003502, 0.8739212155342102, 0.10602720826864243, 0.006425891071557999, 0.016064727678894997, 0.5189310312271118, 0.2882950007915497, 0.1729770004749298, 0.7929251790046692, 0.042155515402555466, 0.16460725665092468, 0.9951614141464233, 0.003618768882006407, 0.0012062563328072429, 0.4196833074092865, 0.061718136072158813, 0.5184323191642761, 0.889855146408081, 0.06640709936618805, 0.02656284160912037, 0.013281420804560184, 0.2928760051727295, 0.6182937622070312, 0.06508355587720871, 0.22673794627189636, 0.103062704205513, 0.6802138090133667, 0.6698695421218872, 0.23923912644386292, 0.09569565206766129, 0.5925367474555969, 0.01832587830722332, 0.3878977596759796, 0.3255831301212311, 0.6186079978942871, 0.06511662900447845, 0.37805160880088806, 0.6017963886260986, 0.015430677682161331, 0.5495604276657104, 0.44512680172920227, 0.003424052381888032, 0.5638729333877563, 0.4329426884651184, 0.003491473151370883, 0.1552785485982895, 0.2846773564815521, 0.5564148426055908, 0.5798169374465942, 0.2899084687232971, 0.1159633919596672, 0.09308181703090668, 0.8924903869628906, 0.010950801894068718, 0.7714144587516785, 0.14834894239902496, 0.059339575469493866, 0.029669787734746933, 0.26021599769592285, 0.31897443532943726, 0.4197031855583191, 0.1920844167470932, 0.08731110394001007, 0.7334132194519043, 0.18019193410873413, 0.8000521659851074, 0.01441535446792841, 0.9833511710166931, 0.016024604439735413, 0.0005087176105007529, 0.2374531775712967, 0.09893882274627686, 0.6529962420463562, 0.9953517317771912, 0.0029483167454600334, 0.001179326674900949, 0.5186556577682495, 0.28814205527305603, 0.1728852242231369, 0.9042497873306274, 0.0749412477016449, 0.021057872101664543, 0.6314875483512878, 0.017541320994496346, 0.3508264124393463, 0.6876431703567505, 0.02644781395792961, 0.28563639521598816, 0.14359784126281738, 0.8256875276565552, 0.02393297292292118, 0.9715699553489685, 0.01879744604229927, 0.009583012200891972, 0.5181994438171387, 0.2878885865211487, 0.1727331429719925, 0.4739753305912018, 0.4265778064727783, 0.09479506313800812, 0.7884694933891296, 0.21048285067081451, 0.0007477188482880592, 0.7540033459663391, 0.09048040211200714, 0.1558273583650589, 0.7292824983596802, 0.06589902192354202, 0.2064836025238037, 0.18019194900989532, 0.800052285194397, 0.014415356330573559, 0.6073036789894104, 0.28340837359428406, 0.08097381889820099, 0.6184057593345642, 0.257669061422348, 0.10306762158870697, 0.051533810794353485, 0.5212358236312866, 0.40792369842529297, 0.04532485455274582, 0.9648041725158691, 0.020793193951249123, 0.012475916184484959, 0.004158638883382082, 0.1268165111541748, 0.8486951589584351, 0.019510233774781227, 0.7393203377723694, 0.2198239266872406, 0.0404052734375, 0.9958834648132324, 0.0030408655293285847, 0.0007602163823321462, 0.12962943315505981, 0.8475770950317383, 0.019942989572882652, 0.9955219030380249, 0.0032563800923526287, 0.0009303943370468915, 0.8271620273590088, 0.15923132002353668, 0.013663413934409618, 0.16967634856700897, 0.08483817428350449, 0.7465759515762329, 0.9953869581222534, 0.002925887471064925, 0.0011703550117090344, 0.37928664684295654, 0.49599024653434753, 0.0583517923951149, 0.0583517923951149, 0.19361865520477295, 0.050952278077602386, 0.7540937066078186, 0.7409262657165527, 0.19971059262752533, 0.05891462415456772, 0.8980792760848999, 0.06414851546287537, 0.025659408420324326, 0.12254050374031067, 0.8466435074806213, 0.022280091419816017, 0.8898561596870422, 0.06640717387199402, 0.026562869548797607, 0.013281434774398804, 0.5650210976600647, 0.42882269620895386, 0.005393995903432369, 0.8037051558494568, 0.195470929145813, 0.00092203269014135, 0.10835102945566177, 0.8795554041862488, 0.012747179716825485, 0.12893801927566528, 0.053724177181720734, 0.8166074752807617, 0.16172248125076294, 0.08086124062538147, 0.7439233660697937, 0.26090559363365173, 0.03623688966035843, 0.7029956579208374, 0.14667798578739166, 0.043140582740306854, 0.8110429644584656, 0.2659103572368622, 0.11079598218202591, 0.6204574704170227, 0.1238979920744896, 0.8397530317306519, 0.02753288671374321, 0.5655434131622314, 0.2827717065811157, 0.11310868710279465, 0.5474119782447815, 0.3284471929073334, 0.10948240011930466, 0.7407699227333069, 0.2567756175994873, 0.0018473064992576838, 0.1296294629573822, 0.8475772738456726, 0.0199429951608181, 0.8568844795227051, 0.10711055994033813, 0.017851758748292923, 0.008925879374146461, 0.8939564228057861, 0.05779890716075897, 0.04623912647366524, 0.15384411811828613, 0.8172969222068787, 0.019230514764785767, 0.578021228313446, 0.2627369165420532, 0.10509476810693741, 0.052547384053468704, 0.9615293145179749, 0.027050698176026344, 0.011066194623708725, 0.0012295771157369018, 0.760562002658844, 0.23747771978378296, 0.0012665478279814124, 0.6724236607551575, 0.011831501498818398, 0.31747862696647644, 0.6017985939979553, 0.034064073115587234, 0.3576727509498596, 0.4698382616043091, 0.5257713794708252, 0.003728874959051609, 0.5181994438171387, 0.2878885865211487, 0.1727331429719925, 0.2463642954826355, 0.7156296372413635, 0.03519489988684654, 0.5189310312271118, 0.2882950007915497, 0.1729770004749298, 0.718668520450592, 0.2761096954345703, 0.004569191485643387, 0.5322495102882385, 0.3193497061729431, 0.1064499020576477, 0.05322495102882385, 0.9934079647064209, 0.005580943543463945, 0.0007441258057951927, 0.18019194900989532, 0.800052285194397, 0.014415356330573559, 0.36043867468833923, 0.5835673809051514, 0.034327492117881775, 0.017163746058940887, 0.995568037033081, 0.0034502989146858454, 0.0006273270701058209, 0.669869065284729, 0.2392389476299286, 0.09569557756185532, 0.9764137864112854, 0.022557415068149567, 0.000716108363121748, 0.9942019581794739, 0.004860830958932638, 0.0006481108139269054, 0.18958839774131775, 0.797578752040863, 0.01307506114244461, 0.5189310312271118, 0.2882950007915497, 0.1729770004749298, 0.1450229287147522, 0.8298534154891968, 0.016113657504320145, 0.272953063249588, 0.6550872921943665, 0.054590608924627304, 0.2868101894855499, 0.7006363272666931, 0.00819457694888115, 0.3471039831638336, 0.6413159370422363, 0.006611504126340151, 0.8426702618598938, 0.13352805376052856, 0.0036088661290705204, 0.019848763942718506, 0.8426991105079651, 0.13353262841701508, 0.0036089897621423006, 0.019849443808197975, 0.8098317384719849, 0.18674512207508087, 0.003165171481668949, 0.11357656121253967, 0.8518242239952087, 0.022715313360095024, 0.6184057593345642, 0.257669061422348, 0.10306762158870697, 0.051533810794353485, 0.1109321191906929, 0.8597239255905151, 0.01848868653178215, 0.4572356939315796, 0.5348795056343079, 0.005751392338424921, 0.5617167949676514, 0.2808583974838257, 0.11234336346387863, 0.21597130596637726, 0.10798565298318863, 0.6695110201835632, 0.9948215484619141, 0.0035631144419312477, 0.001425245776772499, 0.1323215365409851, 0.8336256742477417, 0.02646430768072605, 0.17410908639431, 0.07914049178361893, 0.743920624256134, 0.8891922235488892, 0.10290064662694931, 0.0078400494530797, 0.5892564058303833, 0.03981462121009827, 0.3742574453353882, 0.9944013953208923, 0.004892102442681789, 0.0006522803450934589, 0.9944021701812744, 0.004892106633633375, 0.0006522808689624071, 0.9898536801338196, 0.0093584218993783, 0.0005347669939510524, 0.9932447671890259, 0.0061345831491053104, 0.0005576893454417586, 0.47397589683532715, 0.4265782833099365, 0.09479517489671707, 0.8912051320075989, 0.07638901472091675, 0.025463003665208817, 0.1290997862815857, 0.8391485810279846, 0.02581995539367199, 0.20187221467494965, 0.07764316350221634, 0.7298457026481628, 0.9949741363525391, 0.0036154582630842924, 0.001446183305233717, 0.9946497678756714, 0.003719707252457738, 0.0014878829242661595, 0.3821938931941986, 0.1810392141342163, 0.4358351528644562, 0.8601977825164795, 0.10999582707881927, 0.029399806633591652, 0.8844380974769592, 0.08164044469594955, 0.027213480323553085, 0.32361871004104614, 0.07354970276355743, 0.6031075716018677, 0.5447930693626404, 0.2971598505973816, 0.0990532860159874, 0.0495266430079937, 0.8861868381500244, 0.07263826578855515, 0.029055306687951088, 0.8769883513450623, 0.09027821570634842, 0.02579377591609955, 0.6641167402267456, 0.3320583701133728, 0.0026887315325438976, 0.10415034741163254, 0.8563473224639893, 0.023144522681832314, 0.2785642743110657, 0.08705133199691772, 0.6267696022987366, 0.9934186339378357, 0.00587979843840003, 0.000534527120180428, 0.7313960790634155, 0.1924726516008377, 0.0769890621304512, 0.8998687267303467, 0.062490880489349365, 0.024996353313326836, 0.012498176656663418, 0.9509243965148926, 0.030336914584040642, 0.01875372976064682, 0.8699134588241577, 0.08054754137992859, 0.032219015061855316, 0.016109507530927658, 0.9955489039421082, 0.003505453933030367, 0.0005842423415742815, 0.5314676761627197, 0.46268951892852783, 0.006252560764551163, 0.11199913173913956, 0.8462156653404236, 0.024888696148991585, 0.1748150885105133, 0.8116415143013, 0.012486792169511318, 0.9161316156387329, 0.052651241421699524, 0.02106049656867981, 0.010530248284339905, 0.11716029047966003, 0.859175443649292, 0.019526714459061623, 0.1357099711894989, 0.8278307914733887, 0.02714199386537075, 0.9237867593765259, 0.0623568631708622, 0.013577703386545181, 0.3993639051914215, 0.4792366623878479, 0.07987277954816818, 0.03993638977408409, 0.5361736416816711, 0.434485524892807, 0.018488746136426926, 0.009244373068213463, 0.8601152300834656, 0.13648851215839386, 0.0031680120155215263, 0.24687460064888, 0.12343730032444, 0.6418739557266235, 0.12670797109603882, 0.8306410908699036, 0.028157325461506844, 0.8641912341117859, 0.09001991897821426, 0.036007966846227646, 0.9205858111381531, 0.060199953615665436, 0.018939310684800148, 0.9957553744316101, 0.003200315637513995, 0.0009143759380094707, 0.45327603816986084, 0.45327603816986084, 0.09065520763397217, 0.996516764163971, 0.002319021848961711, 0.0006625776295550168, 0.9964271187782288, 0.0026241496670991182, 0.0007497570477426052, 0.888685405254364, 0.10414282232522964, 0.006942854728549719, 0.9961758852005005, 0.0028273677453398705, 0.0006283039110712707, 0.09195596724748611, 0.8786903619766235, 0.020434658974409103, 0.9862255454063416, 0.0035204379819333553, 0.010058394633233547, 0.8468188643455505, 0.13231544196605682, 0.013231544755399227, 0.006615772377699614, 0.9942517876625061, 0.004375680349767208, 0.0009723734110593796, 0.7510559558868408, 0.2068125158548355, 0.02176973782479763, 0.010884868912398815, 0.7989042401313782, 0.18315601348876953, 0.018214410170912743, 0.7521411180496216, 0.20961309969425201, 0.012330182828009129, 0.024660365656018257, 0.2515648901462555, 0.12578244507312775, 0.6289122104644775, 0.9794094562530518, 0.009160804562270641, 0.011550579220056534, 0.27389147877693176, 0.10534287989139557, 0.6109886765480042, 0.9841756820678711, 0.015171281062066555, 0.0007340942393057048, 0.8665054440498352, 0.13247424364089966, 0.0011620547156780958, 0.9895823001861572, 0.009444581344723701, 0.0006995986332185566, 0.9895818829536438, 0.009444577619433403, 0.0006995983421802521, 0.5261247754096985, 0.292291522026062, 0.11691661179065704, 0.5388863682746887, 0.3233318328857422, 0.10777727514505386, 0.9883921146392822, 0.010002468712627888, 0.0014818472554907203, 0.9425231218338013, 0.03770092502236366, 0.015080370008945465, 0.0075401850044727325, 0.5182834267616272, 0.2879352569580078, 0.17276115715503693, 0.1787617951631546, 0.7547720074653625, 0.039724841713905334, 0.45828211307525635, 0.045182742178440094, 0.49701017141342163, 0.5189310312271118, 0.2882950007915497, 0.1729770004749298, 0.8573486804962158, 0.14126767218112946, 0.001082510920241475, 0.9954004883766174, 0.0034522560890764, 0.0011507520684972405, 0.9975157976150513, 0.0017768361140042543, 0.0007107344572432339, 0.5212498307228088, 0.40793466567993164, 0.045326072722673416, 0.8946833610534668, 0.07817621529102325, 0.0173724927008152, 0.0086862463504076, 0.5667403340339661, 0.03113957680761814, 0.4048145115375519, 0.9549657106399536, 0.044029153883457184, 0.0010006626835092902, 0.5348231196403503, 0.3403419852256775, 0.09724057465791702, 0.04862028732895851, 0.8189215064048767, 0.178065225481987, 0.002677672542631626, 0.5182834267616272, 0.2879352569580078, 0.17276115715503693, 0.11830783635377884, 0.8413001298904419, 0.02629062905907631, 0.3087981939315796, 0.6810480952262878, 0.008460224606096745, 0.4329538345336914, 0.5553752779960632, 0.008957665413618088, 0.38384342193603516, 0.6052915453910828, 0.007381604053080082, 0.9965493083000183, 0.0024317943025380373, 0.0009727177093736827, 0.5462176203727722, 0.24828074872493744, 0.09931229799985886, 0.09931229799985886, 0.4532751142978668, 0.4532751142978668, 0.09065502136945724, 0.9848484396934509, 0.014301429502665997, 0.0006500649615190923, 0.7069741487503052, 0.23565806448459625, 0.03927634283900261, 0.5258883237838745, 0.4683692753314972, 0.00410850252956152, 0.47397592663764954, 0.4265783429145813, 0.09479518234729767, 0.994425356388092, 0.003631940810009837, 0.0014527762541547418, 0.33175763487815857, 0.660882294178009, 0.0052659944631159306, 0.3317579925060272, 0.6608830094337463, 0.005266000051051378, 0.7313953042030334, 0.1924724578857422, 0.07698898017406464, 0.9953672289848328, 0.003005638252943754, 0.0010018794564530253, 0.955804705619812, 0.04152977466583252, 0.002789313206449151, 0.7411772012710571, 0.25144147872924805, 0.007395337801426649, 0.5584226846694946, 0.43689268827438354, 0.003076709108427167, 0.12302356213331223, 0.8365602493286133, 0.024604713544249535, 0.9917473196983337, 0.007627100218087435, 0.00044865295058116317, 0.7468593120574951, 0.24992938339710236, 0.0019525733077898622, 0.8732244968414307, 0.07938404381275177, 0.03175361827015877, 0.015876809135079384, 0.2151658535003662, 0.1075829267501831, 0.6670141220092773, 0.18648318946361542, 0.08476508408784866, 0.728979766368866, 0.0889461487531662, 0.8795785307884216, 0.019765811040997505, 0.1609165370464325, 0.8199080228805542, 0.015325384214520454], \"Term\": [\"8x12\", \"8x12\", \"8x12\", \"aguilera\", \"aguilera\", \"aguilera\", \"aguilera\", \"aint\", \"aint\", \"aint\", \"alistair\", \"alistair\", \"alistair\", \"alistair\", \"applique\", \"applique\", \"applique\", \"ardent\", \"ardent\", \"ardent\", \"aromaleigh\", \"aromaleigh\", \"aromaleigh\", \"art\", \"art\", \"art\", \"art_design\", \"art_design\", \"art_design\", \"arzumusa\", \"arzumusa\", \"arzumusa\", \"asos\", \"asos\", \"asos\", \"assorted\", \"assorted\", \"assorted\", \"austrian\", \"austrian\", \"austrian\", \"ayawedding\", \"ayawedding\", \"ayawedding\", \"ayca\", \"ayca\", \"ayca\", \"babybaharcollection\", \"babybaharcollection\", \"babybaharcollection\", \"babygap\", \"babygap\", \"babygap\", \"bacconi\", \"bacconi\", \"bacconi\", \"bacconi\", \"backed\", \"backed\", \"backed\", \"baharcollection\", \"baharcollection\", \"baharcollection\", \"bahardecoration\", \"bahardecoration\", \"bahardecoration\", \"balboa\", \"balboa\", \"balboa\", \"bassinet\", \"bassinet\", \"bassinet\", \"battleship\", \"battleship\", \"battleship\", \"bead\", \"bead\", \"bead\", \"bed\", \"bed\", \"bed\", \"bergdorf\", \"bergdorf\", \"bergdorf\", \"bergdorf_goodman\", \"bergdorf_goodman\", \"bergdorf_goodman\", \"bhv\", \"bhv\", \"bhv\", \"bikini\", \"bikini\", \"bikini\", \"bird\", \"bird\", \"bird\", \"bitsy\", \"bitsy\", \"bitsy\", \"black\", \"black\", \"black\", \"blast\", \"blast\", \"blast\", \"blik\", \"blik\", \"blik\", \"blind\", \"blind\", \"blind\", \"blossom\", \"blossom\", \"blossom\", \"blue\", \"blue\", \"blue\", \"blueberry\", \"blueberry\", \"blueberry\", \"bluefly\", \"bluefly\", \"bluefly\", \"boot\", \"boot\", \"boot\", \"boulevard_monogram\", \"boulevard_monogram\", \"boulevard_monogram\", \"bowl\", \"bowl\", \"bowl\", \"bradley\", \"bradley\", \"bradley\", \"brownie\", \"brownie\", \"brownie\", \"burney\", \"burney\", \"burney\", \"car\", \"car\", \"car\", \"carnival\", \"carnival\", \"carnival\", \"carrotbox\", \"carrotbox\", \"carrotbox\", \"catnip\", \"catnip\", \"catnip\", \"catnip\", \"cavallari\", \"cavallari\", \"cavallari\", \"cavallari\", \"chair\", \"chair\", \"chair\", \"chart\", \"chart\", \"chart\", \"chocoa\", \"chocoa\", \"chocoa\", \"christian\", \"christian\", \"christian\", \"christian_louboutin\", \"christian_louboutin\", \"christian_louboutin\", \"clothing\", \"clothing\", \"clothing\", \"cog\", \"cog\", \"cog\", \"collection\", \"collection\", \"collection\", \"contemporary\", \"contemporary\", \"contemporary\", \"contraforma\", \"contraforma\", \"contraforma\", \"cool\", \"cool\", \"cool\", \"couture\", \"couture\", \"couture\", \"crap\", \"crap\", \"crap\", \"cucumber\", \"cucumber\", \"cucumber\", \"danish\", \"danish\", \"danish\", \"darlin\", \"darlin\", \"darlin\", \"decole\", \"decole\", \"decole\", \"decoration\", \"decoration\", \"decoration\", \"decorativelabels\", \"decorativelabels\", \"decorativelabels\", \"denture\", \"denture\", \"denture\", \"design\", \"design\", \"design\", \"designer\", \"designer\", \"designer\", \"designerm\\u00f6bel\", \"designerm\\u00f6bel\", \"designerm\\u00f6bel\", \"desktop\", \"desktop\", \"desktop\", \"detail_hand\", \"detail_hand\", \"detail_hand\", \"detail_hand\", \"devotee\", \"devotee\", \"devotee\", \"dichroic\", \"dichroic\", \"dichroic\", \"dior\", \"dior\", \"dior\", \"dreamyvintage\", \"dreamyvintage\", \"dreamyvintage\", \"dupatta\", \"dupatta\", \"dupatta\", \"dupatta\", \"dusicadusica\", \"dusicadusica\", \"dusicadusica\", \"ebruk\", \"ebruk\", \"ebruk\", \"ecshop\", \"ecshop\", \"ecshop\", \"ega\", \"ega\", \"ega\", \"egli\", \"egli\", \"egli\", \"ellips\", \"ellips\", \"ellips\", \"elsewares\", \"elsewares\", \"elsewares\", \"elsewares_independent\", \"elsewares_independent\", \"elsewares_independent\", \"emery\", \"emery\", \"emery\", \"esme\", \"esme\", \"esme\", \"ethnocity\", \"ethnocity\", \"ethnocity\", \"ettika\", \"ettika\", \"ettika\", \"ettika\", \"everyday\", \"everyday\", \"everyday\", \"evihan\", \"evihan\", \"evihan\", \"exterieure\", \"exterieure\", \"exterieure\", \"fashion\", \"fashion\", \"fashion\", \"febystandesigns\", \"febystandesigns\", \"febystandesigns\", \"femme\", \"femme\", \"femme\", \"flaming\", \"flaming\", \"flaming\", \"flower\", \"flower\", \"flower\", \"focal\", \"focal\", \"focal\", \"focal_bead\", \"focal_bead\", \"focal_bead\", \"food\", \"food\", \"food\", \"free\", \"free\", \"free\", \"fritz\", \"fritz\", \"fritz\", \"frutti\", \"frutti\", \"frutti\", \"furniture\", \"furniture\", \"furniture\", \"fused\", \"fused\", \"fused\", \"fused_glass\", \"fused_glass\", \"fused_glass\", \"galets\", \"galets\", \"galets\", \"galimberti\", \"galimberti\", \"galimberti\", \"gameboard\", \"gameboard\", \"gameboard\", \"gameboard\", \"gharani\", \"gharani\", \"gharani\", \"gina\", \"gina\", \"gina\", \"gina\", \"girlshop\", \"girlshop\", \"girlshop\", \"glass\", \"glass\", \"glass\", \"goodman\", \"goodman\", \"goodman\", \"gorillapod\", \"gorillapod\", \"gorillapod\", \"gown\", \"gown\", \"gown\", \"green\", \"green\", \"green\", \"growth\", \"growth\", \"growth\", \"halter\", \"halter\", \"halter\", \"hand_sewn\", \"hand_sewn\", \"hand_sewn\", \"hand_sewn\", \"handcreativity\", \"handcreativity\", \"handcreativity\", \"handmade\", \"handmade\", \"handmade\", \"heller\", \"heller\", \"heller\", \"hhstyle\", \"hhstyle\", \"hhstyle\", \"hindu\", \"hindu\", \"hindu\", \"hindu\", \"holder\", \"holder\", \"holder\", \"home\", \"home\", \"home\", \"homegoods\", \"homegoods\", \"homegoods\", \"hueconcept\", \"hueconcept\", \"hueconcept\", \"ichaphotography\", \"ichaphotography\", \"ichaphotography\", \"ikabags\", \"ikabags\", \"ikabags\", \"iloveyoyo\", \"iloveyoyo\", \"iloveyoyo\", \"immortalbutterfly\", \"immortalbutterfly\", \"immortalbutterfly\", \"ironing\", \"ironing\", \"ironing\", \"ish\", \"ish\", \"ish\", \"itsy\", \"itsy\", \"itsy\", \"jewellery\", \"jewellery\", \"jewellery\", \"joby\", \"joby\", \"joby\", \"karma\", \"karma\", \"karma\", \"karma\", \"kiss\", \"kiss\", \"kiss\", \"ki\\u00dfkalt\", \"ki\\u00dfkalt\", \"ki\\u00dfkalt\", \"kris\", \"kris\", \"kris\", \"kris\", \"label\", \"label\", \"label\", \"label\", \"lamp\", \"lamp\", \"lamp\", \"lampwork\", \"lampwork\", \"lampwork\", \"lampwork_glass\", \"lampwork_glass\", \"lampwork_glass\", \"laptop\", \"laptop\", \"laptop\", \"lazer\", \"lazer\", \"lazer\", \"lei\", \"lei\", \"lei\", \"leprechaun\", \"leprechaun\", \"leprechaun\", \"light\", \"light\", \"light\", \"lightswitch\", \"lightswitch\", \"lightswitch\", \"lightswitch\", \"lingerie\", \"lingerie\", \"lingerie\", \"livingstone\", \"livingstone\", \"livingstone\", \"log\", \"log\", \"log\", \"log\", \"louboutin\", \"louboutin\", \"louboutin\", \"louisvuitton\", \"louisvuitton\", \"louisvuitton\", \"marc\", \"marc\", \"marc\", \"marcus\", \"marcus\", \"marcus\", \"marimekko\", \"marimekko\", \"marimekko\", \"mcnamara\", \"mcnamara\", \"mcnamara\", \"menu\", \"menu\", \"menu\", \"miff\", \"miff\", \"miff\", \"mintd\", \"mintd\", \"mintd\", \"misi\", \"misi\", \"misi\", \"mixtgoods\", \"mixtgoods\", \"mixtgoods\", \"mixtgoods\", \"mixtgoods_product\", \"mixtgoods_product\", \"mixtgoods_product\", \"mixtgoods_product\", \"modern\", \"modern\", \"modern\", \"momastore\", \"momastore\", \"momastore\", \"monopoly\", \"monopoly\", \"monopoly\", \"monopoly\", \"mood\", \"mood\", \"mood\", \"moonstruck\", \"moonstruck\", \"moonstruck\", \"moved\", \"moved\", \"moved\", \"mybabydiapers\", \"mybabydiapers\", \"mybabydiapers\", \"myprestigium\", \"myprestigium\", \"myprestigium\", \"m\\u00f8bler\", \"m\\u00f8bler\", \"m\\u00f8bler\", \"nakpunar\", \"nakpunar\", \"nakpunar\", \"necklace\", \"necklace\", \"necklace\", \"neckwarmer\", \"neckwarmer\", \"neckwarmer\", \"neiman\", \"neiman\", \"neiman\", \"neiman_marcus\", \"neiman_marcus\", \"neiman_marcus\", \"net\", \"net\", \"net\", \"net_porter\", \"net_porter\", \"net_porter\", \"newborn\", \"newborn\", \"newborn\", \"nino\", \"nino\", \"nino\", \"osborne\", \"osborne\", \"osborne\", \"pearlsquiltedcrafts\", \"pearlsquiltedcrafts\", \"pearlsquiltedcrafts\", \"peep\", \"peep\", \"peep\", \"peep_toe\", \"peep_toe\", \"peep_toe\", \"pen\", \"pen\", \"pen\", \"pendant\", \"pendant\", \"pendant\", \"pendlar\", \"pendlar\", \"pendlar\", \"percent\", \"percent\", \"percent\", \"periwinkle\", \"periwinkle\", \"periwinkle\", \"periwinkle\", \"placenta\", \"placenta\", \"placenta\", \"placentero\", \"placentero\", \"placentero\", \"plate\", \"plate\", \"plate\", \"poketo\", \"poketo\", \"poketo\", \"pompon\", \"pompon\", \"pompon\", \"porter\", \"porter\", \"porter\", \"pouches_women_go\", \"pouches_women_go\", \"pouches_women_go\", \"prayer\", \"prayer\", \"prayer\", \"prayer\", \"print\", \"print\", \"print\", \"probber\", \"probber\", \"probber\", \"probber\", \"pump\", \"pump\", \"pump\", \"pure\", \"pure\", \"pure\", \"radiatori\", \"radiatori\", \"radiatori\", \"radish\", \"radish\", \"radish\", \"rai\", \"rai\", \"rai\", \"rai\", \"readymade\", \"readymade\", \"readymade\", \"rebound\", \"rebound\", \"rebound\", \"red\", \"red\", \"red\", \"rhapsody\", \"rhapsody\", \"rhapsody\", \"rhapsody\", \"ri\", \"ri\", \"ri\", \"ri\", \"ring\", \"ring\", \"ring\", \"ringfree\", \"ringfree\", \"ringfree\", \"robotan\", \"robotan\", \"robotan\", \"rockettoro\", \"rockettoro\", \"rockettoro\", \"rose\", \"rose\", \"rose\", \"ruffle\", \"ruffle\", \"ruffle\", \"rush\", \"rush\", \"rush\", \"saks\", \"saks\", \"saks\", \"saks_com\", \"saks_com\", \"saks_com\", \"sameunderneath\", \"sameunderneath\", \"sameunderneath\", \"sandal\", \"sandal\", \"sandal\", \"sandwich\", \"sandwich\", \"sandwich\", \"satin\", \"satin\", \"satin\", \"scrabble\", \"scrabble\", \"scrabble\", \"scrabble\", \"secret\", \"secret\", \"secret\", \"selldorf\", \"selldorf\", \"selldorf\", \"selldorf\", \"set\", \"set\", \"set\", \"sewn\", \"sewn\", \"sewn\", \"sewn\", \"shebbodesign\", \"shebbodesign\", \"shebbodesign\", \"shipping\", \"shipping\", \"shipping\", \"shippingbulky\", \"shippingbulky\", \"shippingbulky\", \"shoe\", \"shoe\", \"shoe\", \"shop\", \"shop\", \"shop\", \"shopbop\", \"shopbop\", \"shopbop\", \"shopbop_com\", \"shopbop_com\", \"shopbop_com\", \"shrimp\", \"shrimp\", \"shrimp\", \"shrooms\", \"shrooms\", \"shrooms\", \"silk\", \"silk\", \"silk\", \"sir\", \"sir\", \"sir\", \"sir\", \"splendor\", \"splendor\", \"splendor\", \"spraygraphic\", \"spraygraphic\", \"spraygraphic\", \"sra\", \"sra\", \"sra\", \"statue\", \"statue\", \"statue\", \"store\", \"store\", \"store\", \"strapless\", \"strapless\", \"strapless\", \"streetwear\", \"streetwear\", \"streetwear\", \"strok\", \"strok\", \"strok\", \"stroller\", \"stroller\", \"stroller\", \"stroller\", \"studiomarcy\", \"studiomarcy\", \"studiomarcy\", \"style\", \"style\", \"style\", \"superstar\", \"superstar\", \"superstar\", \"superstar\", \"table\", \"table\", \"table\", \"tamale\", \"tamale\", \"tamale\", \"thermo\", \"thermo\", \"thermo\", \"thinkgeek\", \"thinkgeek\", \"thinkgeek\", \"tile\", \"tile\", \"tile\", \"toaster\", \"toaster\", \"toaster\", \"toe\", \"toe\", \"toe\", \"tolani\", \"tolani\", \"tolani\", \"tolani\", \"tommie\", \"tommie\", \"tommie\", \"top\", \"top\", \"top\", \"toujours\", \"toujours\", \"toujours\", \"toy\", \"toy\", \"toy\", \"tutti\", \"tutti\", \"tutti\", \"valentino\", \"valentino\", \"valentino\", \"velocity\", \"velocity\", \"velocity\", \"velocity_art\", \"velocity_art\", \"velocity_art\", \"vernis_clutches\", \"vernis_clutches\", \"vernis_clutches\", \"victoria_secret\", \"victoria_secret\", \"victoria_secret\", \"vintage\", \"vintage\", \"vintage\", \"wall\", \"wall\", \"wall\", \"wallpaper\", \"wallpaper\", \"wallpaper\", \"wohnaccessoires\", \"wohnaccessoires\", \"wohnaccessoires\", \"woman\", \"woman\", \"woman\", \"wood\", \"wood\", \"wood\", \"woodard\", \"woodard\", \"woodard\", \"woodard\", \"yemeni\", \"yemeni\", \"yemeni\", \"yoyobybahar\", \"yoyobybahar\", \"yoyobybahar\", \"zanisa\", \"zanisa\", \"zanisa\", \"zid\", \"zid\", \"zid\"]}, \"R\": 30, \"lambda.step\": 0.01, \"plot.opts\": {\"xlab\": \"PC1\", \"ylab\": \"PC2\"}, \"topic.order\": [2, 5, 1, 4, 3]};\n",
       "\n",
       "function LDAvis_load_lib(url, callback){\n",
       "  var s = document.createElement('script');\n",
       "  s.src = url;\n",
       "  s.async = true;\n",
       "  s.onreadystatechange = s.onload = callback;\n",
       "  s.onerror = function(){console.warn(\"failed to load library \" + url);};\n",
       "  document.getElementsByTagName(\"head\")[0].appendChild(s);\n",
       "}\n",
       "\n",
       "if(typeof(LDAvis) !== \"undefined\"){\n",
       "   // already loaded: just create the visualization\n",
       "   !function(LDAvis){\n",
       "       new LDAvis(\"#\" + \"ldavis_el48301398898865786325945422590\", ldavis_el48301398898865786325945422590_data);\n",
       "   }(LDAvis);\n",
       "}else if(typeof define === \"function\" && define.amd){\n",
       "   // require.js is available: use it to load d3/LDAvis\n",
       "   require.config({paths: {d3: \"https://cdnjs.cloudflare.com/ajax/libs/d3/3.5.5/d3.min\"}});\n",
       "   require([\"d3\"], function(d3){\n",
       "      window.d3 = d3;\n",
       "      LDAvis_load_lib(\"https://cdn.rawgit.com/bmabey/pyLDAvis/files/ldavis.v1.0.0.js\", function(){\n",
       "        new LDAvis(\"#\" + \"ldavis_el48301398898865786325945422590\", ldavis_el48301398898865786325945422590_data);\n",
       "      });\n",
       "    });\n",
       "}else{\n",
       "    // require.js not available: dynamically load d3 & LDAvis\n",
       "    LDAvis_load_lib(\"https://cdnjs.cloudflare.com/ajax/libs/d3/3.5.5/d3.min.js\", function(){\n",
       "         LDAvis_load_lib(\"https://cdn.rawgit.com/bmabey/pyLDAvis/files/ldavis.v1.0.0.js\", function(){\n",
       "                 new LDAvis(\"#\" + \"ldavis_el48301398898865786325945422590\", ldavis_el48301398898865786325945422590_data);\n",
       "            })\n",
       "         });\n",
       "}\n",
       "</script>"
      ],
      "text/plain": [
       "PreparedData(topic_coordinates=              x         y  topics  cluster       Freq\n",
       "topic                                                \n",
       "1     -0.149627  0.010054       1        1  85.978653\n",
       "4      0.023819 -0.105515       2        1  11.537072\n",
       "0      0.042903  0.041573       3        1   2.304863\n",
       "3      0.041823  0.027383       4        1   0.178125\n",
       "2      0.041082  0.026503       5        1   0.001284, topic_info=      Category         Freq               Term        Total  loglift  logprob\n",
       "term                                                                         \n",
       "211    Default  3320.000000             design  3320.000000  30.0000  30.0000\n",
       "1048   Default  2078.000000              glass  2078.000000  29.0000  29.0000\n",
       "28     Default  3253.000000               home  3253.000000  28.0000  28.0000\n",
       "2773   Default   554.000000          mixtgoods   554.000000  27.0000  27.0000\n",
       "2774   Default   554.000000  mixtgoods_product   554.000000  26.0000  26.0000\n",
       "24     Default  2674.000000          furniture  2674.000000  25.0000  25.0000\n",
       "502    Default  1972.000000            pendant  1972.000000  24.0000  24.0000\n",
       "74     Default  3787.000000               ring  3787.000000  23.0000  23.0000\n",
       "76     Default  1976.000000                set  1976.000000  22.0000  22.0000\n",
       "93     Default  2147.000000                art  2147.000000  21.0000  21.0000\n",
       "2121   Default   709.000000               bead   709.000000  20.0000  20.0000\n",
       "1087   Default  2211.000000             modern  2211.000000  19.0000  19.0000\n",
       "1204   Default  2240.000000              table  2240.000000  18.0000  18.0000\n",
       "707    Default  3096.000000                bed  3096.000000  17.0000  17.0000\n",
       "898    Default  2510.000000           shipping  2510.000000  16.0000  16.0000\n",
       "46     Default  3061.000000           necklace  3061.000000  15.0000  15.0000\n",
       "695    Default  1812.000000              print  1812.000000  14.0000  14.0000\n",
       "396    Default  1902.000000              green  1902.000000  13.0000  13.0000\n",
       "1075   Default  1531.000000              light  1531.000000  12.0000  12.0000\n",
       "1743   Default  1001.000000           handmade  1001.000000  11.0000  11.0000\n",
       "285    Default  2197.000000               blue  2197.000000  10.0000  10.0000\n",
       "4318   Default   507.000000           lampwork   507.000000   9.0000   9.0000\n",
       "1552   Default  1579.000000               lamp  1579.000000   8.0000   8.0000\n",
       "559    Default  2581.000000               shop  2581.000000   7.0000   7.0000\n",
       "674    Default  1614.000000             flower  1614.000000   6.0000   6.0000\n",
       "710    Default  2252.000000              chair  2252.000000   5.0000   5.0000\n",
       "378    Default  2713.000000               free  2713.000000   4.0000   4.0000\n",
       "75     Default  1988.000000              satin  1988.000000   3.0000   3.0000\n",
       "71     Default  1988.000000                red  1988.000000   2.0000   2.0000\n",
       "543    Default  1478.000000               rose  1478.000000   1.0000   1.0000\n",
       "...        ...          ...                ...          ...      ...      ...\n",
       "16669   Topic5     0.001653               aint    17.338572   2.0050  -9.8162\n",
       "15815   Topic5     0.001653             ardent    17.343346   2.0048  -9.8162\n",
       "15835   Topic5     0.001653            devotee    17.343346   2.0048  -9.8162\n",
       "15878   Topic5     0.001653             statue    17.343346   2.0048  -9.8162\n",
       "15857   Topic5     0.001653           mcnamara    17.343346   2.0048  -9.8162\n",
       "15855   Topic5     0.001653         leprechaun    17.343346   2.0048  -9.8162\n",
       "16681   Topic5     0.001653            flaming    17.352552   2.0042  -9.8162\n",
       "16678   Topic5     0.001653            denture    17.352552   2.0042  -9.8162\n",
       "16701   Topic5     0.001653           splendor    17.365015   2.0035  -9.8162\n",
       "16704   Topic5     0.001653             tamale    17.365015   2.0035  -9.8162\n",
       "15841   Topic5     0.001653              fritz    17.367830   2.0033  -9.8162\n",
       "15854   Topic5     0.001653              lazer    17.367830   2.0033  -9.8162\n",
       "11439   Topic5     0.004424         rockettoro    55.543262   1.8252  -8.8318\n",
       "11142   Topic5     0.004436           placenta    68.834244   1.6134  -8.8291\n",
       "14851   Topic5     0.004808             heller    77.944122   1.5696  -8.7486\n",
       "11143   Topic5     0.004100         placentero    77.538086   1.4155  -8.9079\n",
       "9295    Topic5     0.002310               egli    30.714121   1.7681  -9.4814\n",
       "16757   Topic5     0.002311       dusicadusica    30.729729   1.7677  -9.4813\n",
       "13669   Topic5     0.002219               miff    36.636337   1.5513  -9.5218\n",
       "7756    Topic5     0.002234              strok    44.124714   1.3723  -9.5148\n",
       "7174    Topic5     0.002234            gharani    44.125900   1.3723  -9.5148\n",
       "12106   Topic5     0.002075           toujours    50.921238   1.1552  -9.5888\n",
       "10336   Topic5     0.001890                lei   170.479248  -0.1464  -9.6820\n",
       "1774    Topic5     0.001872               kiss   259.520477  -0.5767  -9.6920\n",
       "7544    Topic5     0.001720            pendlar    73.492989   0.6006  -9.7764\n",
       "6808    Topic5     0.001731           assorted   100.439667   0.2943  -9.7704\n",
       "2912    Topic5     0.001737             ellips   129.611938   0.0431  -9.7666\n",
       "5387    Topic5     0.001763     sameunderneath   288.065948  -0.7408  -9.7518\n",
       "11801   Topic5     0.001701       spraygraphic    50.346329   0.9675  -9.7877\n",
       "5320    Topic5     0.001704               nino    78.545326   0.5244  -9.7861\n",
       "\n",
       "[320 rows x 6 columns], token_table=       Topic      Freq             Term\n",
       "term                                   \n",
       "5760       1  0.161722             8x12\n",
       "5760       2  0.080861             8x12\n",
       "5760       3  0.743923             8x12\n",
       "8131       1  0.698374         aguilera\n",
       "8131       2  0.183783         aguilera\n",
       "8131       3  0.073513         aguilera\n",
       "8131       4  0.036757         aguilera\n",
       "16669      1  0.519074             aint\n",
       "16669      2  0.288374             aint\n",
       "16669      3  0.173025             aint\n",
       "13948      1  0.916131         alistair\n",
       "13948      2  0.052651         alistair\n",
       "13948      3  0.021060         alistair\n",
       "13948      4  0.010530         alistair\n",
       "3456       1  0.736386         applique\n",
       "3456       2  0.020342         applique\n",
       "3456       3  0.244106         applique\n",
       "15815      1  0.518931           ardent\n",
       "15815      2  0.288295           ardent\n",
       "15815      3  0.172977           ardent\n",
       "4122       1  0.157594       aromaleigh\n",
       "4122       2  0.834321       aromaleigh\n",
       "4122       3  0.006180       aromaleigh\n",
       "93         1  0.791597              art\n",
       "93         2  0.204418              art\n",
       "93         3  0.003725              art\n",
       "1643       1  0.549778       art_design\n",
       "1643       2  0.444907       art_design\n",
       "1643       3  0.003178       art_design\n",
       "14305      1  0.244693         arzumusa\n",
       "...      ...       ...              ...\n",
       "1616       2  0.251441             wall\n",
       "1616       3  0.007395             wall\n",
       "730        1  0.558423        wallpaper\n",
       "730        2  0.436893        wallpaper\n",
       "730        3  0.003077        wallpaper\n",
       "12438      1  0.123024  wohnaccessoires\n",
       "12438      2  0.836560  wohnaccessoires\n",
       "12438      3  0.024605  wohnaccessoires\n",
       "207        1  0.991747            woman\n",
       "207        2  0.007627            woman\n",
       "207        3  0.000449            woman\n",
       "1928       1  0.746859             wood\n",
       "1928       2  0.249929             wood\n",
       "1928       3  0.001953             wood\n",
       "16577      1  0.873224          woodard\n",
       "16577      2  0.079384          woodard\n",
       "16577      3  0.031754          woodard\n",
       "16577      4  0.015877          woodard\n",
       "15608      1  0.215166           yemeni\n",
       "15608      2  0.107583           yemeni\n",
       "15608      3  0.667014           yemeni\n",
       "2895       1  0.186483      yoyobybahar\n",
       "2895       2  0.084765      yoyobybahar\n",
       "2895       3  0.728980      yoyobybahar\n",
       "12498      1  0.088946           zanisa\n",
       "12498      2  0.879579           zanisa\n",
       "12498      3  0.019766           zanisa\n",
       "12516      1  0.160917              zid\n",
       "12516      2  0.819908              zid\n",
       "12516      3  0.015325              zid\n",
       "\n",
       "[898 rows x 3 columns], R=30, lambda_step=0.01, plot_opts={'xlab': 'PC1', 'ylab': 'PC2'}, topic_order=[2, 5, 1, 4, 3])"
      ]
     },
     "execution_count": 126,
     "metadata": {},
     "output_type": "execute_result"
    }
   ],
   "source": [
    "import pyLDAvis\n",
    "corpora.MmCorpus.serialize('corpus.mm', bow_corpus)\n",
    "import pyLDAvis.gensim\n",
    "dtm = gensim.corpora.MmCorpus('corpus.mm')\n",
    "pyLDAvis.enable_notebook()\n",
    "\n",
    "data = pyLDAvis.gensim.prepare(lda_model_tfidf,dtm , word_dict)\n",
    "data"
   ]
  }
 ],
 "metadata": {
  "kernelspec": {
   "display_name": "Python 3",
   "language": "python",
   "name": "python3"
  },
  "language_info": {
   "codemirror_mode": {
    "name": "ipython",
    "version": 3
   },
   "file_extension": ".py",
   "mimetype": "text/x-python",
   "name": "python",
   "nbconvert_exporter": "python",
   "pygments_lexer": "ipython3",
   "version": "3.7.1"
  }
 },
 "nbformat": 4,
 "nbformat_minor": 2
}
